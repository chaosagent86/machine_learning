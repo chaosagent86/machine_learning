{
  "cells": [
    {
      "cell_type": "markdown",
      "metadata": {
        "id": "view-in-github",
        "colab_type": "text"
      },
      "source": [
        "<a href=\"https://colab.research.google.com/github/chaosagent86/machine_learning/blob/main/Abschlussprojekt.ipynb\" target=\"_parent\"><img src=\"https://colab.research.google.com/assets/colab-badge.svg\" alt=\"Open In Colab\"/></a>"
      ]
    },
    {
      "cell_type": "markdown",
      "source": [
        "# Abschlussprojekt\n",
        "**Bearbeitende:**\n",
        "*   Baier, Sebastian\n",
        "*   Figlmüller, Magdalena"
      ],
      "metadata": {
        "id": "7takunaQbN_M"
      }
    },
    {
      "cell_type": "markdown",
      "source": [
        "## Allgemeine Angaben\n",
        "\n",
        "**Vorgabe:**\n",
        "```\n",
        "The goal: Use a group-dependent subset of the well known mnist data-set\n",
        "to train and compare two models which do a binary classification.\n",
        "\n",
        "To get the group-specific data set you need two numbers\n",
        "1. the group number, which is the 6 digit number obtained by concatenating\n",
        "the last three digits of the group members student IDs and use\n",
        "this group number.\n",
        "2. the group digit which is the third digit of your group number.\n",
        "```\n",
        "\n",
        "**Daraus ergeben sich folgende Angaben:**\n",
        "\n",
        "*   Baier: 2310542002 --> 002\n",
        "*   Figlmüller: 2310542017 --> 017\n",
        "\n",
        "**Gruppennummer:** 002017  \n",
        "**Gruppenziffer:** 2"
      ],
      "metadata": {
        "id": "3vBOG3SsbNCp"
      }
    },
    {
      "cell_type": "markdown",
      "source": [
        "# Aufgabe 1.1\n",
        "\n",
        "```\n",
        "1. Work through the provided code and explain the model. In particular\n",
        "explain what the SGD-Classifier does/ how it works? If helpful, extend\n",
        "the code to clarify what is the concept of the model, what it predicts,\n",
        "etc. Finally explain the model evaluation.\n",
        "```"
      ],
      "metadata": {
        "id": "dtRvhiJVPa_W"
      }
    },
    {
      "cell_type": "markdown",
      "source": [
        "# SGD Classifier\n",
        "\n",
        "Der SGD Classifier verwendet den sogenannten **S**tochastic **G**radient **D**escent (SGD) Algorithmus. Es handelt sich dabei um einen recht einfachen aber dafür sehr effizienten Ansatz um Daten zu klassifizieren. Insbesondere, wenn es sich um große Datensätze handelt (bspw. Text Klassifizierung oder auch die Prozessierung natürlicher Sprache) und bei dem die Daten inkrementell verarbeitet werden (können).\n",
        "\n",
        "Bei **Gradient Descent* handelt es sich um ein Optimierungsverfahren, das die Parameter des Modells nach und nach optimiert. Dabei kann es sich beispielsweise um die Parameter einer linearen Regression handeln. Das passiert dahingehend, als dass die sogenannte Loss-Funktion versucht wird zu minimieren. Diese misst, wie gut das Modell die Trainingsdaten vorhersagt.\n",
        "\n",
        "Normalerweise wird bei einem traditionellen Gradient Descent der entsprechende Gradient über den kompletten Datensatz berechnet. Durch den Zusatz **Stochastic** werden die Trainingsparameter nach jeder einzelnen Trainingsbeobachtung bzw. Mini-Batches aktualisiert. In der Folge werden häufiger Updates durchgeführt, was anscheinend insbesondere bei großen Datensätzen effizienter sein kann.\n",
        "\n",
        "Der SGD Classifier verwendet üblicherweise entweder eine logistische Regression oder Support Vector Machines um Modelle zu trainieren.\n",
        "\n",
        "Basierend auf dieser Seite\n",
        "https://scikit-learn.org/stable/modules/generated/sklearn.linear_model.SGDClassifier.html#sklearn.linear_model.SGDClassifier\n",
        "\n",
        "und dem folgenden Code-Abschnitt\n",
        "```\n",
        "sgd_clf = SGDClassifier(max_iter=1000, tol=1e-3, random_state=42)\n",
        "sgd_clf.fit(X_train, y_train_2)\n",
        "```\n",
        "greifen die Standardparameter. In dem uns bereitgestellten Code wäre das loss=\"hinge\", wobei hinge für eine lineare Support Vector Machine (SVM) steht. Dementsprechend wurden eine SVM in unserem SGD Classifier für das Training der Daten verwendet.\n",
        "\n",
        "Im Allgemeinen erfolgen folgende Schritte um die Daten zu trainieren:\n",
        "1) Die Trainingsdaten und Testdaten werden erzeugt bzw. entsprechend aufgesplittet\n",
        "2) Die Modellparameter werden initialisiert\n",
        "3) Der Algorithmus durchläuft die Trainingsdaten mehrmals, wobei dieser in jeder Iteration die Gradienten der Verlustfunktion bezüglich der Modellparameter berechnet.\n",
        "4) Nach jeder einzelnen Trainingsbeobachtung werden die Modellparameter optimiert bzw. aktualisiert.\n",
        "5) Das ganze läuft so lange, bis entweder das Maximum an Iterationen erreicht ist oder die Verlustfunktion einen festgelegten Schwellenwert unterschreitet.\n",
        "\n",
        "Zur Evaluierung des Modells stehen bspw. die Confusion Matrix oder der Accuracy Score zur Verfügung. Ersterer hilft dabei zu verstehen, wie gut die Klassifizierung im Allgemeinen funktioniert hat und wäre vermutlich auch insbesondere hilfreich, wenn man mehrere Klassen parallel trainiert um zu sehen wo die größten Probleme bestehen (=häufig falsch klassifiziert wird) und welche Klassen besonders gut klassifiziert werden (=sehr hohe Anzahl an True Positives).\n",
        "\n",
        "Der Accuracy Score zeigt einfach nur die Anzahl der korrekt vorhergesagten Beobachtungen an und ist ein schneller Indikator dafür wie gut das Modell funktioniert.\n",
        "\n",
        "Zusätzlich besteht die Möglichkeit einen sogenannten Classification Report zu erstellen. Dieser gibt Aufschluss über die Genauigkeit und Robustheit des Modells in dem es genaue Informationen darüber gibt, wie die Daten verteilt sind, wie gut die Vorhersage für \"False\" und für \"True\" funktioniert, wie viele Instanzen überhaupt relevant waren für das Training etc.\n"
      ],
      "metadata": {
        "id": "_S3lIli6p8mN"
      }
    },
    {
      "cell_type": "markdown",
      "metadata": {
        "id": "9-Zt55odzq9n"
      },
      "source": [
        "## Setup des Python-Projektes"
      ]
    },
    {
      "cell_type": "markdown",
      "source": [
        "Der unten stehende Code (im Original aus einem Code Block bestehend) ist erstmal nur dazu da, notwendige Packages zu laden. Relevant für uns ist insbesondere das Paket *sklearn*, da es für das machinelle Lernen von Relevanz ist.\n",
        "Andere Pakete sind bspw. *sys*, *numpy* und *os* sowie *matplotlib*.\n",
        "\n",
        "*   **sys** --> dient der Konfiguration von Python selbst\n",
        "*   **sklearn** --> ein mittlerweile 'deprecated' Paket zur Verwendung von Machine Learning Algorithmen (Vergleich: https://pypi.org/project/sklearn/); *Aktuell wäre hier scikit-learn*\n",
        "*   **numpy** --> Relevant um mit Arrays innerhalb von Python zu arbeiten\n",
        "*   **matplotlib** --> Package zur Erstellung statischer, animierter und interaktiver Visualisierungen in Python\n",
        "\n",
        "Relevant ist an dieser Stelle ebenfalls, ob mit der korrekten Python Version (>= 3.5) gearbeitet wird, ob es sich um ein Google Colab oder ein Kaggle Dokument handelt sowie die Überprüfung der sklearn Version (>= 0.20)."
      ],
      "metadata": {
        "id": "1gemcfuRQSQL"
      }
    },
    {
      "cell_type": "code",
      "source": [
        "# Python ≥3.5 is required\n",
        "import sys\n",
        "assert sys.version_info >= (3, 5)\n",
        "\n",
        "# Is this notebook running on Colab or Kaggle?\n",
        "IS_COLAB = \"google.colab\" in sys.modules\n",
        "IS_KAGGLE = \"kaggle_secrets\" in sys.modules\n",
        "\n",
        "# Scikit-Learn ≥0.20 is required\n",
        "import sklearn\n",
        "assert sklearn.__version__ >= \"0.20\"\n",
        "\n",
        "# Common imports\n",
        "import numpy as np\n",
        "import os\n",
        "\n",
        "# to make this notebook's output stable across runs\n",
        "np.random.seed(42)\n",
        "\n",
        "# To plot pretty figures\n",
        "%matplotlib inline\n",
        "import matplotlib as mpl\n",
        "import matplotlib.pyplot as plt"
      ],
      "metadata": {
        "id": "89KI910dQOW9"
      },
      "execution_count": null,
      "outputs": []
    },
    {
      "cell_type": "markdown",
      "source": [
        "Im folgenden Code Abschnitt werden weitere Parameter festgelegt. Primär geht es hierbei um die Abmessungen der Bilder sowie der Schriftgrößen, der Festlegung diverser Verzeichnisse.\n",
        "Schließlich wird noch eine Funktion definiert *save_fig* zum abspeichern von erstellten Grafiken."
      ],
      "metadata": {
        "id": "WqYvBAl9bRWN"
      }
    },
    {
      "cell_type": "code",
      "metadata": {
        "jupyter": {
          "is_executing": true
        },
        "id": "JOuOSvsAzq9o"
      },
      "source": [
        "mpl.rc('axes', labelsize=14)\n",
        "mpl.rc('xtick', labelsize=12)\n",
        "mpl.rc('ytick', labelsize=12)\n",
        "\n",
        "# Where to save the figures\n",
        "PROJECT_ROOT_DIR = \".\"\n",
        "CHAPTER_ID = \"classification\"\n",
        "IMAGES_PATH = os.path.join(PROJECT_ROOT_DIR, \"images\", CHAPTER_ID)\n",
        "os.makedirs(IMAGES_PATH, exist_ok=True)\n",
        "\n",
        "def save_fig(fig_id, tight_layout=True, fig_extension=\"png\", resolution=300):\n",
        "    path = os.path.join(IMAGES_PATH, fig_id + \".\" + fig_extension)\n",
        "    print(\"Saving figure\", fig_id)\n",
        "    if tight_layout:\n",
        "        plt.tight_layout()\n",
        "    plt.savefig(path, format=fig_extension, dpi=resolution)"
      ],
      "outputs": [],
      "execution_count": null
    },
    {
      "cell_type": "markdown",
      "metadata": {
        "id": "QibyRrTozq9p"
      },
      "source": [
        "## MNIST (Modified National Institute of Standards and Technology database)\n",
        "\n",
        "Im folgenden wird der MNIST Datensatz von OpenML geladen (siehe https://www.openml.org/search?type=data&sort=runs&id=554&status=active) welcher laut dieser Seite 784 Features beinhaltet, 60.000 Beispiele sowie ein Testset von 10.0000 Datenpunkten. Die Funktion hierfür ist *fetch_openml()*.\n",
        "\n",
        "Die Bilder sind 28x28 Pixel groß.\n",
        "\n",
        "Mittels der Funktion np.random.choice wird anschließend ein Test-Datensatz festgelegt, welcher später in den Zeilen...\n",
        "\n",
        "```\n",
        "X = mnist.data[indices]\n",
        "y = mnist.target[indices]\n",
        "```\n",
        "\n",
        "... tatsächlich als Datensatz auch geladen wird. Die Funktion *mnist.keys()* zeigt anschließend noch die Schlüssel des Datensatzes an. Dies kann sehr hilfreich sein um den Datensatz besser verstehen zu können."
      ]
    },
    {
      "cell_type": "code",
      "execution_count": null,
      "metadata": {
        "id": "I07fYeQWzq9q",
        "colab": {
          "base_uri": "https://localhost:8080/"
        },
        "outputId": "49798a79-f13b-4285-c87a-87b5e12bb51a"
      },
      "outputs": [
        {
          "output_type": "stream",
          "name": "stderr",
          "text": [
            "/usr/local/lib/python3.10/dist-packages/sklearn/datasets/_openml.py:968: FutureWarning: The default value of `parser` will change from `'liac-arff'` to `'auto'` in 1.4. You can set `parser='auto'` to silence this warning. Therefore, an `ImportError` will be raised from 1.4 if the dataset is dense and pandas is not installed. Note that the pandas parser may return different data types. See the Notes Section in fetch_openml's API doc for details.\n",
            "  warn(\n"
          ]
        },
        {
          "output_type": "execute_result",
          "data": {
            "text/plain": [
              "dict_keys(['data', 'target', 'frame', 'categories', 'feature_names', 'target_names', 'DESCR', 'details', 'url'])"
            ]
          },
          "metadata": {},
          "execution_count": 3
        }
      ],
      "source": [
        "from sklearn.datasets import fetch_openml\n",
        "import numpy as np\n",
        "\n",
        "# Load the MNIST dataset\n",
        "mnist = fetch_openml('mnist_784', as_frame=False)\n",
        "\n",
        "mnist\n",
        "\n",
        "# Set the random seed\n",
        "np.random.seed(2017) #002017 does not work!\n",
        "\n",
        "# Get indices for random selection\n",
        "indices = np.random.choice(mnist.data.shape[0], 10000, replace=False)\n",
        "\n",
        "# Select subset using the indices\n",
        "# mnist = mnist[indices]\n",
        "X = mnist.data[indices]\n",
        "y = mnist.target[indices]\n",
        "mnist.keys()"
      ]
    },
    {
      "cell_type": "markdown",
      "source": [
        "Die Folgenden zwei Codeblöcke (X.shape sowie y.shape) geben lediglich Werte aus. Dies kann kann verwendet werden um zu verstehen, ob der Datensatz korrekt geladen wurde. Die Feature-Anzahl passt mit den Recherchere-Werten zusammen und auch die Anzahl der Datensätze welche viar *np.random.choice()* geladen wurden, passt mit diesen Werten zusammen."
      ],
      "metadata": {
        "id": "vSZih8wbtbEw"
      }
    },
    {
      "cell_type": "code",
      "execution_count": null,
      "metadata": {
        "id": "lEYwaOk0zq9s",
        "colab": {
          "base_uri": "https://localhost:8080/"
        },
        "outputId": "aa79d3dc-3d54-4c8b-ec76-a90c216064ff"
      },
      "outputs": [
        {
          "output_type": "execute_result",
          "data": {
            "text/plain": [
              "(10000, 784)"
            ]
          },
          "metadata": {},
          "execution_count": 4
        }
      ],
      "source": [
        "X.shape"
      ]
    },
    {
      "cell_type": "code",
      "execution_count": null,
      "metadata": {
        "id": "qKfUBBvEzq9s",
        "colab": {
          "base_uri": "https://localhost:8080/"
        },
        "outputId": "a0757ac1-c601-481e-c71b-6127a4b73123"
      },
      "outputs": [
        {
          "output_type": "execute_result",
          "data": {
            "text/plain": [
              "(10000,)"
            ]
          },
          "metadata": {},
          "execution_count": 5
        }
      ],
      "source": [
        "y.shape"
      ]
    },
    {
      "cell_type": "markdown",
      "source": [
        "*%matplotlib inline* wird hier verwendet um sicherzugehen, dass die Diagramme innerhalb von Google Colab bzw spezifischer Jupyter Notebooks angezeigt werden könen. Etwas irritierend ist hier der nochmalige Import der matplotlib library, da wir das bereits am Anfang machten.\n",
        "\n",
        "X ist hier ein Array. Demnach wird mit\n",
        "```\n",
        "some_digit = X[1]\n",
        "```\n",
        "auf das erste (nicht nullte) Element von X zugegriffen und in some_digit gespeichert. Anschließend erfolgt ein reskalieren auf 28x28 Pixel und dieses wird in some_digit_image abgespeichert. Mittels der Funktion plt.imshow erfolgt anschließed die Anzeige des Plots.\n",
        "\n",
        "Die Funktion\n",
        "\n",
        "```\n",
        "plt.axis(\"off\")\n",
        "```\n",
        "\n",
        "sorgt hierbei dafür, dass die Pixel nicht angezeigt werden als X- und Y-Skala. Codeblock dient hier lediglich zur Visualisierung um zu schauen ob die Daten auch wirklich vorhanden sind. Demnach ist es völlig egal, was in X bzw. some_digit eingelesen wird an dieser Stelle.\n",
        "\n",
        "\n"
      ],
      "metadata": {
        "id": "HZ9aGIHw80bV"
      }
    },
    {
      "cell_type": "code",
      "execution_count": null,
      "metadata": {
        "id": "0USmCcZFzq9t",
        "colab": {
          "base_uri": "https://localhost:8080/",
          "height": 505
        },
        "outputId": "9304a6ea-923b-47cc-921c-2dbcc23ce9c1"
      },
      "outputs": [
        {
          "output_type": "stream",
          "name": "stdout",
          "text": [
            "Saving figure some_digit_plot\n"
          ]
        },
        {
          "output_type": "display_data",
          "data": {
            "text/plain": [
              "<Figure size 640x480 with 1 Axes>"
            ],
            "image/png": "[encoded data removed]"
          },
          "metadata": {}
        }
      ],
      "source": [
        "%matplotlib inline\n",
        "import matplotlib as mpl\n",
        "import matplotlib.pyplot as plt\n",
        "\n",
        "some_digit = X[5]\n",
        "some_digit_image = some_digit.reshape(28, 28)\n",
        "plt.imshow(some_digit_image, cmap=mpl.cm.binary)\n",
        "plt.axis(\"off\")\n",
        "\n",
        "save_fig(\"some_digit_plot\")\n",
        "plt.show()"
      ]
    },
    {
      "cell_type": "markdown",
      "source": [
        "In Y dagegen liegt nicht das Bild sondern dir korrekte Klassifizierung."
      ],
      "metadata": {
        "id": "JgaU7Hj-Fplx"
      }
    },
    {
      "cell_type": "code",
      "execution_count": null,
      "metadata": {
        "id": "vvB-RmtQzq9t",
        "colab": {
          "base_uri": "https://localhost:8080/",
          "height": 35
        },
        "outputId": "f392fb55-aef9-445b-b7ef-1a06f3366794"
      },
      "outputs": [
        {
          "output_type": "execute_result",
          "data": {
            "text/plain": [
              "'0'"
            ],
            "application/vnd.google.colaboratory.intrinsic+json": {
              "type": "string"
            }
          },
          "metadata": {},
          "execution_count": 7
        }
      ],
      "source": [
        "y[2]"
      ]
    },
    {
      "cell_type": "markdown",
      "source": [
        "Hier wird y gecastetd in einen unsigned integer mit 8 Bit Länge."
      ],
      "metadata": {
        "id": "H7867_qHPeHR"
      }
    },
    {
      "cell_type": "code",
      "execution_count": null,
      "metadata": {
        "id": "c5NjY_MUzq9u"
      },
      "outputs": [],
      "source": [
        "y = y.astype(np.uint8)"
      ]
    },
    {
      "cell_type": "markdown",
      "source": [
        "An dieser Stelle wird der Datensatz in einen Trainings- und Testdatensatz aufgeteilt. Dabei sollen die ersten 8.000 Datensätze für das Training verwendet werden und die restlichen 2.000 für das Testen. Es wird also 80/20 aufgeteilt."
      ],
      "metadata": {
        "id": "ZFBwBp6VPynR"
      }
    },
    {
      "cell_type": "code",
      "execution_count": null,
      "metadata": {
        "id": "G8Q3o3gZzq9w"
      },
      "outputs": [],
      "source": [
        "X_train, X_test, y_train, y_test = X[:8000], X[8000:], y[:8000], y[8000:]"
      ]
    },
    {
      "cell_type": "markdown",
      "metadata": {
        "id": "Ia28ntNEzq9w"
      },
      "source": [
        "## Training des binären Klassifikators"
      ]
    },
    {
      "cell_type": "markdown",
      "source": [
        "An dieser Stelle ist es jetzt wichtig, dass der Original-Code weiter bearbeitet wird. Im Original-Code steht hier folgendes:\n",
        "```\n",
        "y_train_5 = (y_train == 5)\n",
        "y_test_5 = (y_test == 5)\n",
        "```\n",
        "Dies bedeutet, dass auf der rechten Seite *y_train == 5* die Zielziffer auf fünf gesetzt wird und diese für das Training herangezogen wird.\n",
        "\n",
        "Laut Aufgabenstellung ist unsere Gruppenziffer allerdings die **zwei (2)**. Um theoretische bis hin zu potentiellen Missverständnissen hinsichtlich des Codes zu vermeiden wird nicht nur die Zuweisung sondern werden in Folge auch sämtliche Variablenbezeichnungen korrekt umbenannt."
      ],
      "metadata": {
        "id": "kAlM2tHBQRRw"
      }
    },
    {
      "cell_type": "code",
      "execution_count": null,
      "metadata": {
        "id": "a0kLEIgVzq9w"
      },
      "outputs": [],
      "source": [
        "y_train_2 = (y_train == 2)\n",
        "y_test_2 = (y_test == 2)"
      ]
    },
    {
      "cell_type": "code",
      "execution_count": null,
      "metadata": {
        "id": "Eu_ljOR1zq9w",
        "colab": {
          "base_uri": "https://localhost:8080/"
        },
        "outputId": "7ca8a711-4721-4868-e7d1-225905875cb6"
      },
      "outputs": [
        {
          "output_type": "execute_result",
          "data": {
            "text/plain": [
              "array([ True,  True,  True,  True,  True,  True,  True,  True,  True,\n",
              "        True,  True,  True,  True,  True,  True,  True,  True,  True,\n",
              "        True,  True,  True,  True,  True,  True,  True,  True,  True,\n",
              "        True,  True,  True,  True,  True,  True,  True,  True,  True,\n",
              "        True,  True,  True,  True,  True,  True,  True,  True,  True,\n",
              "        True,  True,  True,  True,  True,  True,  True,  True,  True,\n",
              "        True,  True,  True,  True,  True,  True,  True,  True,  True,\n",
              "        True,  True,  True,  True,  True,  True,  True,  True,  True,\n",
              "        True,  True,  True,  True,  True,  True,  True,  True,  True,\n",
              "        True,  True,  True,  True,  True,  True,  True,  True,  True,\n",
              "        True,  True,  True,  True,  True,  True,  True,  True,  True,\n",
              "        True,  True,  True,  True,  True,  True,  True,  True,  True,\n",
              "        True,  True,  True,  True,  True,  True,  True,  True,  True,\n",
              "        True,  True,  True,  True,  True,  True,  True,  True,  True,\n",
              "        True,  True,  True,  True,  True,  True,  True,  True,  True,\n",
              "        True,  True,  True,  True,  True,  True,  True,  True,  True,\n",
              "        True,  True,  True,  True,  True,  True,  True,  True,  True,\n",
              "        True,  True,  True,  True,  True,  True,  True,  True,  True,\n",
              "        True,  True,  True,  True,  True,  True,  True,  True,  True,\n",
              "        True,  True,  True,  True,  True,  True,  True,  True,  True,\n",
              "        True,  True,  True,  True,  True,  True,  True,  True,  True,\n",
              "        True,  True,  True,  True,  True,  True,  True,  True,  True,\n",
              "        True,  True,  True,  True,  True,  True,  True,  True,  True,\n",
              "        True,  True,  True,  True,  True,  True,  True,  True,  True,\n",
              "        True,  True,  True,  True,  True,  True,  True,  True,  True,\n",
              "        True,  True,  True,  True,  True,  True,  True,  True,  True,\n",
              "        True,  True,  True,  True,  True,  True,  True,  True,  True,\n",
              "        True,  True,  True,  True,  True,  True,  True,  True,  True,\n",
              "        True,  True,  True,  True,  True,  True,  True,  True,  True,\n",
              "        True,  True,  True,  True,  True,  True,  True,  True,  True,\n",
              "        True,  True,  True,  True,  True,  True,  True,  True,  True,\n",
              "        True,  True,  True,  True,  True,  True,  True,  True,  True,\n",
              "        True,  True,  True,  True,  True,  True,  True,  True,  True,\n",
              "        True,  True,  True,  True,  True,  True,  True,  True,  True,\n",
              "        True,  True,  True,  True,  True,  True,  True,  True,  True,\n",
              "        True,  True,  True,  True,  True,  True,  True,  True,  True,\n",
              "        True,  True,  True,  True,  True,  True,  True,  True,  True,\n",
              "        True,  True,  True,  True,  True,  True,  True,  True,  True,\n",
              "        True,  True,  True,  True,  True,  True,  True,  True,  True,\n",
              "        True,  True,  True,  True,  True,  True,  True,  True,  True,\n",
              "        True,  True,  True,  True,  True,  True,  True,  True,  True,\n",
              "        True,  True,  True,  True,  True,  True,  True,  True,  True,\n",
              "        True,  True,  True,  True,  True,  True,  True,  True,  True,\n",
              "        True,  True,  True,  True,  True,  True,  True,  True,  True,\n",
              "        True,  True,  True,  True,  True,  True,  True,  True,  True,\n",
              "        True,  True,  True,  True,  True,  True,  True,  True,  True,\n",
              "        True,  True,  True,  True,  True,  True,  True,  True,  True,\n",
              "        True,  True,  True,  True,  True,  True,  True,  True,  True,\n",
              "        True,  True,  True,  True,  True,  True,  True,  True,  True,\n",
              "        True,  True,  True,  True,  True,  True,  True,  True,  True,\n",
              "        True,  True,  True,  True,  True,  True,  True,  True,  True,\n",
              "        True,  True,  True,  True,  True,  True,  True,  True,  True,\n",
              "        True,  True,  True,  True,  True,  True,  True,  True,  True,\n",
              "        True,  True,  True,  True,  True,  True,  True,  True,  True,\n",
              "        True,  True,  True,  True,  True,  True,  True,  True,  True,\n",
              "        True,  True,  True,  True,  True,  True,  True,  True,  True,\n",
              "        True,  True,  True,  True,  True,  True,  True,  True,  True,\n",
              "        True,  True,  True,  True,  True,  True,  True,  True,  True,\n",
              "        True,  True,  True,  True,  True,  True,  True,  True,  True,\n",
              "        True,  True,  True,  True,  True,  True,  True,  True,  True,\n",
              "        True,  True,  True,  True,  True,  True,  True,  True,  True,\n",
              "        True,  True,  True,  True,  True,  True,  True,  True,  True,\n",
              "        True,  True,  True,  True,  True,  True,  True,  True,  True,\n",
              "        True,  True,  True,  True,  True,  True,  True,  True,  True,\n",
              "        True,  True,  True,  True,  True,  True,  True,  True,  True,\n",
              "        True,  True,  True,  True,  True,  True,  True,  True,  True,\n",
              "        True,  True,  True,  True,  True,  True,  True,  True,  True,\n",
              "        True,  True,  True,  True,  True,  True,  True,  True,  True,\n",
              "        True,  True,  True,  True,  True,  True,  True,  True,  True,\n",
              "        True,  True,  True,  True,  True,  True,  True,  True,  True,\n",
              "        True,  True,  True,  True,  True,  True,  True,  True,  True,\n",
              "        True,  True,  True,  True,  True,  True,  True,  True,  True,\n",
              "        True,  True,  True,  True,  True,  True,  True,  True,  True,\n",
              "        True,  True,  True,  True,  True,  True,  True,  True,  True,\n",
              "        True,  True,  True,  True,  True,  True,  True,  True,  True,\n",
              "        True,  True,  True,  True,  True,  True,  True,  True,  True,\n",
              "        True,  True,  True,  True,  True,  True,  True,  True,  True,\n",
              "        True,  True,  True,  True,  True,  True,  True,  True,  True,\n",
              "        True,  True,  True,  True,  True,  True,  True,  True,  True,\n",
              "        True,  True,  True,  True,  True,  True,  True,  True,  True,\n",
              "        True,  True,  True,  True,  True,  True,  True,  True,  True,\n",
              "        True,  True,  True,  True,  True,  True,  True,  True,  True,\n",
              "        True,  True,  True,  True,  True,  True,  True,  True,  True,\n",
              "        True,  True,  True,  True,  True,  True,  True,  True,  True,\n",
              "        True,  True,  True,  True,  True,  True,  True,  True,  True,\n",
              "        True,  True,  True,  True,  True,  True,  True,  True,  True,\n",
              "        True,  True,  True,  True,  True,  True,  True,  True,  True,\n",
              "        True,  True,  True,  True,  True,  True,  True,  True,  True,\n",
              "        True,  True,  True,  True,  True,  True,  True,  True,  True,\n",
              "        True,  True,  True,  True,  True,  True,  True,  True,  True,\n",
              "        True,  True,  True,  True,  True,  True,  True,  True,  True,\n",
              "        True,  True,  True])"
            ]
          },
          "metadata": {},
          "execution_count": 11
        }
      ],
      "source": [
        "y_train_2[y_train_2 == True]"
      ]
    },
    {
      "cell_type": "markdown",
      "source": [
        "Nun sind wir einen Schritt weiter. Vorhin haben wir unseren Trainings- und Testdatensatz erstellt. Nun laden wir den SGDClassifier aus dem Paket sklearn.linear_model.\n",
        "\n",
        "Weiters erstellen wir ein Objekt sgd_clf der Klasse SGDClassifier und übergeben an diesen diverse Parameter, welche wie folgt zu interpretieren sind:\n",
        "\n",
        "\n",
        "*   *max_iter=1000* --> gibt die maximale Anzahl an Iterationen an, welche der Algorithmus durchlaufen soll. In unserem Fall sind das 1000.\n",
        "*   *tol_1e-3* --> legt die Toleranz für die Konvergenz fest. Wenn die Änderung der loss-Funktion (=Verlustfunktion) zwischen den einzelnen Iterationen kleiner als der hier angegebene Wert ist, dann führt das zu einem Stopp des Trainings.\n",
        "*   *random_state=42* --> ähnlich seed(). Dient dazu, die Ergebnisse reproduzierbar zu machen.\n",
        "\n",
        "Anschließend erfolgt das eigentliche Training über die Funktion *sgd_clf.fit*. Hier erhält der Classifier über X_train die Bilder und über y_train_2 die Klassifikation bzw. die entsprechenden Labels. Nach einiger Zeit sollte hier anschließend ein Modell erstellt sein, welches sich über die Iterationen immer weiter angepasst hat.\n",
        "\n",
        "Gemäß folgender Quelle: https://scikit-learn.org/stable/modules/generated/sklearn.linear_model.SGDClassifier.html\n",
        "handelt es sich beim 'stochastic gradient descent' (SGD) Classifier um einen linearen Classifier, welcher \"regularized linear models\" verwendet. Nach unserem Verständnis handelt es sich hierbei um eine Implementierung von sogenannten Elastic nets (sprich einer recht dynamischen Implementierung von LASSO und Ridge-Algorithmen). Diese finden Verwendung um die Feature-Anzahl bzw. Anzahl an Dimensionen zu reduzieren und damit das Modell etwas weniger komplex werden zu lassen, was in Folge wiederrum hilft um die Wahrscheinlichkeit für ein sogenanntes Overfitting des Modells zu verringern oder idealerweise ganz vermeiden zu können. LASSO lässt hierbei Features völlig entfallen (Beta = Null) während Beta bei Ridge nur gegen Null tendiert aber niemals null wird."
      ],
      "metadata": {
        "id": "ttvbFMXHRSUg"
      }
    },
    {
      "cell_type": "code",
      "execution_count": null,
      "metadata": {
        "id": "nWLMsB2Rzq9w",
        "colab": {
          "base_uri": "https://localhost:8080/",
          "height": 75
        },
        "outputId": "62fd241c-b8e2-4cd0-a740-fef0d24a3a3c"
      },
      "outputs": [
        {
          "output_type": "execute_result",
          "data": {
            "text/plain": [
              "SGDClassifier(random_state=42)"
            ],
            "text/html": [
              "<style>#sk-container-id-1 {color: black;background-color: white;}#sk-container-id-1 pre{padding: 0;}#sk-container-id-1 div.sk-toggleable {background-color: white;}#sk-container-id-1 label.sk-toggleable__label {cursor: pointer;display: block;width: 100%;margin-bottom: 0;padding: 0.3em;box-sizing: border-box;text-align: center;}#sk-container-id-1 label.sk-toggleable__label-arrow:before {content: \"▸\";float: left;margin-right: 0.25em;color: #696969;}#sk-container-id-1 label.sk-toggleable__label-arrow:hover:before {color: black;}#sk-container-id-1 div.sk-estimator:hover label.sk-toggleable__label-arrow:before {color: black;}#sk-container-id-1 div.sk-toggleable__content {max-height: 0;max-width: 0;overflow: hidden;text-align: left;background-color: #f0f8ff;}#sk-container-id-1 div.sk-toggleable__content pre {margin: 0.2em;color: black;border-radius: 0.25em;background-color: #f0f8ff;}#sk-container-id-1 input.sk-toggleable__control:checked~div.sk-toggleable__content {max-height: 200px;max-width: 100%;overflow: auto;}#sk-container-id-1 input.sk-toggleable__control:checked~label.sk-toggleable__label-arrow:before {content: \"▾\";}#sk-container-id-1 div.sk-estimator input.sk-toggleable__control:checked~label.sk-toggleable__label {background-color: #d4ebff;}#sk-container-id-1 div.sk-label input.sk-toggleable__control:checked~label.sk-toggleable__label {background-color: #d4ebff;}#sk-container-id-1 input.sk-hidden--visually {border: 0;clip: rect(1px 1px 1px 1px);clip: rect(1px, 1px, 1px, 1px);height: 1px;margin: -1px;overflow: hidden;padding: 0;position: absolute;width: 1px;}#sk-container-id-1 div.sk-estimator {font-family: monospace;background-color: #f0f8ff;border: 1px dotted black;border-radius: 0.25em;box-sizing: border-box;margin-bottom: 0.5em;}#sk-container-id-1 div.sk-estimator:hover {background-color: #d4ebff;}#sk-container-id-1 div.sk-parallel-item::after {content: \"\";width: 100%;border-bottom: 1px solid gray;flex-grow: 1;}#sk-container-id-1 div.sk-label:hover label.sk-toggleable__label {background-color: #d4ebff;}#sk-container-id-1 div.sk-serial::before {content: \"\";position: absolute;border-left: 1px solid gray;box-sizing: border-box;top: 0;bottom: 0;left: 50%;z-index: 0;}#sk-container-id-1 div.sk-serial {display: flex;flex-direction: column;align-items: center;background-color: white;padding-right: 0.2em;padding-left: 0.2em;position: relative;}#sk-container-id-1 div.sk-item {position: relative;z-index: 1;}#sk-container-id-1 div.sk-parallel {display: flex;align-items: stretch;justify-content: center;background-color: white;position: relative;}#sk-container-id-1 div.sk-item::before, #sk-container-id-1 div.sk-parallel-item::before {content: \"\";position: absolute;border-left: 1px solid gray;box-sizing: border-box;top: 0;bottom: 0;left: 50%;z-index: -1;}#sk-container-id-1 div.sk-parallel-item {display: flex;flex-direction: column;z-index: 1;position: relative;background-color: white;}#sk-container-id-1 div.sk-parallel-item:first-child::after {align-self: flex-end;width: 50%;}#sk-container-id-1 div.sk-parallel-item:last-child::after {align-self: flex-start;width: 50%;}#sk-container-id-1 div.sk-parallel-item:only-child::after {width: 0;}#sk-container-id-1 div.sk-dashed-wrapped {border: 1px dashed gray;margin: 0 0.4em 0.5em 0.4em;box-sizing: border-box;padding-bottom: 0.4em;background-color: white;}#sk-container-id-1 div.sk-label label {font-family: monospace;font-weight: bold;display: inline-block;line-height: 1.2em;}#sk-container-id-1 div.sk-label-container {text-align: center;}#sk-container-id-1 div.sk-container {/* jupyter's `normalize.less` sets `[hidden] { display: none; }` but bootstrap.min.css set `[hidden] { display: none !important; }` so we also need the `!important` here to be able to override the default hidden behavior on the sphinx rendered scikit-learn.org. See: https://github.com/scikit-learn/scikit-learn/issues/21755 */display: inline-block !important;position: relative;}#sk-container-id-1 div.sk-text-repr-fallback {display: none;}</style><div id=\"sk-container-id-1\" class=\"sk-top-container\"><div class=\"sk-text-repr-fallback\"><pre>SGDClassifier(random_state=42)</pre><b>In a Jupyter environment, please rerun this cell to show the HTML representation or trust the notebook. <br />On GitHub, the HTML representation is unable to render, please try loading this page with nbviewer.org.</b></div><div class=\"sk-container\" hidden><div class=\"sk-item\"><div class=\"sk-estimator sk-toggleable\"><input class=\"sk-toggleable__control sk-hidden--visually\" id=\"sk-estimator-id-1\" type=\"checkbox\" checked><label for=\"sk-estimator-id-1\" class=\"sk-toggleable__label sk-toggleable__label-arrow\">SGDClassifier</label><div class=\"sk-toggleable__content\"><pre>SGDClassifier(random_state=42)</pre></div></div></div></div></div>"
            ]
          },
          "metadata": {},
          "execution_count": 12
        }
      ],
      "source": [
        "from sklearn.linear_model import SGDClassifier\n",
        "\n",
        "sgd_clf = SGDClassifier(max_iter=1000, tol=1e-3, random_state=42)\n",
        "sgd_clf.fit(X_train, y_train_2)"
      ]
    },
    {
      "cell_type": "markdown",
      "source": [
        "Wir haben oben die Variable *some_digit* initialisiert. Hier wird der Classifier dafür verwendet um zu schauen, ob ein Bild, welches in *some_digit* hinterlegt ist der Ziffer entspricht für welches wir das Modell erstellt haben. In unserem Fall sollte bei der Ziffer 2 idealerweise immer ein True erscheinen und andernfalls ein False."
      ],
      "metadata": {
        "id": "aQvAZ6QpjkzR"
      }
    },
    {
      "cell_type": "code",
      "execution_count": null,
      "metadata": {
        "id": "AHAU67jqzq9x",
        "colab": {
          "base_uri": "https://localhost:8080/"
        },
        "outputId": "3a0fe3c2-4f69-4f20-ed56-1c4d16a76577"
      },
      "outputs": [
        {
          "output_type": "execute_result",
          "data": {
            "text/plain": [
              "array([ True])"
            ]
          },
          "metadata": {},
          "execution_count": 13
        }
      ],
      "source": [
        "sgd_clf.predict([some_digit])"
      ]
    },
    {
      "cell_type": "markdown",
      "source": [
        "Hier wird das Modul *cross_val_score* aus *sklearn.model_selection* geladen. Eine Cross-Validation wird verwendet um herauszufinden wie gut bzw. genau das Modell arbeitet. Hier wird eine dreifache Cross-Validation durchgeführt - erkennbar an dem Parameter *cv=3*. Hierbei wird der Datensatz in drei Teile aufgeteilt - je zwei für das Training und einen für das Testen. Entsprechend erhalten wir auch drei Werte für die Accuracy, also die Aussage, wie genau das Modell gearbeitet hat bzw. wie viel Prozent der Ziffern korrekt klassifiziert wurden. Anzumerken ist hierbei, dass der default-Wert bei *cv=5* liegt, wir also in diesem Fall dafür sorgen, dass die Sets etwas größer sind."
      ],
      "metadata": {
        "id": "9P50HydvsVHa"
      }
    },
    {
      "cell_type": "code",
      "execution_count": null,
      "metadata": {
        "id": "au7pBbWEzq9x",
        "colab": {
          "base_uri": "https://localhost:8080/"
        },
        "outputId": "fd31b402-8bf4-409e-8606-1fda4c222155"
      },
      "outputs": [
        {
          "output_type": "execute_result",
          "data": {
            "text/plain": [
              "array([0.96662917, 0.95388076, 0.96661665])"
            ]
          },
          "metadata": {},
          "execution_count": 14
        }
      ],
      "source": [
        "from sklearn.model_selection import cross_val_score\n",
        "cross_val_score(sgd_clf, X_train, y_train_2, cv=3, scoring=\"accuracy\")"
      ]
    },
    {
      "cell_type": "markdown",
      "metadata": {
        "id": "SukDoY-uzq9y"
      },
      "source": [
        "## Maßnahmen zur Leistungssteigerung"
      ]
    },
    {
      "cell_type": "markdown",
      "metadata": {
        "id": "yWHXMqmEzq9y"
      },
      "source": [
        "### Messung der Accuracy unter Verwendung der Cross-Validation"
      ]
    },
    {
      "cell_type": "markdown",
      "source": [
        "Auch hier werden wieder neue Module des Pakets sklearn nachgeladen.\n",
        "Im Detail das Modul 'clone' aus sklearn.base sowie das Modul StatifiedKFold aus 'sklearn.model_selection'.\n",
        "Gemäß folgender Webseite\n",
        "https://scikit-learn.org/stable/modules/generated/sklearn.model_selection.StratifiedKFold.html\n",
        "handelt es sich hierbei um einen \"Stratified K-Fold Cross-Validator\".\n",
        "Das Ziel laut https://scikit-learn.org/stable/modules/cross_validation.html#stratified-k-fold ist hierbei, die Test- und Trainingssets aufzuteilen. Und zwar nicht nur rein anhand der Sample-Größe sondern auch dahingehend, dass die Verteilung der Klassen gleichmäßig erfolgt. Es scheint sich hier um eine \"etwas kontrollierter\" Version eines \"ziehen ohne zurücklegen\" zu handeln im weitesten Sinne. Im Originaltext steht hier jedenfalls:\n",
        "\n",
        "> \"each set contains approximately the same percentage of samples of each target class as the complete set.\"\n",
        "\n",
        "Die Variablen sind hierbei wie folgt zu interpretieren:\n",
        "* n_splits=3 --> Anzahl der sogenannten Folds (n=3). Ein Fold ist hierbei \"ein Teil\", wobei - wie oben geschrieben - darauf geachtet wird, dass die Klassen gleichmäßig verteilt sind zwischen den Folds.\n",
        "* shuffle=True --> Hier wird festgelegt, ob die Daten vor dem Aufteilen nochmal zufällig durchmischt werden. In unserem Fall ist das so (=True).\n",
        "* random=42. Ähnlich dem \"seed\" - stellt sicher, dass die Ergebnisse reproduzierbar bleiben.\n",
        "\n",
        "Anschließend erfolgt eine Iteration über die erstellten Folds, welche vorher in StratifiedKFold festgelegt wurden.\n",
        "Clone() sorgt hierbei dafür, dass jeweils eine Kopie des SGDClassifiers erstellt wird. Dies stellt sicher, dass jedesmal mit einem frischen Modell trainiert wird bzw. im Umkehrschluss nicht ein einziges Modell immer stärker trainiert wird.\n",
        "\n",
        "Es erfolgt anschließend eine Extraktion der Trainingsdaten sowie der dazugehörigen Labels. Via clone_clf.fit erfolgt ein Training des aktuellen Modells der jeweiligen Schleife und im Nachgang via clone_clf.predict erfolgt eine Vorhersage der Labels basierend auf dem aktuell trainierten Modell. Nun werden noch die korrekten Vorhersagen durchgezählt und anschließend über das print ausgegeben."
      ],
      "metadata": {
        "id": "GlIGzzrVbLKh"
      }
    },
    {
      "cell_type": "code",
      "execution_count": null,
      "metadata": {
        "id": "ed74FHjQzq9y",
        "colab": {
          "base_uri": "https://localhost:8080/"
        },
        "outputId": "3fe4bd5a-cefd-402c-ba8a-d29979e6bd12"
      },
      "outputs": [
        {
          "output_type": "stream",
          "name": "stdout",
          "text": [
            "0.9670041244844394\n",
            "0.9351331083614548\n",
            "0.9624906226556639\n"
          ]
        }
      ],
      "source": [
        "from sklearn.model_selection import StratifiedKFold\n",
        "from sklearn.base import clone\n",
        "\n",
        "skfolds = StratifiedKFold(n_splits=3, shuffle=True, random_state=42)\n",
        "\n",
        "for train_index, test_index in skfolds.split(X_train, y_train_2):\n",
        "    clone_clf = clone(sgd_clf)\n",
        "    X_train_folds = X_train[train_index]\n",
        "    y_train_folds = y_train_2[train_index]\n",
        "    X_test_fold = X_train[test_index]\n",
        "    y_test_fold = y_train_2[test_index]\n",
        "\n",
        "    clone_clf.fit(X_train_folds, y_train_folds)\n",
        "    y_pred = clone_clf.predict(X_test_fold)\n",
        "    n_correct = sum(y_pred == y_test_fold)\n",
        "    print(n_correct / len(y_pred))"
      ]
    },
    {
      "cell_type": "markdown",
      "metadata": {
        "id": "woCH9Xerzq9y"
      },
      "source": [
        "**Note**: `shuffle=True` was omitted by mistake in previous releases of the book."
      ]
    },
    {
      "cell_type": "markdown",
      "source": [
        "Es wird wieder etwas neues importiert: BaseEstimator aus dem Package sklearn.base.\n",
        "Hier wird eine besondere Funktion innerhalb der Klasse 'Never2Classifier' erstellt: die Funktion fit() bekommt zwar die Bilddaten übergeben, allerdings nicht die dazu passenden Labels bzw. wird dieses immer als \"None\" gekennzeichnet. Hinzu kommt, dass diese Funktion schlicht nichts tut, bzw. keinen Inhalt aufweist: Das Schlüsselwort 'pass' dient hier als Platzhalter für Inhalt.\n",
        "\n",
        "Gleiches gilt insbesondere auch für die FUnktion predict. Diese gibt immer den Wert 'False' zurück."
      ],
      "metadata": {
        "id": "v4Zk6i0DkrMz"
      }
    },
    {
      "cell_type": "code",
      "execution_count": null,
      "metadata": {
        "id": "JBIfOy_Tzq9z"
      },
      "outputs": [],
      "source": [
        "from sklearn.base import BaseEstimator\n",
        "class Never2Classifier(BaseEstimator):\n",
        "    def fit(self, X, y=None):\n",
        "        pass\n",
        "    def predict(self, X):\n",
        "        return np.zeros((len(X), 1), dtype=bool)"
      ]
    },
    {
      "cell_type": "markdown",
      "source": [
        "Irritierend an dieser Stelle: die doch noch vergleichsweise hohe \"Trefferquote\"."
      ],
      "metadata": {
        "id": "Xwpb2LN72yAJ"
      }
    },
    {
      "cell_type": "code",
      "execution_count": null,
      "metadata": {
        "id": "7Qta7aCkzq9z",
        "colab": {
          "base_uri": "https://localhost:8080/"
        },
        "outputId": "6493839e-06c2-449c-f9d5-a88dcb9937de"
      },
      "outputs": [
        {
          "output_type": "execute_result",
          "data": {
            "text/plain": [
              "array([0.8983877 , 0.89613798, 0.89722431])"
            ]
          },
          "metadata": {},
          "execution_count": 17
        }
      ],
      "source": [
        "never_2_clf = Never2Classifier()\n",
        "cross_val_score(never_2_clf, X_train, y_train_2, cv=3, scoring=\"accuracy\")"
      ]
    },
    {
      "cell_type": "markdown",
      "metadata": {
        "id": "0J_kSFAMzq9z"
      },
      "source": [
        "### Confusion Matrix"
      ]
    },
    {
      "cell_type": "markdown",
      "source": [
        "Hier werden mithilfe von Kreuzvalidierung Vorhersagen für jeden Datenpunkt generiert."
      ],
      "metadata": {
        "id": "pBrGJYaa3d4I"
      }
    },
    {
      "cell_type": "code",
      "execution_count": null,
      "metadata": {
        "id": "cRaGt6e3zq9z"
      },
      "outputs": [],
      "source": [
        "from sklearn.model_selection import cross_val_predict\n",
        "\n",
        "y_train_pred = cross_val_predict(sgd_clf, X_train, y_train_2, cv=3)"
      ]
    },
    {
      "cell_type": "markdown",
      "source": [
        "Hier wird eine Confusion-Matrix generiert."
      ],
      "metadata": {
        "id": "GxBRUehX3Ubx"
      }
    },
    {
      "cell_type": "code",
      "execution_count": null,
      "metadata": {
        "id": "J23ijHHezq9z",
        "colab": {
          "base_uri": "https://localhost:8080/"
        },
        "outputId": "7d5eb0fd-3da9-4f75-da26-5c29f94a483c"
      },
      "outputs": [
        {
          "output_type": "execute_result",
          "data": {
            "text/plain": [
              "array([[7039,  139],\n",
              "       [ 162,  660]])"
            ]
          },
          "metadata": {},
          "execution_count": 19
        }
      ],
      "source": [
        "from sklearn.metrics import confusion_matrix\n",
        "\n",
        "confusion_matrix(y_train_2, y_train_pred)"
      ]
    },
    {
      "cell_type": "markdown",
      "source": [
        "Confusion-Matrix unter der Annahme einer perfekten Vorhersage des richtigen Labels. Eine Confusion-Matrix stellt hier True-Positives, True-Negatives, False-Positives und False-Negatives gegenüber."
      ],
      "metadata": {
        "id": "nY6zjYLw3o1G"
      }
    },
    {
      "cell_type": "code",
      "execution_count": null,
      "metadata": {
        "id": "iU9iiFZfzq90",
        "colab": {
          "base_uri": "https://localhost:8080/"
        },
        "outputId": "9568e9cc-73b4-460f-fd6b-75da6f5bba8b"
      },
      "outputs": [
        {
          "output_type": "execute_result",
          "data": {
            "text/plain": [
              "array([[7178,    0],\n",
              "       [   0,  822]])"
            ]
          },
          "metadata": {},
          "execution_count": 20
        }
      ],
      "source": [
        "y_train_perfect_predictions = y_train_2  # pretend we reached perfection\n",
        "confusion_matrix(y_train_2, y_train_perfect_predictions)"
      ]
    },
    {
      "cell_type": "markdown",
      "metadata": {
        "id": "PGKWujYrzq90"
      },
      "source": [
        "### 'Precision' und 'Recall'"
      ]
    },
    {
      "cell_type": "markdown",
      "source": [
        "Hier werden die Precision und der Recall berechnet.\n",
        "Die Precision oder deutsch Präzision zeigt an, wieviel Prozent der Daten korrekt vorhergesagt wurden und ist eine Art Qualitätsmerkmal. Der Recall ist eher eine Art Messung der Quantität.\n",
        "\n",
        "An erster Stelle wurde hier die Präzision mithilfe einer bereitgestellten Funktion berechnet. Die dafür notwendige Formel ist TP/(TP+FP) bzw. True Positives / (True Positives + False Positives)\n",
        "\n",
        "https://scikit-learn.org/stable/auto_examples/model_selection/plot_precision_recall.html"
      ],
      "metadata": {
        "id": "dSQagqTS4wsQ"
      }
    },
    {
      "cell_type": "code",
      "execution_count": null,
      "metadata": {
        "id": "Zfs9S9frzq90",
        "colab": {
          "base_uri": "https://localhost:8080/"
        },
        "outputId": "9dc9faa3-9fe0-4ece-aa49-a67da12dfdb4"
      },
      "outputs": [
        {
          "output_type": "execute_result",
          "data": {
            "text/plain": [
              "0.8260325406758448"
            ]
          },
          "metadata": {},
          "execution_count": 21
        }
      ],
      "source": [
        "from sklearn.metrics import precision_score, recall_score\n",
        "\n",
        "precision_score(y_train_2, y_train_pred)"
      ]
    },
    {
      "cell_type": "code",
      "execution_count": null,
      "metadata": {
        "id": "GE0YVCw9zq90",
        "colab": {
          "base_uri": "https://localhost:8080/"
        },
        "outputId": "7387d64e-945e-4280-b618-8cf41ae0f182"
      },
      "outputs": [
        {
          "output_type": "execute_result",
          "data": {
            "text/plain": [
              "0.8260325406758448"
            ]
          },
          "metadata": {},
          "execution_count": 22
        }
      ],
      "source": [
        "cm = confusion_matrix(y_train_2, y_train_pred)\n",
        "cm[1, 1] / (cm[0, 1] + cm[1, 1])"
      ]
    },
    {
      "cell_type": "markdown",
      "source": [
        "Hier dagegen wurde der sogenannte Recall berechnet. Der Recall (=Trefferquote) ist die Fähigkeit des Klassifikators, alle positiven Proben zu finden.\n",
        "Der beste Wert ist 1 und der schlechteste Wert ist 0.\n",
        "Dieser wird berechnet über die Formel TP/(TP+FN) bzw. True Positives / (True Positives + False Negatives)."
      ],
      "metadata": {
        "id": "8zTFvu9rAjwl"
      }
    },
    {
      "cell_type": "code",
      "execution_count": null,
      "metadata": {
        "id": "RuqKxifozq91",
        "colab": {
          "base_uri": "https://localhost:8080/"
        },
        "outputId": "633bcfec-fe5f-4dda-98aa-5abd65a2be13"
      },
      "outputs": [
        {
          "output_type": "execute_result",
          "data": {
            "text/plain": [
              "0.8029197080291971"
            ]
          },
          "metadata": {},
          "execution_count": 23
        }
      ],
      "source": [
        "recall_score(y_train_2, y_train_pred)"
      ]
    },
    {
      "cell_type": "code",
      "execution_count": null,
      "metadata": {
        "id": "Rpn3IJp5zq91",
        "colab": {
          "base_uri": "https://localhost:8080/"
        },
        "outputId": "dd89688e-b2ad-4be5-c898-f2705e6f1671"
      },
      "outputs": [
        {
          "output_type": "execute_result",
          "data": {
            "text/plain": [
              "0.8029197080291971"
            ]
          },
          "metadata": {},
          "execution_count": 24
        }
      ],
      "source": [
        "cm[1, 1] / (cm[1, 0] + cm[1, 1])"
      ]
    },
    {
      "cell_type": "markdown",
      "source": [
        "Der hier berechnete F1-Score ist der harmonische Mittelwert aus der Präzision und der Trefferquote.\n",
        "\n",
        "https://scikit-learn.org/stable/modules/generated/sklearn.metrics.f1_score.html\n",
        "\n",
        "Berechnet wird dieser als 2xTP/(2xTP+FP+FN) bzw. 2x True Positives / (2x True Positives + False Positives + False Negatives).\n",
        "\n",
        "Der beste Wert liegt hier bei 1 und der schlechteste bei 0. So gesehen ist das Modell zwar gut, aber noch sehr, sehr weit entfernt von einem \"Perfekt\".\n"
      ],
      "metadata": {
        "id": "87N8TtrYB2f9"
      }
    },
    {
      "cell_type": "code",
      "execution_count": null,
      "metadata": {
        "id": "B6lWOKArzq91",
        "colab": {
          "base_uri": "https://localhost:8080/"
        },
        "outputId": "1ff7e74e-15eb-4b41-d718-36288ce60a87"
      },
      "outputs": [
        {
          "output_type": "execute_result",
          "data": {
            "text/plain": [
              "0.8143121529919803"
            ]
          },
          "metadata": {},
          "execution_count": 25
        }
      ],
      "source": [
        "from sklearn.metrics import f1_score\n",
        "\n",
        "f1_score(y_train_2, y_train_pred)"
      ]
    },
    {
      "cell_type": "code",
      "execution_count": null,
      "metadata": {
        "id": "FhzDKhJtzq91",
        "colab": {
          "base_uri": "https://localhost:8080/"
        },
        "outputId": "007d7dab-72a7-4010-92d9-490c933ce076"
      },
      "outputs": [
        {
          "output_type": "execute_result",
          "data": {
            "text/plain": [
              "0.8143121529919802"
            ]
          },
          "metadata": {},
          "execution_count": 26
        }
      ],
      "source": [
        "cm[1, 1] / (cm[1, 1] + (cm[1, 0] + cm[0, 1]) / 2)"
      ]
    },
    {
      "cell_type": "markdown",
      "metadata": {
        "id": "xrrFv5Pazq91"
      },
      "source": [
        "### Die Receiver-Operating-Characteristic (ROC) Kurve"
      ]
    },
    {
      "cell_type": "markdown",
      "source": [
        "Die Receiver-Operating-Characteristic Curve (kurz ROC Kurve) dient der Beurteilung der Qualität von Klassifizierungsmodellen. Hierbei können beispielswiese unterschiedliche Schwellenwerte und deren Auswirkung auf die Gesamtleistung verglichen werden - wobei hier konkret der Kompromiss zwischen der True Positive Rate (TPR) und der False Positive Rate (FPR) verglichen wird. Hierbei gibt es rein prinzipiell zwei Zustände wie geschrieben: Label erkannt (True) oder Label nicht erkannt (False). Ein Modell gibt dabei eher eine Wahrscheinlichkeit zurück ob das Label als \"erkannt\" gilt oder als \"nicht erkannt\". Mithilfe der Schwellenwerte können wir festlegen wie sensitiv unser System sein soll bzw. anders ausgedrückt ab wann in unserem Fall das Label als erkannt gelten soll. In einem \"perfekten\" Modell wäre die True Positive Rate 100% (bzw. 1) und - entsprechend der Umkehrwert - die False Positive Rate bei null. In der ROC Curve wäre dieser Wert ganz links oben zu finden.\n",
        "\n",
        "Inwiefern hier ein Overfitting dann vorliegen könnte, ist ein anderes Thema.\n",
        "\n",
        "Was passiert nun beim Code unten? Vorhin hatten wir es mit der predict Funktion zu tun, welche uns zurückgibt, welches Label unser Modell aufgrund des bisherigen Trainings zurückgeben würde.\n",
        "\n",
        "Um das zu bewerkstelligen wird im Prinzip die decision_function benötigt. Diese liefert uns ein numpy array zurück, in welcher genannt wird ob eine 'klassifizierte' (nicht ganz sicher ob das korrekt ist, da das Label noch nicht vergeben wurde an der Stelle) links oder rechts des Hyperplanes liegt und wie weit davon entfernt dieses ist. Basierend darauf, kann dann predict entscheiden, ob ein Label vergeben wird, oder nicht."
      ],
      "metadata": {
        "id": "-IR_eFmSiLeJ"
      }
    },
    {
      "cell_type": "code",
      "execution_count": null,
      "metadata": {
        "id": "YsM56IgWzq92",
        "colab": {
          "base_uri": "https://localhost:8080/"
        },
        "outputId": "a72c710d-06c0-4da4-f40d-2070ae00c3f2"
      },
      "outputs": [
        {
          "output_type": "execute_result",
          "data": {
            "text/plain": [
              "array([179396.9324454])"
            ]
          },
          "metadata": {},
          "execution_count": 27
        }
      ],
      "source": [
        "y_scores = sgd_clf.decision_function([some_digit])\n",
        "y_scores"
      ]
    },
    {
      "cell_type": "markdown",
      "source": [
        "Anschließend wird gezeigt, wie unterschiedliche Schwellenwerte das Ergebnis beeinflussen (können)."
      ],
      "metadata": {
        "id": "huipSDkjmm8i"
      }
    },
    {
      "cell_type": "code",
      "execution_count": null,
      "metadata": {
        "id": "8Ca1jag5zq92"
      },
      "outputs": [],
      "source": [
        "threshold = 0\n",
        "y_some_digit_pred = (y_scores > threshold)"
      ]
    },
    {
      "cell_type": "code",
      "execution_count": null,
      "metadata": {
        "id": "NubdxiNxzq92",
        "colab": {
          "base_uri": "https://localhost:8080/"
        },
        "outputId": "1d53dc77-8d37-4fa2-f408-59992ac4b2b4"
      },
      "outputs": [
        {
          "output_type": "execute_result",
          "data": {
            "text/plain": [
              "array([ True])"
            ]
          },
          "metadata": {},
          "execution_count": 29
        }
      ],
      "source": [
        "y_some_digit_pred"
      ]
    },
    {
      "cell_type": "code",
      "execution_count": null,
      "metadata": {
        "id": "Vr8NBzDXzq92",
        "colab": {
          "base_uri": "https://localhost:8080/"
        },
        "outputId": "8b65a665-8edf-400d-beaf-6fec1c4f03ee"
      },
      "outputs": [
        {
          "output_type": "execute_result",
          "data": {
            "text/plain": [
              "array([ True])"
            ]
          },
          "metadata": {},
          "execution_count": 30
        }
      ],
      "source": [
        "threshold = -300000\n",
        "y_some_digit_pred = (y_scores > threshold)\n",
        "y_some_digit_pred"
      ]
    },
    {
      "cell_type": "markdown",
      "source": [
        "Hier findet eine Cross Validation statt. In unserem Fall wieder dreifach (cv=3). Hier steht allerdings dieses mal *method=decision_function\"* was so viel bedeutet, wie, dass nicht das label (method=\"predict\") als Ausgabe erscheint sondern die oben, d.h. unterhalb der ROC Curve Überschrift, beschriebenen 'Entscheidungsergebnisse' zurückliefert - eben jene entsprechenden negativen bis positiven Werte."
      ],
      "metadata": {
        "id": "ZGKoMHbtnuVH"
      }
    },
    {
      "cell_type": "code",
      "execution_count": null,
      "metadata": {
        "id": "cCXxk7SEzq92"
      },
      "outputs": [],
      "source": [
        "y_scores = cross_val_predict(sgd_clf, X_train, y_train_2, cv=3,\n",
        "                             method=\"decision_function\")"
      ]
    },
    {
      "cell_type": "code",
      "execution_count": null,
      "metadata": {
        "id": "6jRh29nfzq94",
        "colab": {
          "base_uri": "https://localhost:8080/"
        },
        "outputId": "fe9104c1-40aa-4463-bd49-c0b97395a005"
      },
      "outputs": [
        {
          "output_type": "execute_result",
          "data": {
            "text/plain": [
              "array([-371503.95322749, -972902.07769463, -180177.73511482, ...,\n",
              "       -194691.13775466, -330610.52427932, -297969.2203733 ])"
            ]
          },
          "metadata": {},
          "execution_count": 32
        }
      ],
      "source": [
        "y_scores"
      ]
    },
    {
      "cell_type": "markdown",
      "source": [
        "Schließlich erfolgt die Ausgabe der ROC-Kurve."
      ],
      "metadata": {
        "id": "_jDMed5dofU9"
      }
    },
    {
      "cell_type": "code",
      "execution_count": null,
      "metadata": {
        "id": "hoVOMdqvzq94"
      },
      "outputs": [],
      "source": [
        "from sklearn.metrics import roc_curve\n",
        "\n",
        "fpr, tpr, thresholds = roc_curve(y_train_2, y_scores)"
      ]
    },
    {
      "cell_type": "code",
      "execution_count": null,
      "metadata": {
        "id": "H19FEk_4zq94",
        "colab": {
          "base_uri": "https://localhost:8080/",
          "height": 403
        },
        "outputId": "c02516da-17d4-4b60-d833-5a616035e2d3"
      },
      "outputs": [
        {
          "output_type": "display_data",
          "data": {
            "text/plain": [
              "<Figure size 400x400 with 1 Axes>"
            ],
            "image/png": "[encoded data removed]"
          },
          "metadata": {}
        }
      ],
      "source": [
        "def plot_roc_curve(fpr, tpr, label=None):\n",
        "    plt.plot(fpr, tpr, linewidth=2, label=label)\n",
        "    plt.plot([0, 1], [0, 1], 'k--') # dashed diagonal\n",
        "    plt.axis([0, 1, 0, 1])\n",
        "    plt.xlabel('False Positive Rate (Fall-Out)', fontsize=12)\n",
        "    plt.ylabel('True Positive Rate (Recall)', fontsize=12)\n",
        "    plt.grid(True)\n",
        "\n",
        "plt.figure(figsize=(4, 4))\n",
        "plot_roc_curve(fpr, tpr)"
      ]
    },
    {
      "cell_type": "markdown",
      "source": [
        "Der hier berechnete Wert ist praktisch das Integral der Kurve bzw. die Fläche unterhalb der Kurve. Eine Fläsche von exakt 1 würde ein perfektes Modell bedeuten."
      ],
      "metadata": {
        "id": "GT7Ct84iorwe"
      }
    },
    {
      "cell_type": "code",
      "execution_count": null,
      "metadata": {
        "id": "qxdYtmQYzq94",
        "colab": {
          "base_uri": "https://localhost:8080/"
        },
        "outputId": "ae8b1c2c-5785-4697-bbb2-46fd7f4e9fe8"
      },
      "outputs": [
        {
          "output_type": "execute_result",
          "data": {
            "text/plain": [
              "0.9576237950645355"
            ]
          },
          "metadata": {},
          "execution_count": 35
        }
      ],
      "source": [
        "from sklearn.metrics import roc_auc_score\n",
        "\n",
        "roc_auc_score(y_train_2, y_scores)"
      ]
    },
    {
      "cell_type": "markdown",
      "source": [
        "### Classification Report\n",
        "\n",
        "**Selbst erstellt - Text noch auszuformulieren oder ggf. weglassen**"
      ],
      "metadata": {
        "id": "CkhM7529YBL-"
      }
    },
    {
      "cell_type": "code",
      "source": [
        "from sklearn.metrics import classification_report\n",
        "\n",
        "print(classification_report(y_train_2, y_train_pred))"
      ],
      "metadata": {
        "colab": {
          "base_uri": "https://localhost:8080/"
        },
        "id": "LBywPPPRV4oH",
        "outputId": "6bc4e42f-7f01-4468-e3a9-d531f7273ebc"
      },
      "execution_count": null,
      "outputs": [
        {
          "output_type": "stream",
          "name": "stdout",
          "text": [
            "              precision    recall  f1-score   support\n",
            "\n",
            "       False       0.98      0.98      0.98      7178\n",
            "        True       0.83      0.80      0.81       822\n",
            "\n",
            "    accuracy                           0.96      8000\n",
            "   macro avg       0.90      0.89      0.90      8000\n",
            "weighted avg       0.96      0.96      0.96      8000\n",
            "\n"
          ]
        }
      ]
    },
    {
      "cell_type": "markdown",
      "source": [
        "# Aufgabe 1.2\n",
        "\n",
        "```\n",
        "2. Extend the provided notebook and apply a Convolutional Neural Network\n",
        "(CNN) to the same binary classification task. There are many\n",
        "online tutorials for the Mnist dataset with CNNs - pick any of those and\n",
        "adapt them to your groups data set and the binary classification task.\n",
        "Experiment a bit with some of the hyper-parameters of the used model,\n",
        "explain what your model does (indicate how CNNs work, no details are\n",
        "necessary but feel free to add them) and what hyper-parameters you\n",
        "have picked.\n",
        "```"
      ],
      "metadata": {
        "id": "EUKaaMRE3O_1"
      }
    },
    {
      "cell_type": "markdown",
      "source": [
        "# CNN (Convolutional Neural Networks)\n",
        "\n",
        "Convolutional Neural Networks (CNN) stellen eine spezielle Art von neuronalen Netzwerken da. Diese sind sind insbesondere auf die Verarbeitung von Bildern und Videos ausgelegt, weshalb sie insbesondere auch für die Analyse des MNIST Datensatzes hervorragend geeignet sind.\n",
        "\n",
        "CNNs bestehen aus mehreren Schichten, wobei jede Schicht eine spezifische Aufgabe hat. Dies sind insbesondere (aber nicht beschränkt hierauf):\n",
        "*   Convolutional Layer (Faltungsschicht): Hier werden die Merkmale der Bilder extrahiert. Merkmale bedeuten in diesem Fall Kanten, Ecken, Texturen oder ähnliches.\n",
        "*   Pooling Layer (Pooling Schicht). Diese dient der Reduktion der Dimensionen des Datensatzes was inbesondere hilft die Berechnungen zu beschleunigen bzw. effizienter zu gestalten. Gleichzeitig sollen hier die wichtigsten Merkmale behalten werden.\n",
        "*   Fully Connected Layer (vollständig verbundene Schicht). Diese entspricht einem 'herkömmlichen' neuronalen Netzwerk und dient dafür die Ausgabe der vorherigen Netze zu interpretieren und schließlich eine endgültige Entscheidung zu treffen. In unserem Fall bspw. ob das Bild der Ziffer \"2\" entspricht.\n",
        "\n",
        "Der Vorteil der CNNs ist hier inbesondere dieser, dass sie keine manuellen Extraktionstechniken benötigen, da sie in der Lage sind die relevanten Merkmale direkt aus den Rohbildern zu lernen. Dabei sind diese nicht nur auf die reine Bilderkennung per se limitiert sondern können auch für andere Aufgaben verwendet werden wie zum Beispiel die Objektdetektion. Durch die Techniken wie die Reduktion der Dimensionalität kann dies auch recht effizient stattfinden.\n"
      ],
      "metadata": {
        "id": "BuE3xAzQzYvc"
      }
    },
    {
      "cell_type": "markdown",
      "source": [],
      "metadata": {
        "id": "S7zkQpYs3jG0"
      }
    },
    {
      "cell_type": "markdown",
      "source": [
        "## Vorbereitende Tätigkeiten"
      ],
      "metadata": {
        "id": "vT-hhedtSSQf"
      }
    },
    {
      "cell_type": "markdown",
      "source": [
        "Zuerst laden wir die benötigten Pakete bzw. Libraries.\n",
        "Wir fokussieren uns hierbei auf Tensorflow, da dieses Paket auf neuronale Netze bzw. Machine Learning im Allgemeinen spezialisiert ist."
      ],
      "metadata": {
        "id": "ZrWls2jgSbYk"
      }
    },
    {
      "cell_type": "code",
      "source": [
        "from tensorflow.keras.datasets import mnist\n",
        "from tensorflow.keras.utils import to_categorical\n",
        "from tensorflow.keras.models import Sequential\n",
        "from tensorflow.keras.layers import Conv2D\n",
        "from tensorflow.keras.layers import MaxPooling2D\n",
        "from tensorflow.keras.layers import Dense\n",
        "from tensorflow.keras.layers import Flatten\n",
        "from tensorflow.keras.optimizers import SGD\n",
        "from tensorflow.keras.layers import Dropout\n",
        "\n",
        "from matplotlib import pyplot as plt\n",
        "\n",
        "from sklearn.model_selection import KFold\n",
        "from sklearn.metrics import precision_score, recall_score, f1_score, roc_auc_score\n",
        "\n",
        "import numpy as np\n",
        "from numpy import mean\n",
        "from numpy import std"
      ],
      "metadata": {
        "id": "8987m7OISLcG"
      },
      "execution_count": null,
      "outputs": []
    },
    {
      "cell_type": "markdown",
      "source": [
        "## Laden des Datensatzes\n",
        "\n",
        "An dieser Stelle laden wir den Trainings- und Testdatensatz."
      ],
      "metadata": {
        "id": "m5kUfk7JS59Y"
      }
    },
    {
      "cell_type": "code",
      "source": [
        "def load_dataset():\n",
        "    # load dataset\n",
        "    (trainX, trainY), (testX, testY) = mnist.load_data()\n",
        "    # reshape dataset to have a single channel\n",
        "    trainX = trainX.reshape((trainX.shape[0], 28, 28, 1))\n",
        "    testX = testX.reshape((testX.shape[0], 28, 28, 1))\n",
        "    # convert class vectors to binary class matrices and set the binary classifier so that the group digit (2) is classified as 1 and all other digits as 0\n",
        "    trainY = np.where(trainY == 2, 1, 0)\n",
        "    testY = np.where(testY == 2, 1, 0)\n",
        "    trainY = to_categorical(trainY, 2)\n",
        "    testY = to_categorical(testY, 2)\n",
        "    return trainX, trainY, testX, testY"
      ],
      "metadata": {
        "id": "AKKLPauGTF3U"
      },
      "execution_count": null,
      "outputs": []
    },
    {
      "cell_type": "markdown",
      "source": [
        "## Vorbereiten des Datensatzes\n",
        "\n"
      ],
      "metadata": {
        "id": "e-0_vflKTHwp"
      }
    },
    {
      "cell_type": "markdown",
      "source": [
        "Der von uns heruntergeladene Datensatz ist noch nicht dafür geeignet in ein CNN geladen zu werden. Was wir wissen, ist, dass die Bilder unseres Datensatzes für jeden Pixel den Wert eines unsigned Integers annehmen können. Dies entspricht den Werten von 0-255 bzw. schwarz und weiß.   \n",
        "Uns ist zwar nicht bekannt, wie man die Daten idealerweise für eine höchstmögliche Performance transformieren muss - dafür müsste man vermutlich auch sehr viel Literatur recherchieren.\n",
        "Was wir aber wissen, ist, dass wir uns deutlich leichter tun, wenn wir die Bilder in ein Graustufen-Format umwandeln, also in einen Bereich von 0-1 statt 0-255 abändern.\n",
        "Hierfür ändern wir den Datentyp erstmal in ein float (bzw. Gleitkommazahl) und dividieren anschließen die Pixel Werte durch deren Maximum."
      ],
      "metadata": {
        "id": "3ROeKlxPTmYx"
      }
    },
    {
      "cell_type": "code",
      "source": [
        "def prep_pixels(train, test):\n",
        "    # convert from integers to floats\n",
        "    train_norm = train.astype('float32')\n",
        "    test_norm = test.astype('float32')\n",
        "    # normalize to range 0-1\n",
        "    train_norm = train_norm / 255.0\n",
        "    test_norm = test_norm / 255.0\n",
        "    # return normalized images\n",
        "    return train_norm, test_norm"
      ],
      "metadata": {
        "id": "o7sfgTYhTRIz"
      },
      "execution_count": null,
      "outputs": []
    },
    {
      "cell_type": "markdown",
      "source": [
        "## Definition des Models"
      ],
      "metadata": {
        "id": "BtEiuCCSVGVF"
      }
    },
    {
      "cell_type": "markdown",
      "source": [
        "Unser Modell ist hier dreistufig. Wir haben als erste Stufe einmal einen Layer, welcher die Features extrahiert (Kanten, Ecken etc.), dann kommt es zu einer Datenreduktion durch den sogenannten Pooling Layer und anschließend zu einem normalen neuronalen Netzwerk, welches wir für die Vorhersage bzw. Klassifizierung der Zahl verwenden.\n",
        "\n",
        "Die Zeile 'model = Sequential()' bedeutet nichts anderes, als eine lineare Abfolge von Schichten bzw. Layern.  \n",
        "Conv2D(32,(3,3) steht für einen einfachen Convolutional Layer mit einem kleinen Filter von 3x3 Pixeln, wobei dieser bis zu 32 Features detektieren kann.\n",
        "\n",
        "Als Aktivierungsfunktion verwenden wir hier relu. Dieses steht für \"Rectified Linear Unit\" und setzt alle negativen Werte auf Null. Positive Werte werden hierbei allerdings nicht verändert.\n",
        "\n",
        "Der Bereich kernel_initializer='he_uniform' ist die Initialisierungsfunktion für die gesetzten Gewichte für die Filter. 'He uniform' ist dabei eine Methode die besonders gut mit der Rectified Linear Unit zusammenarbeitet und dabei das Training stabilisiert und beschleunigt.\n",
        "\n",
        "Der letzte Wert 'input_shape=(28,28,1) bedeutet nichts anderes wie, dass die Bilder eine Größe von 28x28 Pixeln besitzen und nur einen Farbkanal besitzen. Dies ist nur für die erste Schicht wichtig, da anschließend die Daten eh vereinfacht werden für die weitere Analyse.\n",
        "\n",
        "Die zweite Schicht 'MaxPooling2D(2,2) reduziert die Dimensionen der Feature Map um die Hälfte, in dem es den maximalen Wert in jedem 2x2 Fenster nimmt.\n",
        "\n",
        "Es erfolgen nochmal drei weitere Schichten, welche das Modell nochmal etwas genauer machen sollen. Auch hier werden die Features wieder extrahiert und später gepoolt zur Daten-Reduktion.\n",
        "\n",
        "Anschließend wird die Feature Map über Flatten() in einen Vektor umgewandelt, welcher diesen anschließend an das 'normale' fully-connected neuronale Netzwerk weitergibt.\n",
        "\n",
        "Der 'fully-connected-layer' besteht aus 100 Neuronen und dient der Interpretation der extrahierten Features.\n",
        "\n",
        "Anschließend folgt ein einfacher 2-Neuronen-Layer, welcher einfach nur ausgeben soll, ob es sich bei der Ziffer um eine zwei handelt oder nicht.\n",
        "\n",
        "Die Aktivierungsfunktion \"activation=softmax\" gibt uns zusätzlich Wahrscheinlichkeitwerte für die Klassifikation zurück.\n",
        "\n",
        "Wir initialisieren anschließend den \"Optimizer\" opt = SGD(learning_rate=0.01, momentum=0.9) mit einer learning_rate von 0.01 und einem Momentum von 0.9. Dies soll inbesondere auch helfen, aus lokalen Minima herauszukommen. Ein direkter Vergleich mit dem SGD Classifier ist hier übrigens nicht möglich, dieser wurde initialisiert mit dem Wert learning_rate=\"optimal\"\n",
        "\n",
        "Anschließend erfolgt eine Kompilierung des Modells.\n",
        "\n",
        "\n"
      ],
      "metadata": {
        "id": "AjqA6VyQC41-"
      }
    },
    {
      "cell_type": "code",
      "source": [
        "# define cnn model (lr = learning rate)\n",
        "def define_model(lr=0.01):\n",
        "    model = Sequential()\n",
        "    model.add(Conv2D(32, (3, 3), activation='relu', kernel_initializer='he_uniform', input_shape=(28, 28, 1)))\n",
        "    model.add(MaxPooling2D((2, 2)))\n",
        "    model.add(Conv2D(64, (3, 3), activation='relu', kernel_initializer='he_uniform'))\n",
        "    model.add(Conv2D(64, (3, 3), activation='relu', kernel_initializer='he_uniform'))\n",
        "    model.add(MaxPooling2D((2, 2)))\n",
        "    model.add(Flatten())\n",
        "    model.add(Dense(100, activation='relu', kernel_initializer='he_uniform'))\n",
        "    # 2 nodes as output: 0 (for != 2) and 1 (for == 2)\n",
        "    model.add(Dense(2, activation='softmax'))\n",
        "    # compile model\n",
        "    opt = SGD(learning_rate=lr, momentum=0.9)\n",
        "    model.compile(optimizer=opt, loss='categorical_crossentropy', metrics=['accuracy'])\n",
        "    return model"
      ],
      "metadata": {
        "id": "eidmQfhLVLxt"
      },
      "execution_count": null,
      "outputs": []
    },
    {
      "cell_type": "markdown",
      "source": [
        "## Evaluierung des Modells"
      ],
      "metadata": {
        "id": "cFy1-2BhPAKn"
      }
    },
    {
      "cell_type": "markdown",
      "source": [
        "Für die Evaluierung verwenden wir hier eine \"5-Cross-Validation\" - das ist in unserem Fall zweimal häufiger als im SGD-Classifier. Sollte aber keinen wirklichen Einfluss nehmen, außer, dass wir mehr Einsicht in die Performance erhalten und das Modell etwas länger zum durchrechnen benötigt.\n",
        "\n",
        "Der Trainingsdatensatz sowie auch die Samples werden vor jeder Aufteilung gemischt. Wir trainieren anschließend das Modell für 10 Epochen mit einer Standard-Batch-Größe von 32 Beispielen. Der Testdatensatz wird dabei während und nach jedem Durchlauf bewertet. Dadurch können wir anschließend die Lernkurve erstellen und visualisieren. Weiterhin ist es uns möglich daran zu einem gewissen Grad zu erkennen, ob wir in eine Art Overfitting \"schlittern\".\n",
        "\n",
        "Hierbei werden die Daten in einer Variable 'history' gespeichert, welche nachfolgend beim Plotten verwendet wird für die Liniendiagramme."
      ],
      "metadata": {
        "id": "U3lXJOs-vPgJ"
      }
    },
    {
      "cell_type": "code",
      "source": [
        "# evaluate a model using k-fold cross-validation + provide hyperparameters when calling the function\n",
        "def evaluate_model(dataX, dataY, n_folds=5, nr_epochs = 10, batch_size=32, lr=0.01):\n",
        "    scores, histories = list(), list()\n",
        "    precisions, recalls, f1s, aucs = list(), list(), list(), list()\n",
        "    # prepare cross validation\n",
        "    kfold = KFold(n_folds, shuffle=True, random_state=42)\n",
        "    # enumerate splits\n",
        "    for train_ix, test_ix in kfold.split(dataX):\n",
        "        # define model\n",
        "        model = define_model(lr)\n",
        "        # select rows for train and test\n",
        "        trainX, trainY, testX, testY = dataX[train_ix], dataY[train_ix], dataX[test_ix], dataY[test_ix]\n",
        "        # fit model\n",
        "        history = model.fit(trainX, trainY, epochs=nr_epochs, batch_size=batch_size, validation_data=(testX, testY), verbose=0)\n",
        "        # evaluate model\n",
        "        _, acc = model.evaluate(testX, testY, verbose=0)\n",
        "        print('> %.3f' % (acc * 100.0))\n",
        "        # predict probabilities\n",
        "        yhat_probs = model.predict(testX, verbose=0)\n",
        "        # predict class labels\n",
        "        yhat_classes = np.argmax(yhat_probs, axis=1)\n",
        "        # true class labels\n",
        "        testY_classes = np.argmax(testY, axis=1)\n",
        "        # calculate precision, recall, f1 score\n",
        "        precision = precision_score(testY_classes, yhat_classes)\n",
        "        recall = recall_score(testY_classes, yhat_classes)\n",
        "        f1 = f1_score(testY_classes, yhat_classes)\n",
        "        auc = roc_auc_score(testY, yhat_probs)\n",
        "        # store scores\n",
        "        scores.append(acc)\n",
        "        histories.append(history)\n",
        "        precisions.append(precision)\n",
        "        recalls.append(recall)\n",
        "        f1s.append(f1)\n",
        "        aucs.append(auc)\n",
        "    return scores, histories, precisions, recalls, f1s, aucs"
      ],
      "metadata": {
        "id": "QXSFBd7Kgba_"
      },
      "execution_count": null,
      "outputs": []
    },
    {
      "cell_type": "markdown",
      "source": [
        "## Plot der Lernkurven"
      ],
      "metadata": {
        "id": "kyHcbQhJPEsJ"
      }
    },
    {
      "cell_type": "markdown",
      "source": [
        "Hier werden zwei Plots erstellt. Einmal für die Verlustfunktion und einmal für die Accuracy. Wobei die blaue Linie die Performance beim Trainings-Datensatz darstellt und die orangene Linie die des Test-Datensatzes."
      ],
      "metadata": {
        "id": "15ZL4q819UEU"
      }
    },
    {
      "cell_type": "code",
      "source": [
        "def summarize_diagnostics(histories):\n",
        "\t\tfor i in range(len(histories)):\n",
        "\t\t\t# plot loss\n",
        "\t\t\tplt.subplot(2, 1, 1)\n",
        "\t\t\tplt.title('Cross Entropy Loss')\n",
        "\t\t\tplt.plot(histories[i].history['loss'], color='blue', label='train')\n",
        "\t\t\tplt.plot(histories[i].history['val_loss'], color='orange', label='test')\n",
        "\t\t\t# plot accuracy\n",
        "\t\t\tplt.subplot(2, 1, 2)\n",
        "\t\t\tplt.title('Classification Accuracy')\n",
        "\t\t\tplt.plot(histories[i].history['accuracy'], color='blue', label='train')\n",
        "\t\t\tplt.plot(histories[i].history['val_accuracy'], color='orange', label='test')\n",
        "\t\tplt.show()"
      ],
      "metadata": {
        "id": "Tp2WuZRAPH2W"
      },
      "execution_count": null,
      "outputs": []
    },
    {
      "cell_type": "markdown",
      "source": [
        "## Evaluierung der Performance"
      ],
      "metadata": {
        "id": "RKuDXGQ4QLO2"
      }
    },
    {
      "cell_type": "markdown",
      "source": [
        "Hier wird die Accuracy nochmal als Boxplot dargestellt."
      ],
      "metadata": {
        "id": "QZtiEmJV-VTP"
      }
    },
    {
      "cell_type": "code",
      "source": [
        "def summarize_performance(scores, precisions, recalls, f1s, aucs):\n",
        "    # print summary\n",
        "    print('Accuracy: mean=%.3f std=%.3f, n=%d' % (mean(scores)*100, std(scores)*100, len(scores)))\n",
        "    print('Precision: mean=%.3f std=%.3f, n=%d' % (mean(precisions)*100, std(precisions)*100, len(precisions)))\n",
        "    print('Recall: mean=%.3f std=%.3f, n=%d' % (mean(recalls)*100, std(recalls)*100, len(recalls)))\n",
        "    print('F1 Score: mean=%.3f std=%.3f, n=%d' % (mean(f1s)*100, std(f1s)*100, len(f1s)))\n",
        "    print('AUC Score: mean=%.3f std=%.3f, n=%d' % (mean(aucs)*100, std(aucs)*100, len(aucs)))\n",
        "    # box and whisker plots of results\n",
        "    plt.boxplot(scores)\n",
        "    plt.show()"
      ],
      "metadata": {
        "id": "gvZ0ZMymPQIU"
      },
      "execution_count": null,
      "outputs": []
    },
    {
      "cell_type": "markdown",
      "source": [
        "## Testlauf: Ausgangsmodell als Vergleichsbasis"
      ],
      "metadata": {
        "id": "2nbnuBCGQRbh"
      }
    },
    {
      "cell_type": "markdown",
      "source": [
        "Hier findet nichts anderes statt, als dass die Funktionen, welche oben definiert wurden, sukzessive aufgerufen werden."
      ],
      "metadata": {
        "id": "yu00l3Ck-lQo"
      }
    },
    {
      "cell_type": "code",
      "source": [
        "# run the test harness for evaluating a model\n",
        "def run_test_harness(n_folds,nr_epochs, batch_size, lr):\n",
        "    # load dataset\n",
        "    trainX, trainY, testX, testY = load_dataset()\n",
        "    # prepare pixel data\n",
        "    trainX, testX = prep_pixels(trainX, testX)\n",
        "    # evaluate model\n",
        "    scores, histories, precisions, recalls, f1s, aucs = evaluate_model(trainX, trainY, n_folds, nr_epochs, batch_size, lr)\n",
        "    # learning curves\n",
        "    summarize_diagnostics(histories)\n",
        "    # summarize estimated performance\n",
        "    summarize_performance(scores, precisions, recalls, f1s, aucs)\n",
        "\n",
        "# entry point, run the test harness with defined hyperparameters\n",
        "lr = 0.01\n",
        "batch_size = 32\n",
        "n_folds = 5\n",
        "nr_epochs = 10\n",
        "run_test_harness(n_folds, nr_epochs, batch_size, lr)"
      ],
      "metadata": {
        "id": "gW-_12GmSMk_",
        "colab": {
          "base_uri": "https://localhost:8080/",
          "height": 383
        },
        "outputId": "3be8620f-952a-40b5-bfa2-dd2bce614ed7"
      },
      "execution_count": null,
      "outputs": [
        {
          "output_type": "stream",
          "name": "stdout",
          "text": [
            "Downloading data from https://storage.googleapis.com/tensorflow/tf-keras-datasets/mnist.npz\n",
            "11490434/11490434 [==============================] - 1s 0us/step\n",
            "> 99.725\n"
          ]
        },
        {
          "output_type": "error",
          "ename": "KeyboardInterrupt",
          "evalue": "",
          "traceback": [
            "\u001b[0;31m---------------------------------------------------------------------------\u001b[0m",
            "\u001b[0;31mKeyboardInterrupt\u001b[0m                         Traceback (most recent call last)",
            "\u001b[0;32m<ipython-input-44-996556aabe9f>\u001b[0m in \u001b[0;36m<cell line: 19>\u001b[0;34m()\u001b[0m\n\u001b[1;32m     17\u001b[0m \u001b[0mn_folds\u001b[0m \u001b[0;34m=\u001b[0m \u001b[0;36m5\u001b[0m\u001b[0;34m\u001b[0m\u001b[0;34m\u001b[0m\u001b[0m\n\u001b[1;32m     18\u001b[0m \u001b[0mnr_epochs\u001b[0m \u001b[0;34m=\u001b[0m \u001b[0;36m10\u001b[0m\u001b[0;34m\u001b[0m\u001b[0;34m\u001b[0m\u001b[0m\n\u001b[0;32m---> 19\u001b[0;31m \u001b[0mrun_test_harness\u001b[0m\u001b[0;34m(\u001b[0m\u001b[0mn_folds\u001b[0m\u001b[0;34m,\u001b[0m \u001b[0mnr_epochs\u001b[0m\u001b[0;34m,\u001b[0m \u001b[0mbatch_size\u001b[0m\u001b[0;34m,\u001b[0m \u001b[0mlr\u001b[0m\u001b[0;34m)\u001b[0m\u001b[0;34m\u001b[0m\u001b[0;34m\u001b[0m\u001b[0m\n\u001b[0m",
            "\u001b[0;32m<ipython-input-44-996556aabe9f>\u001b[0m in \u001b[0;36mrun_test_harness\u001b[0;34m(n_folds, nr_epochs, batch_size, lr)\u001b[0m\n\u001b[1;32m      6\u001b[0m     \u001b[0mtrainX\u001b[0m\u001b[0;34m,\u001b[0m \u001b[0mtestX\u001b[0m \u001b[0;34m=\u001b[0m \u001b[0mprep_pixels\u001b[0m\u001b[0;34m(\u001b[0m\u001b[0mtrainX\u001b[0m\u001b[0;34m,\u001b[0m \u001b[0mtestX\u001b[0m\u001b[0;34m)\u001b[0m\u001b[0;34m\u001b[0m\u001b[0;34m\u001b[0m\u001b[0m\n\u001b[1;32m      7\u001b[0m     \u001b[0;31m# evaluate model\u001b[0m\u001b[0;34m\u001b[0m\u001b[0;34m\u001b[0m\u001b[0m\n\u001b[0;32m----> 8\u001b[0;31m     \u001b[0mscores\u001b[0m\u001b[0;34m,\u001b[0m \u001b[0mhistories\u001b[0m\u001b[0;34m,\u001b[0m \u001b[0mprecisions\u001b[0m\u001b[0;34m,\u001b[0m \u001b[0mrecalls\u001b[0m\u001b[0;34m,\u001b[0m \u001b[0mf1s\u001b[0m\u001b[0;34m,\u001b[0m \u001b[0maucs\u001b[0m \u001b[0;34m=\u001b[0m \u001b[0mevaluate_model\u001b[0m\u001b[0;34m(\u001b[0m\u001b[0mtrainX\u001b[0m\u001b[0;34m,\u001b[0m \u001b[0mtrainY\u001b[0m\u001b[0;34m,\u001b[0m \u001b[0mn_folds\u001b[0m\u001b[0;34m,\u001b[0m \u001b[0mnr_epochs\u001b[0m\u001b[0;34m,\u001b[0m \u001b[0mbatch_size\u001b[0m\u001b[0;34m,\u001b[0m \u001b[0mlr\u001b[0m\u001b[0;34m)\u001b[0m\u001b[0;34m\u001b[0m\u001b[0;34m\u001b[0m\u001b[0m\n\u001b[0m\u001b[1;32m      9\u001b[0m     \u001b[0;31m# learning curves\u001b[0m\u001b[0;34m\u001b[0m\u001b[0;34m\u001b[0m\u001b[0m\n\u001b[1;32m     10\u001b[0m     \u001b[0msummarize_diagnostics\u001b[0m\u001b[0;34m(\u001b[0m\u001b[0mhistories\u001b[0m\u001b[0;34m)\u001b[0m\u001b[0;34m\u001b[0m\u001b[0;34m\u001b[0m\u001b[0m\n",
            "\u001b[0;32m<ipython-input-41-cc3e5f7b8ca0>\u001b[0m in \u001b[0;36mevaluate_model\u001b[0;34m(dataX, dataY, n_folds, nr_epochs, batch_size, lr)\u001b[0m\n\u001b[1;32m     12\u001b[0m         \u001b[0mtrainX\u001b[0m\u001b[0;34m,\u001b[0m \u001b[0mtrainY\u001b[0m\u001b[0;34m,\u001b[0m \u001b[0mtestX\u001b[0m\u001b[0;34m,\u001b[0m \u001b[0mtestY\u001b[0m \u001b[0;34m=\u001b[0m \u001b[0mdataX\u001b[0m\u001b[0;34m[\u001b[0m\u001b[0mtrain_ix\u001b[0m\u001b[0;34m]\u001b[0m\u001b[0;34m,\u001b[0m \u001b[0mdataY\u001b[0m\u001b[0;34m[\u001b[0m\u001b[0mtrain_ix\u001b[0m\u001b[0;34m]\u001b[0m\u001b[0;34m,\u001b[0m \u001b[0mdataX\u001b[0m\u001b[0;34m[\u001b[0m\u001b[0mtest_ix\u001b[0m\u001b[0;34m]\u001b[0m\u001b[0;34m,\u001b[0m \u001b[0mdataY\u001b[0m\u001b[0;34m[\u001b[0m\u001b[0mtest_ix\u001b[0m\u001b[0;34m]\u001b[0m\u001b[0;34m\u001b[0m\u001b[0;34m\u001b[0m\u001b[0m\n\u001b[1;32m     13\u001b[0m         \u001b[0;31m# fit model\u001b[0m\u001b[0;34m\u001b[0m\u001b[0;34m\u001b[0m\u001b[0m\n\u001b[0;32m---> 14\u001b[0;31m         \u001b[0mhistory\u001b[0m \u001b[0;34m=\u001b[0m \u001b[0mmodel\u001b[0m\u001b[0;34m.\u001b[0m\u001b[0mfit\u001b[0m\u001b[0;34m(\u001b[0m\u001b[0mtrainX\u001b[0m\u001b[0;34m,\u001b[0m \u001b[0mtrainY\u001b[0m\u001b[0;34m,\u001b[0m \u001b[0mepochs\u001b[0m\u001b[0;34m=\u001b[0m\u001b[0mnr_epochs\u001b[0m\u001b[0;34m,\u001b[0m \u001b[0mbatch_size\u001b[0m\u001b[0;34m=\u001b[0m\u001b[0mbatch_size\u001b[0m\u001b[0;34m,\u001b[0m \u001b[0mvalidation_data\u001b[0m\u001b[0;34m=\u001b[0m\u001b[0;34m(\u001b[0m\u001b[0mtestX\u001b[0m\u001b[0;34m,\u001b[0m \u001b[0mtestY\u001b[0m\u001b[0;34m)\u001b[0m\u001b[0;34m,\u001b[0m \u001b[0mverbose\u001b[0m\u001b[0;34m=\u001b[0m\u001b[0;36m0\u001b[0m\u001b[0;34m)\u001b[0m\u001b[0;34m\u001b[0m\u001b[0;34m\u001b[0m\u001b[0m\n\u001b[0m\u001b[1;32m     15\u001b[0m         \u001b[0;31m# evaluate model\u001b[0m\u001b[0;34m\u001b[0m\u001b[0;34m\u001b[0m\u001b[0m\n\u001b[1;32m     16\u001b[0m         \u001b[0m_\u001b[0m\u001b[0;34m,\u001b[0m \u001b[0macc\u001b[0m \u001b[0;34m=\u001b[0m \u001b[0mmodel\u001b[0m\u001b[0;34m.\u001b[0m\u001b[0mevaluate\u001b[0m\u001b[0;34m(\u001b[0m\u001b[0mtestX\u001b[0m\u001b[0;34m,\u001b[0m \u001b[0mtestY\u001b[0m\u001b[0;34m,\u001b[0m \u001b[0mverbose\u001b[0m\u001b[0;34m=\u001b[0m\u001b[0;36m0\u001b[0m\u001b[0;34m)\u001b[0m\u001b[0;34m\u001b[0m\u001b[0;34m\u001b[0m\u001b[0m\n",
            "\u001b[0;32m/usr/local/lib/python3.10/dist-packages/keras/src/utils/traceback_utils.py\u001b[0m in \u001b[0;36merror_handler\u001b[0;34m(*args, **kwargs)\u001b[0m\n\u001b[1;32m     63\u001b[0m         \u001b[0mfiltered_tb\u001b[0m \u001b[0;34m=\u001b[0m \u001b[0;32mNone\u001b[0m\u001b[0;34m\u001b[0m\u001b[0;34m\u001b[0m\u001b[0m\n\u001b[1;32m     64\u001b[0m         \u001b[0;32mtry\u001b[0m\u001b[0;34m:\u001b[0m\u001b[0;34m\u001b[0m\u001b[0;34m\u001b[0m\u001b[0m\n\u001b[0;32m---> 65\u001b[0;31m             \u001b[0;32mreturn\u001b[0m \u001b[0mfn\u001b[0m\u001b[0;34m(\u001b[0m\u001b[0;34m*\u001b[0m\u001b[0margs\u001b[0m\u001b[0;34m,\u001b[0m \u001b[0;34m**\u001b[0m\u001b[0mkwargs\u001b[0m\u001b[0;34m)\u001b[0m\u001b[0;34m\u001b[0m\u001b[0;34m\u001b[0m\u001b[0m\n\u001b[0m\u001b[1;32m     66\u001b[0m         \u001b[0;32mexcept\u001b[0m \u001b[0mException\u001b[0m \u001b[0;32mas\u001b[0m \u001b[0me\u001b[0m\u001b[0;34m:\u001b[0m\u001b[0;34m\u001b[0m\u001b[0;34m\u001b[0m\u001b[0m\n\u001b[1;32m     67\u001b[0m             \u001b[0mfiltered_tb\u001b[0m \u001b[0;34m=\u001b[0m \u001b[0m_process_traceback_frames\u001b[0m\u001b[0;34m(\u001b[0m\u001b[0me\u001b[0m\u001b[0;34m.\u001b[0m\u001b[0m__traceback__\u001b[0m\u001b[0;34m)\u001b[0m\u001b[0;34m\u001b[0m\u001b[0;34m\u001b[0m\u001b[0m\n",
            "\u001b[0;32m/usr/local/lib/python3.10/dist-packages/keras/src/engine/training.py\u001b[0m in \u001b[0;36mfit\u001b[0;34m(self, x, y, batch_size, epochs, verbose, callbacks, validation_split, validation_data, shuffle, class_weight, sample_weight, initial_epoch, steps_per_epoch, validation_steps, validation_batch_size, validation_freq, max_queue_size, workers, use_multiprocessing)\u001b[0m\n\u001b[1;32m   1805\u001b[0m                         ):\n\u001b[1;32m   1806\u001b[0m                             \u001b[0mcallbacks\u001b[0m\u001b[0;34m.\u001b[0m\u001b[0mon_train_batch_begin\u001b[0m\u001b[0;34m(\u001b[0m\u001b[0mstep\u001b[0m\u001b[0;34m)\u001b[0m\u001b[0;34m\u001b[0m\u001b[0;34m\u001b[0m\u001b[0m\n\u001b[0;32m-> 1807\u001b[0;31m                             \u001b[0mtmp_logs\u001b[0m \u001b[0;34m=\u001b[0m \u001b[0mself\u001b[0m\u001b[0;34m.\u001b[0m\u001b[0mtrain_function\u001b[0m\u001b[0;34m(\u001b[0m\u001b[0miterator\u001b[0m\u001b[0;34m)\u001b[0m\u001b[0;34m\u001b[0m\u001b[0;34m\u001b[0m\u001b[0m\n\u001b[0m\u001b[1;32m   1808\u001b[0m                             \u001b[0;32mif\u001b[0m \u001b[0mdata_handler\u001b[0m\u001b[0;34m.\u001b[0m\u001b[0mshould_sync\u001b[0m\u001b[0;34m:\u001b[0m\u001b[0;34m\u001b[0m\u001b[0;34m\u001b[0m\u001b[0m\n\u001b[1;32m   1809\u001b[0m                                 \u001b[0mcontext\u001b[0m\u001b[0;34m.\u001b[0m\u001b[0masync_wait\u001b[0m\u001b[0;34m(\u001b[0m\u001b[0;34m)\u001b[0m\u001b[0;34m\u001b[0m\u001b[0;34m\u001b[0m\u001b[0m\n",
            "\u001b[0;32m/usr/local/lib/python3.10/dist-packages/tensorflow/python/util/traceback_utils.py\u001b[0m in \u001b[0;36merror_handler\u001b[0;34m(*args, **kwargs)\u001b[0m\n\u001b[1;32m    148\u001b[0m     \u001b[0mfiltered_tb\u001b[0m \u001b[0;34m=\u001b[0m \u001b[0;32mNone\u001b[0m\u001b[0;34m\u001b[0m\u001b[0;34m\u001b[0m\u001b[0m\n\u001b[1;32m    149\u001b[0m     \u001b[0;32mtry\u001b[0m\u001b[0;34m:\u001b[0m\u001b[0;34m\u001b[0m\u001b[0;34m\u001b[0m\u001b[0m\n\u001b[0;32m--> 150\u001b[0;31m       \u001b[0;32mreturn\u001b[0m \u001b[0mfn\u001b[0m\u001b[0;34m(\u001b[0m\u001b[0;34m*\u001b[0m\u001b[0margs\u001b[0m\u001b[0;34m,\u001b[0m \u001b[0;34m**\u001b[0m\u001b[0mkwargs\u001b[0m\u001b[0;34m)\u001b[0m\u001b[0;34m\u001b[0m\u001b[0;34m\u001b[0m\u001b[0m\n\u001b[0m\u001b[1;32m    151\u001b[0m     \u001b[0;32mexcept\u001b[0m \u001b[0mException\u001b[0m \u001b[0;32mas\u001b[0m \u001b[0me\u001b[0m\u001b[0;34m:\u001b[0m\u001b[0;34m\u001b[0m\u001b[0;34m\u001b[0m\u001b[0m\n\u001b[1;32m    152\u001b[0m       \u001b[0mfiltered_tb\u001b[0m \u001b[0;34m=\u001b[0m \u001b[0m_process_traceback_frames\u001b[0m\u001b[0;34m(\u001b[0m\u001b[0me\u001b[0m\u001b[0;34m.\u001b[0m\u001b[0m__traceback__\u001b[0m\u001b[0;34m)\u001b[0m\u001b[0;34m\u001b[0m\u001b[0;34m\u001b[0m\u001b[0m\n",
            "\u001b[0;32m/usr/local/lib/python3.10/dist-packages/tensorflow/python/eager/polymorphic_function/polymorphic_function.py\u001b[0m in \u001b[0;36m__call__\u001b[0;34m(self, *args, **kwds)\u001b[0m\n\u001b[1;32m    830\u001b[0m \u001b[0;34m\u001b[0m\u001b[0m\n\u001b[1;32m    831\u001b[0m       \u001b[0;32mwith\u001b[0m \u001b[0mOptionalXlaContext\u001b[0m\u001b[0;34m(\u001b[0m\u001b[0mself\u001b[0m\u001b[0;34m.\u001b[0m\u001b[0m_jit_compile\u001b[0m\u001b[0;34m)\u001b[0m\u001b[0;34m:\u001b[0m\u001b[0;34m\u001b[0m\u001b[0;34m\u001b[0m\u001b[0m\n\u001b[0;32m--> 832\u001b[0;31m         \u001b[0mresult\u001b[0m \u001b[0;34m=\u001b[0m \u001b[0mself\u001b[0m\u001b[0;34m.\u001b[0m\u001b[0m_call\u001b[0m\u001b[0;34m(\u001b[0m\u001b[0;34m*\u001b[0m\u001b[0margs\u001b[0m\u001b[0;34m,\u001b[0m \u001b[0;34m**\u001b[0m\u001b[0mkwds\u001b[0m\u001b[0;34m)\u001b[0m\u001b[0;34m\u001b[0m\u001b[0;34m\u001b[0m\u001b[0m\n\u001b[0m\u001b[1;32m    833\u001b[0m \u001b[0;34m\u001b[0m\u001b[0m\n\u001b[1;32m    834\u001b[0m       \u001b[0mnew_tracing_count\u001b[0m \u001b[0;34m=\u001b[0m \u001b[0mself\u001b[0m\u001b[0;34m.\u001b[0m\u001b[0mexperimental_get_tracing_count\u001b[0m\u001b[0;34m(\u001b[0m\u001b[0;34m)\u001b[0m\u001b[0;34m\u001b[0m\u001b[0;34m\u001b[0m\u001b[0m\n",
            "\u001b[0;32m/usr/local/lib/python3.10/dist-packages/tensorflow/python/eager/polymorphic_function/polymorphic_function.py\u001b[0m in \u001b[0;36m_call\u001b[0;34m(self, *args, **kwds)\u001b[0m\n\u001b[1;32m    866\u001b[0m       \u001b[0;31m# In this case we have created variables on the first call, so we run the\u001b[0m\u001b[0;34m\u001b[0m\u001b[0;34m\u001b[0m\u001b[0m\n\u001b[1;32m    867\u001b[0m       \u001b[0;31m# defunned version which is guaranteed to never create variables.\u001b[0m\u001b[0;34m\u001b[0m\u001b[0;34m\u001b[0m\u001b[0m\n\u001b[0;32m--> 868\u001b[0;31m       return tracing_compilation.call_function(\n\u001b[0m\u001b[1;32m    869\u001b[0m           \u001b[0margs\u001b[0m\u001b[0;34m,\u001b[0m \u001b[0mkwds\u001b[0m\u001b[0;34m,\u001b[0m \u001b[0mself\u001b[0m\u001b[0;34m.\u001b[0m\u001b[0m_no_variable_creation_config\u001b[0m\u001b[0;34m\u001b[0m\u001b[0;34m\u001b[0m\u001b[0m\n\u001b[1;32m    870\u001b[0m       )\n",
            "\u001b[0;32m/usr/local/lib/python3.10/dist-packages/tensorflow/python/eager/polymorphic_function/tracing_compilation.py\u001b[0m in \u001b[0;36mcall_function\u001b[0;34m(args, kwargs, tracing_options)\u001b[0m\n\u001b[1;32m    137\u001b[0m   \u001b[0mbound_args\u001b[0m \u001b[0;34m=\u001b[0m \u001b[0mfunction\u001b[0m\u001b[0;34m.\u001b[0m\u001b[0mfunction_type\u001b[0m\u001b[0;34m.\u001b[0m\u001b[0mbind\u001b[0m\u001b[0;34m(\u001b[0m\u001b[0;34m*\u001b[0m\u001b[0margs\u001b[0m\u001b[0;34m,\u001b[0m \u001b[0;34m**\u001b[0m\u001b[0mkwargs\u001b[0m\u001b[0;34m)\u001b[0m\u001b[0;34m\u001b[0m\u001b[0;34m\u001b[0m\u001b[0m\n\u001b[1;32m    138\u001b[0m   \u001b[0mflat_inputs\u001b[0m \u001b[0;34m=\u001b[0m \u001b[0mfunction\u001b[0m\u001b[0;34m.\u001b[0m\u001b[0mfunction_type\u001b[0m\u001b[0;34m.\u001b[0m\u001b[0munpack_inputs\u001b[0m\u001b[0;34m(\u001b[0m\u001b[0mbound_args\u001b[0m\u001b[0;34m)\u001b[0m\u001b[0;34m\u001b[0m\u001b[0;34m\u001b[0m\u001b[0m\n\u001b[0;32m--> 139\u001b[0;31m   return function._call_flat(  # pylint: disable=protected-access\n\u001b[0m\u001b[1;32m    140\u001b[0m       \u001b[0mflat_inputs\u001b[0m\u001b[0;34m,\u001b[0m \u001b[0mcaptured_inputs\u001b[0m\u001b[0;34m=\u001b[0m\u001b[0mfunction\u001b[0m\u001b[0;34m.\u001b[0m\u001b[0mcaptured_inputs\u001b[0m\u001b[0;34m\u001b[0m\u001b[0;34m\u001b[0m\u001b[0m\n\u001b[1;32m    141\u001b[0m   )\n",
            "\u001b[0;32m/usr/local/lib/python3.10/dist-packages/tensorflow/python/eager/polymorphic_function/concrete_function.py\u001b[0m in \u001b[0;36m_call_flat\u001b[0;34m(self, tensor_inputs, captured_inputs)\u001b[0m\n\u001b[1;32m   1321\u001b[0m         and executing_eagerly):\n\u001b[1;32m   1322\u001b[0m       \u001b[0;31m# No tape is watching; skip to running the function.\u001b[0m\u001b[0;34m\u001b[0m\u001b[0;34m\u001b[0m\u001b[0m\n\u001b[0;32m-> 1323\u001b[0;31m       \u001b[0;32mreturn\u001b[0m \u001b[0mself\u001b[0m\u001b[0;34m.\u001b[0m\u001b[0m_inference_function\u001b[0m\u001b[0;34m.\u001b[0m\u001b[0mcall_preflattened\u001b[0m\u001b[0;34m(\u001b[0m\u001b[0margs\u001b[0m\u001b[0;34m)\u001b[0m\u001b[0;34m\u001b[0m\u001b[0;34m\u001b[0m\u001b[0m\n\u001b[0m\u001b[1;32m   1324\u001b[0m     forward_backward = self._select_forward_and_backward_functions(\n\u001b[1;32m   1325\u001b[0m         \u001b[0margs\u001b[0m\u001b[0;34m,\u001b[0m\u001b[0;34m\u001b[0m\u001b[0;34m\u001b[0m\u001b[0m\n",
            "\u001b[0;32m/usr/local/lib/python3.10/dist-packages/tensorflow/python/eager/polymorphic_function/atomic_function.py\u001b[0m in \u001b[0;36mcall_preflattened\u001b[0;34m(self, args)\u001b[0m\n\u001b[1;32m    214\u001b[0m   \u001b[0;32mdef\u001b[0m \u001b[0mcall_preflattened\u001b[0m\u001b[0;34m(\u001b[0m\u001b[0mself\u001b[0m\u001b[0;34m,\u001b[0m \u001b[0margs\u001b[0m\u001b[0;34m:\u001b[0m \u001b[0mSequence\u001b[0m\u001b[0;34m[\u001b[0m\u001b[0mcore\u001b[0m\u001b[0;34m.\u001b[0m\u001b[0mTensor\u001b[0m\u001b[0;34m]\u001b[0m\u001b[0;34m)\u001b[0m \u001b[0;34m->\u001b[0m \u001b[0mAny\u001b[0m\u001b[0;34m:\u001b[0m\u001b[0;34m\u001b[0m\u001b[0;34m\u001b[0m\u001b[0m\n\u001b[1;32m    215\u001b[0m     \u001b[0;34m\"\"\"Calls with flattened tensor inputs and returns the structured output.\"\"\"\u001b[0m\u001b[0;34m\u001b[0m\u001b[0;34m\u001b[0m\u001b[0m\n\u001b[0;32m--> 216\u001b[0;31m     \u001b[0mflat_outputs\u001b[0m \u001b[0;34m=\u001b[0m \u001b[0mself\u001b[0m\u001b[0;34m.\u001b[0m\u001b[0mcall_flat\u001b[0m\u001b[0;34m(\u001b[0m\u001b[0;34m*\u001b[0m\u001b[0margs\u001b[0m\u001b[0;34m)\u001b[0m\u001b[0;34m\u001b[0m\u001b[0;34m\u001b[0m\u001b[0m\n\u001b[0m\u001b[1;32m    217\u001b[0m     \u001b[0;32mreturn\u001b[0m \u001b[0mself\u001b[0m\u001b[0;34m.\u001b[0m\u001b[0mfunction_type\u001b[0m\u001b[0;34m.\u001b[0m\u001b[0mpack_output\u001b[0m\u001b[0;34m(\u001b[0m\u001b[0mflat_outputs\u001b[0m\u001b[0;34m)\u001b[0m\u001b[0;34m\u001b[0m\u001b[0;34m\u001b[0m\u001b[0m\n\u001b[1;32m    218\u001b[0m \u001b[0;34m\u001b[0m\u001b[0m\n",
            "\u001b[0;32m/usr/local/lib/python3.10/dist-packages/tensorflow/python/eager/polymorphic_function/atomic_function.py\u001b[0m in \u001b[0;36mcall_flat\u001b[0;34m(self, *args)\u001b[0m\n\u001b[1;32m    249\u001b[0m         \u001b[0;32mwith\u001b[0m \u001b[0mrecord\u001b[0m\u001b[0;34m.\u001b[0m\u001b[0mstop_recording\u001b[0m\u001b[0;34m(\u001b[0m\u001b[0;34m)\u001b[0m\u001b[0;34m:\u001b[0m\u001b[0;34m\u001b[0m\u001b[0;34m\u001b[0m\u001b[0m\n\u001b[1;32m    250\u001b[0m           \u001b[0;32mif\u001b[0m \u001b[0mself\u001b[0m\u001b[0;34m.\u001b[0m\u001b[0m_bound_context\u001b[0m\u001b[0;34m.\u001b[0m\u001b[0mexecuting_eagerly\u001b[0m\u001b[0;34m(\u001b[0m\u001b[0;34m)\u001b[0m\u001b[0;34m:\u001b[0m\u001b[0;34m\u001b[0m\u001b[0;34m\u001b[0m\u001b[0m\n\u001b[0;32m--> 251\u001b[0;31m             outputs = self._bound_context.call_function(\n\u001b[0m\u001b[1;32m    252\u001b[0m                 \u001b[0mself\u001b[0m\u001b[0;34m.\u001b[0m\u001b[0mname\u001b[0m\u001b[0;34m,\u001b[0m\u001b[0;34m\u001b[0m\u001b[0;34m\u001b[0m\u001b[0m\n\u001b[1;32m    253\u001b[0m                 \u001b[0mlist\u001b[0m\u001b[0;34m(\u001b[0m\u001b[0margs\u001b[0m\u001b[0;34m)\u001b[0m\u001b[0;34m,\u001b[0m\u001b[0;34m\u001b[0m\u001b[0;34m\u001b[0m\u001b[0m\n",
            "\u001b[0;32m/usr/local/lib/python3.10/dist-packages/tensorflow/python/eager/context.py\u001b[0m in \u001b[0;36mcall_function\u001b[0;34m(self, name, tensor_inputs, num_outputs)\u001b[0m\n\u001b[1;32m   1484\u001b[0m     \u001b[0mcancellation_context\u001b[0m \u001b[0;34m=\u001b[0m \u001b[0mcancellation\u001b[0m\u001b[0;34m.\u001b[0m\u001b[0mcontext\u001b[0m\u001b[0;34m(\u001b[0m\u001b[0;34m)\u001b[0m\u001b[0;34m\u001b[0m\u001b[0;34m\u001b[0m\u001b[0m\n\u001b[1;32m   1485\u001b[0m     \u001b[0;32mif\u001b[0m \u001b[0mcancellation_context\u001b[0m \u001b[0;32mis\u001b[0m \u001b[0;32mNone\u001b[0m\u001b[0;34m:\u001b[0m\u001b[0;34m\u001b[0m\u001b[0;34m\u001b[0m\u001b[0m\n\u001b[0;32m-> 1486\u001b[0;31m       outputs = execute.execute(\n\u001b[0m\u001b[1;32m   1487\u001b[0m           \u001b[0mname\u001b[0m\u001b[0;34m.\u001b[0m\u001b[0mdecode\u001b[0m\u001b[0;34m(\u001b[0m\u001b[0;34m\"utf-8\"\u001b[0m\u001b[0;34m)\u001b[0m\u001b[0;34m,\u001b[0m\u001b[0;34m\u001b[0m\u001b[0;34m\u001b[0m\u001b[0m\n\u001b[1;32m   1488\u001b[0m           \u001b[0mnum_outputs\u001b[0m\u001b[0;34m=\u001b[0m\u001b[0mnum_outputs\u001b[0m\u001b[0;34m,\u001b[0m\u001b[0;34m\u001b[0m\u001b[0;34m\u001b[0m\u001b[0m\n",
            "\u001b[0;32m/usr/local/lib/python3.10/dist-packages/tensorflow/python/eager/execute.py\u001b[0m in \u001b[0;36mquick_execute\u001b[0;34m(op_name, num_outputs, inputs, attrs, ctx, name)\u001b[0m\n\u001b[1;32m     51\u001b[0m   \u001b[0;32mtry\u001b[0m\u001b[0;34m:\u001b[0m\u001b[0;34m\u001b[0m\u001b[0;34m\u001b[0m\u001b[0m\n\u001b[1;32m     52\u001b[0m     \u001b[0mctx\u001b[0m\u001b[0;34m.\u001b[0m\u001b[0mensure_initialized\u001b[0m\u001b[0;34m(\u001b[0m\u001b[0;34m)\u001b[0m\u001b[0;34m\u001b[0m\u001b[0;34m\u001b[0m\u001b[0m\n\u001b[0;32m---> 53\u001b[0;31m     tensors = pywrap_tfe.TFE_Py_Execute(ctx._handle, device_name, op_name,\n\u001b[0m\u001b[1;32m     54\u001b[0m                                         inputs, attrs, num_outputs)\n\u001b[1;32m     55\u001b[0m   \u001b[0;32mexcept\u001b[0m \u001b[0mcore\u001b[0m\u001b[0;34m.\u001b[0m\u001b[0m_NotOkStatusException\u001b[0m \u001b[0;32mas\u001b[0m \u001b[0me\u001b[0m\u001b[0;34m:\u001b[0m\u001b[0;34m\u001b[0m\u001b[0;34m\u001b[0m\u001b[0m\n",
            "\u001b[0;31mKeyboardInterrupt\u001b[0m: "
          ]
        }
      ]
    },
    {
      "cell_type": "markdown",
      "source": [
        "## Adaptionen des Modells (Anpassung der Hyperparameter)\n"
      ],
      "metadata": {
        "id": "MRIZ3nOcYuI6"
      }
    },
    {
      "cell_type": "code",
      "source": [
        "# adapt learning rate an keep other hyperparameters constant\n",
        "lr = 0.8\n",
        "batch_size = 32\n",
        "n_folds = 5\n",
        "nr_epochs = 10\n",
        "run_test_harness(n_folds, nr_epochs, batch_size, lr)"
      ],
      "metadata": {
        "colab": {
          "base_uri": "https://localhost:8080/",
          "height": 1000
        },
        "id": "PDndZtAIWLLm",
        "outputId": "56eb71ba-aad7-4285-d496-047b13e7e614"
      },
      "execution_count": null,
      "outputs": [
        {
          "output_type": "stream",
          "name": "stdout",
          "text": [
            "> 99.775\n",
            "> 99.717\n",
            "> 99.808\n",
            "> 99.842\n",
            "> 99.725\n"
          ]
        },
        {
          "output_type": "display_data",
          "data": {
            "text/plain": [
              "<Figure size 640x480 with 2 Axes>"
            ],
            "image/png": "[encoded data removed]"
          },
          "metadata": {}
        },
        {
          "output_type": "stream",
          "name": "stdout",
          "text": [
            "Accuracy: mean=99.773 std=0.048, n=5\n",
            "Precision: mean=99.202 std=0.364, n=5\n",
            "Recall: mean=98.506 std=0.529, n=5\n",
            "F1 Score: mean=98.851 std=0.257, n=5\n",
            "AUC Score: mean=99.990 std=0.005, n=5\n"
          ]
        },
        {
          "output_type": "display_data",
          "data": {
            "text/plain": [
              "<Figure size 640x480 with 1 Axes>"
            ],
            "image/png": "[encoded data removed]"
          },
          "metadata": {}
        }
      ]
    },
    {
      "cell_type": "code",
      "source": [
        "# adapt only the nr of epochs\n",
        "lr = 0.01\n",
        "batch_size = 32\n",
        "n_folds = 5\n",
        "nr_epochs = 1\n",
        "run_test_harness(n_folds, nr_epochs, batch_size, lr)"
      ],
      "metadata": {
        "id": "ujEaj4LoWMJm"
      },
      "execution_count": null,
      "outputs": []
    },
    {
      "cell_type": "markdown",
      "source": [
        "## Evaluierung der Ergebnisse des CNN"
      ],
      "metadata": {
        "id": "z6m2fKno-vTC"
      }
    },
    {
      "cell_type": "markdown",
      "source": [
        "Das Modell performt sehr gut. Die Liniendiagramme geben kaum Hinweise auf ein Overfitting. Die Linien des Testdatensatzes (orange) schlagen nur minimal aus. Insbesondere, wenn man die Skala hierbei noch beachtet.\n",
        "\n",
        "Die Mittelwerte der Durchläufe sehen ebenfalls sehr gut aus:\n",
        "```\n",
        "Accuracy: mean=99.783 std=0.046, n=5\n",
        "Precision: mean=98.943 std=0.216, n=5\n",
        "Recall: mean=98.874 std=0.285, n=5\n",
        "F1 Score: mean=98.909 std=0.224, n=5\n",
        "AUC Score: mean=99.991 std=0.004, n=5\n",
        "```\n",
        "So sagt die Accuracy mit einem Wert von 99.783, dass fast alle Werte korrekt hervorgesagt wurden. Hervorzuheben ist auch die Standardabweichung von 0.049 - was bedeutet, dass die Modelle sehr konsistent waren in ihrer Genauigkeit.\n",
        "\n",
        "Die Precision gibt hier ein etwas genaueres Bild. Diese verdeutlicht, dass fast alle Bilder, welche als 2 klassifiziert sind auch als solche klassifiziert wurden. Die Standardweichung ist hier etwas höher als bei der Accuracy - aber dennoch in einem guten Bereich. Jedoch lässt sich feststellen, dass die Precision hier über die Modelle deutlich stärker variierte als bei der Accuracy. Bei letzterem dürften auch noch als korrekt \"false\" klassifizierte mit reinspielen. Eine hohe Precision bedeutet, dass das Modell weniger False Positives erzeugt.\n",
        "\n",
        "Für Recall gilt im großen und ganzen der Text von Precision. Hier gibt es nur kleinere Unterschiede hinsichtlich der Standardabweichung. Ein hoher Recall bedeutet, das das Modell weniger False Negatives produziert.\n",
        "\n",
        "Der F1-Score ist das harmonische Mittel von Präzision und Recall. Ein hoher Wert hier bedeutet, dass Recall und Precision ausgeglichen sind bzw. gute Werte besitzen. Dies ist in unserem Modell der Fall.\n",
        "\n",
        "Der AUC-Score ist die Fläche unterhalb der ROC Kurve. Da wir hier einen Wert von 99.991 haben bedeutet das, dass unser Modell nahezu perfekt funktioniert für unsere Klasse bzw. zwischen \"2\" und \"nicht 2\" unterscheiden kann.\n",
        "\n",
        "\n"
      ],
      "metadata": {
        "id": "U0ECZOC6OkRV"
      }
    },
    {
      "cell_type": "markdown",
      "source": [
        "# Aufgabe 1.3\n",
        "\n",
        "```\n",
        "3. Compare both of your models? Which one is better, which one would\n",
        "you recommend?\n",
        "```"
      ],
      "metadata": {
        "id": "ynOGZMnS4HY-"
      }
    },
    {
      "cell_type": "markdown",
      "source": [
        "# Vergleich des SGD Classifiers mit dem CNN"
      ],
      "metadata": {
        "id": "yMcEiCBw-yBC"
      }
    },
    {
      "cell_type": "markdown",
      "source": [
        "### Performance (Geschwindigkeitsbezogen)\n",
        "\n",
        "Auffälig zwischen dem SGDClassifier und der CNN ist vorallem erstmal die Performance. Führt man beides mit einer CPU aus, liegt der SGDClassifier deutlich vorne. Hier hat man innerhalb weniger Sekunden bis Minuten ein Ergebnis während es beim Neuronalen Netzwerk etliche Minuten bis Stunden dauern kann. Hintergrund ist hierbei die hohe Parallelität bei CNNs aufgrund der Menge an Neuronen pro Layer sowie der dazugehörigen Berechnungen. Hat man allerdings Zugriff auf eine (leistungsstarke) GPU vermindert sich dieser Effekt etwas. Zu beachten ist hierbei allerdings zusätzlich, dass das CNN mit dem vollständigen Trainingsdatensatz trainiert wurde (Trainingsdatensatz und Testdatensatz waren getrennt!) und nicht wie der SGD Classifier 'nur' mit einem sechsten der Daten.  \n",
        "(Dauer gesamt etwa 5 Minuten unter Verwendung der TPU v2)"
      ],
      "metadata": {
        "id": "tb3giERO_Do9"
      }
    },
    {
      "cell_type": "markdown",
      "source": [
        "\n",
        "\n",
        "### Performance (Korrektheit der Klassifizierung)\n",
        "\n",
        "**SGD Classifier**\n",
        "\n",
        "```\n",
        "Accuracy: 89.725\n",
        "Precision: 82.603\n",
        "Recall: 80.292\n",
        "F1-Score: 81.431\n",
        "AUC Score: 95.762\n",
        "```\n",
        "\n",
        "**CNN**\n",
        "\n",
        "```\n",
        "Accuracy: mean=99.783 std=0.046, n=5\n",
        "Precision: mean=98.943 std=0.216, n=5\n",
        "Recall: mean=98.874 std=0.285, n=5\n",
        "F1 Score: mean=98.909 std=0.224, n=5\n",
        "AUC Score: mean=99.991 std=0.004, n=5\n",
        "```\n",
        "\n",
        "Das Convolutional Neural Network erzeugte die deutlich besseren Ergebnisse gegenüber dem SGD Classifier. Zwar könnte beim CNN ein Overfitting vorliegen, dafür könnte der SGD Classifier sicherlich noch an der ein oder anderen Stelle optimiert werden um zumindest die 90% Grenze bei der Precision und dem Recall zu 'knacken'.\n",
        "\n",
        "Hier kann man aufgrund der guten Performance des CNN auch die Geschwindigkeitseinbußen gut verzeihen, da die Ergebnisse wirklich überzeugen.\n",
        "\n",
        "\n"
      ],
      "metadata": {
        "id": "B5otdX3s6q_n"
      }
    },
    {
      "cell_type": "markdown",
      "source": [
        "## Demonstration: Geschwindigkeit bei GPU vs. CPU bei Neuronalen Netzen\n",
        "\n",
        "*Quelle: https://colab.research.google.com/notebooks/gpu.ipynb#scrollTo=Y04m-jvKRDsJ*"
      ],
      "metadata": {
        "id": "5SiscYUn4N42"
      }
    },
    {
      "cell_type": "markdown",
      "source": [
        "Dieser oben genannte Geschwindigkeitsvorteil wird auch in folgendem Code seitens Google verdeutlicht. Hier ist ein Geschwindigkeitsvorteil von bis zu 23x (TPU  vs. CPU) zu sehen. Zu beachten ist hierbei, dass der erste Run einer CNN meist deutlich länger dauert aufgrund von Hintergrund-Initialisierungs-Tätigkeiten."
      ],
      "metadata": {
        "id": "nDi9Jn_G3zbs"
      }
    },
    {
      "cell_type": "code",
      "execution_count": null,
      "metadata": {
        "colab": {
          "base_uri": "https://localhost:8080/"
        },
        "id": "Y04m-jvKRDsJ",
        "outputId": "9a6fb598-ec5b-40e5-f43b-2f81a5083cac"
      },
      "outputs": [
        {
          "output_type": "stream",
          "name": "stdout",
          "text": [
            "Time (s) to convolve 32x7x7x3 filter over random 100x100x100x3 images (batch x height x width x channel). Sum of ten runs.\n",
            "CPU (s):\n",
            "3.6295164189999696\n",
            "GPU (s):\n",
            "0.10322615200004748\n",
            "GPU speedup over CPU: 35x\n"
          ]
        }
      ],
      "source": [
        "import tensorflow as tf\n",
        "import timeit\n",
        "\n",
        "device_name = tf.test.gpu_device_name()\n",
        "if device_name != '/device:GPU:0':\n",
        "  print(\n",
        "      '\\n\\nThis error most likely means that this notebook is not '\n",
        "      'configured to use a GPU.  Change this in Notebook Settings via the '\n",
        "      'command palette (cmd/ctrl-shift-P) or the Edit menu.\\n\\n')\n",
        "  raise SystemError('GPU device not found')\n",
        "\n",
        "def cpu():\n",
        "  with tf.device('/cpu:0'):\n",
        "    random_image_cpu = tf.random.normal((100, 100, 100, 3))\n",
        "    net_cpu = tf.keras.layers.Conv2D(32, 7)(random_image_cpu)\n",
        "    return tf.math.reduce_sum(net_cpu)\n",
        "\n",
        "def gpu():\n",
        "  with tf.device('/device:GPU:0'):\n",
        "    random_image_gpu = tf.random.normal((100, 100, 100, 3))\n",
        "    net_gpu = tf.keras.layers.Conv2D(32, 7)(random_image_gpu)\n",
        "    return tf.math.reduce_sum(net_gpu)\n",
        "\n",
        "# We run each op once to warm up; see: https://stackoverflow.com/a/45067900\n",
        "cpu()\n",
        "gpu()\n",
        "\n",
        "# Run the op several times.\n",
        "print('Time (s) to convolve 32x7x7x3 filter over random 100x100x100x3 images '\n",
        "      '(batch x height x width x channel). Sum of ten runs.')\n",
        "print('CPU (s):')\n",
        "cpu_time = timeit.timeit('cpu()', number=10, setup=\"from __main__ import cpu\")\n",
        "print(cpu_time)\n",
        "print('GPU (s):')\n",
        "gpu_time = timeit.timeit('gpu()', number=10, setup=\"from __main__ import gpu\")\n",
        "print(gpu_time)\n",
        "print('GPU speedup over CPU: {}x'.format(int(cpu_time/gpu_time)))"
      ]
    },
    {
      "cell_type": "markdown",
      "source": [
        "## Sonstiges - Check ob mit GPU verbunden"
      ],
      "metadata": {
        "id": "YOl7r8NVrR1I"
      }
    },
    {
      "cell_type": "code",
      "execution_count": null,
      "metadata": {
        "id": "23TOba33L4qf",
        "colab": {
          "base_uri": "https://localhost:8080/"
        },
        "outputId": "89827708-86ca-439b-df4d-606a5ae42fcc"
      },
      "outputs": [
        {
          "output_type": "stream",
          "name": "stdout",
          "text": [
            "Tue Jul  9 18:42:34 2024       \n",
            "+---------------------------------------------------------------------------------------+\n",
            "| NVIDIA-SMI 535.104.05             Driver Version: 535.104.05   CUDA Version: 12.2     |\n",
            "|-----------------------------------------+----------------------+----------------------+\n",
            "| GPU  Name                 Persistence-M | Bus-Id        Disp.A | Volatile Uncorr. ECC |\n",
            "| Fan  Temp   Perf          Pwr:Usage/Cap |         Memory-Usage | GPU-Util  Compute M. |\n",
            "|                                         |                      |               MIG M. |\n",
            "|=========================================+======================+======================|\n",
            "|   0  Tesla T4                       Off | 00000000:00:04.0 Off |                    0 |\n",
            "| N/A   67C    P0              31W /  70W |   2177MiB / 15360MiB |      0%      Default |\n",
            "|                                         |                      |                  N/A |\n",
            "+-----------------------------------------+----------------------+----------------------+\n",
            "                                                                                         \n",
            "+---------------------------------------------------------------------------------------+\n",
            "| Processes:                                                                            |\n",
            "|  GPU   GI   CI        PID   Type   Process name                            GPU Memory |\n",
            "|        ID   ID                                                             Usage      |\n",
            "|=======================================================================================|\n",
            "+---------------------------------------------------------------------------------------+\n"
          ]
        }
      ],
      "source": [
        "#Check, ob die Verbindung mit einer GPU besteht,\n",
        "#da die Dauer der Berechnung des CNN mit einer GPU deutlich (!!) schneller von statten geht.\n",
        "#CPU - 1 Durchlauf: 8 Minuten\n",
        "#GPU - ALLE Durchläufe: 5-6 Minuten\n",
        "gpu_info = !nvidia-smi\n",
        "gpu_info = '\\n'.join(gpu_info)\n",
        "if gpu_info.find('failed') >= 0:\n",
        "  print('Not connected to a GPU')\n",
        "else:\n",
        "  print(gpu_info)"
      ]
    }
  ],
  "metadata": {
    "kernelspec": {
      "display_name": "Python 3",
      "name": "python3"
    },
    "language_info": {
      "codemirror_mode": {
        "name": "ipython",
        "version": 3
      },
      "file_extension": ".py",
      "mimetype": "text/x-python",
      "name": "python",
      "nbconvert_exporter": "python",
      "pygments_lexer": "ipython3",
      "version": "3.12.3"
    },
    "nav_menu": {},
    "toc": {
      "navigate_menu": true,
      "number_sections": true,
      "sideBar": true,
      "threshold": 6,
      "toc_cell": false,
      "toc_section_display": "block",
      "toc_window_display": false
    },
    "colab": {
      "provenance": [],
      "gpuType": "T4",
      "toc_visible": true,
      "include_colab_link": true
    },
    "accelerator": "GPU"
  },
  "nbformat": 4,
  "nbformat_minor": 0
}
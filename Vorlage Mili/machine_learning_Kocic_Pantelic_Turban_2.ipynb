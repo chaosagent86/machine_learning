{
  "nbformat": 4,
  "nbformat_minor": 0,
  "metadata": {
    "colab": {
      "provenance": [],
      "toc_visible": true
    },
    "kernelspec": {
      "name": "python3",
      "display_name": "Python 3"
    },
    "language_info": {
      "name": "python"
    }
  },
  "cells": [
    {
      "cell_type": "markdown",
      "source": [
        "# **Angabe:**\n",
        "\n",
        "## **The goal:**\n",
        "\n",
        "Use a group-dependent subset of the well known mnist data-set\n",
        "to train and compare two models which do a binary classification.\n",
        "To get the group-specific data set you need two numbers\n",
        "\n",
        "* the **group number**, which is the 6 digit number obtained by concatenating the last three digits of the group members student IDs and use\n",
        "this group number >>>>>>> **that means for us: 081012** (because our group has three members, we just used the last 2 digits of each)\n",
        "\n",
        "* the **group digit** which is the third digit of your group number >>>>>>> **that means for us: 1**\n",
        "To obtain the data set take 10000 random-samples of the Mnist data set\n",
        "according to your group number - enter your group number in the python\n",
        "code where the data set is generated. Then your two models should learn to\n",
        "classify your group digit correctly.\n",
        "\n",
        "\n",
        "## **The tasks:**\n",
        "\n",
        "1. Work through the provided code and explain the model. In particular\n",
        "explain what the SGD-Classifier does/ how it works? If helpful, extend\n",
        "the code to clarify what is the concept of the model, what it predicts,\n",
        "etc. Finally explain the model evaluation.\n",
        "\n",
        "\n",
        "2. Extend the provided notebook and apply a Convolutional Neural Net-\n",
        "work (CNN) to the same binary classification task. There are many\n",
        "online tutorials for the Mnist dataset with CNNs - pick any of those and\n",
        "adapt them to your groups data set and the binary classification task.\n",
        "Experiment a bit with some of the hyper-parameters of the used model,\n",
        "explain what your model does (indicate how CNNs work, no details are\n",
        "necessary but feel free to add them) and what hyper-parameters you\n",
        "have picked.\n",
        "\n",
        "\n",
        "3. Compare both of your models? Which one is better, which one would\n",
        "you recommend?!"
      ],
      "metadata": {
        "id": "Ox361ZinZLb0"
      }
    },
    {
      "cell_type": "markdown",
      "source": [
        "### **Erläutern Sie das Modell und die Funktionsweise des SGD-Classifiers:**\n",
        "\n",
        "Der bereitgestellte Code auf Moodle, verwendet den _Stochastic Gradient Descent_ (SGD)-Classifier aus der sklearn-Bibliothek, um eine binäre Klassifizierung auf dem MNIST-Datensatz durchzuführen.\n",
        "\n",
        "SGD-Classifier ist ein linearer Classifier (wie SVM, logistische Regression) mit SGD-Training.\n",
        "\n",
        "Anstatt den Gradienten über den gesamten Datensatz zu berechnen (wie beim Batch-Gradienten), wird der Gradient für jedes Trainingsbeispiel berechnet und die Gewichte werden daraufhin sofort aktualisiert. Dadurch ist er im Vergleich schneller und gut für große Datensätze geeignet.\n",
        "\n",
        "### **Unterschiede zwischen SGD-Classifier und CNN**\n",
        "\n",
        "#### **SGD**\n",
        "\n",
        "* Der SGD-Klassifikator ist ein linearer Klassifikator, der nur eine Gewichtungsvektor und einen Bias lernt. Er verwendet den Stochastic Gradient Descent Algorithmus, um diese Parameter zu optimieren.\n",
        "\n",
        "* Während des Trainings durchläuft der SGD-Klassifikator das Dataset ebenfalls in mehreren Iterationen, aber im Gegensatz zu Epochen bei CNNs, erfolgt dies oft auf Sample-Basis oder Mini-Batch-Basis.\n",
        "\n",
        "* Die Anzahl der Iterationen und andere Hyperparameter können angepasst werden, aber dies ist oft weniger aufwendig als bei CNNs.\n",
        "\n",
        "* Ist schnell und effizient und eignet sich gut für große Datensätze\n",
        "\n",
        "* ist aber auch weniger komplex\n",
        "\n",
        "* DIe Genauigkeit ist abhängig von der Komplexität der Daten\n",
        "\n",
        "#### **CNN**\n",
        "\n",
        "* CNNs bestehen aus mehreren Schichten, einschließlich Convolutional Layers, Pooling Layers und Dense Layers. Diese Schichten lernen komplexe Muster und Merkmale aus den Eingabedaten.\n",
        "\n",
        "* Das Training von CNNs erfolgt in Epochen, wobei das gesamte Dataset mehrere Male durchlaufen wird. Dies ist notwendig, um die Gewichtungen in den verschiedenen Schichten schrittweise zu optimieren.\n",
        "\n",
        "* CNNs verwenden oft Batch-Verarbeitung, wobei Daten in kleinen Chargen durch das Netzwerk geleitet werden, um die Gewichtungen zu aktualisieren. Dies macht das Training effizienter und stabiler.\n",
        "\n",
        "* hat eine höhere Genauigkeit durch tiefere Architektur und spezialisierte Schichten.\n",
        "\n",
        "* Benötigt mehr Rechenressourcen und ist komplexer in der Implementierung.\n",
        "\n"
      ],
      "metadata": {
        "id": "MGqACTZuapoz"
      }
    },
    {
      "cell_type": "markdown",
      "source": [
        "## *Erklärung des bereitgestellten Codes:*"
      ],
      "metadata": {
        "id": "laoG53iheHi2"
      }
    },
    {
      "cell_type": "code",
      "source": [
        "# Python ≥3.5 is required\n",
        "import sys\n",
        "assert sys.version_info >= (3, 5)\n",
        "\n",
        "# Is this notebook running on Colab or Kaggle?\n",
        "IS_COLAB = \"google.colab\" in sys.modules\n",
        "IS_KAGGLE = \"kaggle_secrets\" in sys.modules\n",
        "\n",
        "# Scikit-Learn ≥0.20 is required\n",
        "import sklearn\n",
        "assert sklearn.__version__ >= \"0.20\"\n",
        "\n",
        "# Common imports\n",
        "import numpy as np\n",
        "import os\n",
        "\n",
        "# to make this notebook's output stable across runs\n",
        "np.random.seed(42)\n",
        "\n",
        "# To plot pretty figures\n",
        "%matplotlib inline\n",
        "import matplotlib as mpl\n",
        "import matplotlib.pyplot as plt\n",
        "mpl.rc('axes', labelsize=14)\n",
        "mpl.rc('xtick', labelsize=12)\n",
        "mpl.rc('ytick', labelsize=12)\n",
        "\n",
        "# Where to save the figures\n",
        "PROJECT_ROOT_DIR = \".\"\n",
        "CHAPTER_ID = \"classification\"\n",
        "IMAGES_PATH = os.path.join(PROJECT_ROOT_DIR, \"images\", CHAPTER_ID)\n",
        "os.makedirs(IMAGES_PATH, exist_ok=True)\n",
        "\n",
        "def save_fig(fig_id, tight_layout=True, fig_extension=\"png\", resolution=300):\n",
        "    path = os.path.join(IMAGES_PATH, fig_id + \".\" + fig_extension)\n",
        "    print(\"Saving figure\", fig_id)\n",
        "    if tight_layout:\n",
        "        plt.tight_layout()\n",
        "    plt.savefig(path, format=fig_extension, dpi=resolution)\n"
      ],
      "metadata": {
        "id": "Hg1a64IJqc4q"
      },
      "execution_count": null,
      "outputs": []
    },
    {
      "cell_type": "markdown",
      "source": [
        "HIer wird das **Setup** festgelegt:\n",
        "\n",
        "* **Python ≥3.5 is required:** Hier wird überprüft, ob Python 3.5 oder höher verwendet wird.\n",
        "\n",
        "* **IS_COLAB, IS_KAGGLE:** Hier wird überprüft, ob das Notebook in *Google Colab* oder auf *Kaggle* läuft. (Bei uns wäre es Google Colab)\n",
        "\n",
        "* **Scikit-Learn ≥0.20 is required:** Hier wird überprüft, ob Scikit-Learn Version 0.20 oder höher installiert ist.\n",
        "\n",
        "* **Common imports:** Importiert die üblichen Bibliotheken wie numpy und os.\n",
        "\n",
        "* **Random Seed:** Setzt den Zufallszahlengenerator, um reproduzierbare Ergebnisse zu ermöglichen.\n",
        "\n",
        "* **Plotting:** Konfiguriert Matplotlib für Inline-Plots und stellt sicher, dass Achsenbeschriftungen und Ticks gut lesbar sind.\n",
        "\n",
        "* **Save Figures:** Definiert eine Funktion zum Speichern von Diagrammen, wobei die Abbildungen automatisch im Verzeichnis images/classification gespeichert werden."
      ],
      "metadata": {
        "id": "-8c0BDHBqd55"
      }
    },
    {
      "cell_type": "code",
      "source": [
        "# Laden des MNIST-Datensatzes bzw nötiger Pakete\n",
        "from sklearn.datasets import fetch_openml\n",
        "import numpy as np\n",
        "\n",
        "# MNIST-Datensatz laden\n",
        "mnist = fetch_openml('mnist_784', as_frame=False)\n",
        "\n",
        "# Display the dataset keys\n",
        "mnist.keys()"
      ],
      "metadata": {
        "colab": {
          "base_uri": "https://localhost:8080/"
        },
        "id": "BnP3pYJnd8Yn",
        "outputId": "43ef897b-c105-4574-fa2a-215cb07fc1d1"
      },
      "execution_count": null,
      "outputs": [
        {
          "output_type": "stream",
          "name": "stderr",
          "text": [
            "/usr/local/lib/python3.10/dist-packages/sklearn/datasets/_openml.py:968: FutureWarning: The default value of `parser` will change from `'liac-arff'` to `'auto'` in 1.4. You can set `parser='auto'` to silence this warning. Therefore, an `ImportError` will be raised from 1.4 if the dataset is dense and pandas is not installed. Note that the pandas parser may return different data types. See the Notes Section in fetch_openml's API doc for details.\n",
            "  warn(\n"
          ]
        },
        {
          "output_type": "execute_result",
          "data": {
            "text/plain": [
              "dict_keys(['data', 'target', 'frame', 'categories', 'feature_names', 'target_names', 'DESCR', 'details', 'url'])"
            ]
          },
          "metadata": {},
          "execution_count": 119
        }
      ]
    },
    {
      "cell_type": "markdown",
      "source": [
        "Der MNIST-Datensatz wird aus OpenML geladen. Laut Online-Recherche (alias Wikipedia) besteht dieser Datensatz aus 60.000 Beispielen im Trainingsdatensatz und 10.000 Beispielen im Testdatensatz und enthält Bilder von handgeschriebenen Ziffern (0-9).\n",
        "\n",
        "* **fetch_openml:** Lädt den MNIST-Datensatz von OpenML.\n",
        "\n",
        "* **mnist.keys():** Zeigt die Schlüssel des geladenen MNIST-Datensatzes an, um die Struktur des Datensatzes zu verstehen."
      ],
      "metadata": {
        "id": "Sdd7JAhjrfVp"
      }
    },
    {
      "cell_type": "code",
      "source": [
        "# Zufällige Auswahl von 10.000 Stichproben\n",
        "np.random.seed(123456)\n",
        "indices = np.random.choice(mnist.data.shape[0], 10000, replace=False)\n",
        "\n",
        "# Teilmenge der Daten werden auswählen\n",
        "X = mnist.data[indices]\n",
        "y = mnist.target[indices].astype(np.uint8)\n",
        "\n",
        "# Display the shape of X and y\n",
        "X.shape, y.shape"
      ],
      "metadata": {
        "colab": {
          "base_uri": "https://localhost:8080/"
        },
        "id": "yGJM-LIyra0A",
        "outputId": "e87e9d5e-9b0e-4865-c236-b431a245277e"
      },
      "execution_count": null,
      "outputs": [
        {
          "output_type": "execute_result",
          "data": {
            "text/plain": [
              "((10000, 784), (10000,))"
            ]
          },
          "metadata": {},
          "execution_count": 120
        }
      ]
    },
    {
      "cell_type": "markdown",
      "source": [
        "* **random.seed:** Setzt den Zufallszahlengenerator auf einen festen Wert, um die Auswahl der Stichproben reproduzierbar zu machen.\n",
        "\n",
        "* **random.choice:** Es werden zufällig 10.000 Bilder aus dem gesamten Datensatz aus.\n",
        "\n",
        "* **X** enthält die Bilddaten (jede Zeile entspricht einem abgeflachten 28x28-Pixel-Bild - wieder lautt Wikipedia)\n",
        "\n",
        "* **y** enthält die zugehörigen Ziffernlabels.\n",
        "\n",
        "* **Shape** zeigt die Form der Daten (X) und Labels (y) an, um sicherzustellen, dass die Daten korrekt geladen wurden."
      ],
      "metadata": {
        "id": "-EYwCxPIlK3o"
      }
    },
    {
      "cell_type": "code",
      "source": [
        "%matplotlib inline\n",
        "import matplotlib as mpl\n",
        "import matplotlib.pyplot as plt\n",
        "\n",
        "# Ein Beispiel-Digit anzeigen\n",
        "some_digit = X[1] #ANwahl des 2. Bilds\n",
        "some_digit_image = some_digit.reshape(28, 28)\n",
        "plt.imshow(some_digit_image, cmap=mpl.cm.binary)\n",
        "plt.axis(\"off\")\n",
        "save_fig(\"some_digit_plot\")\n",
        "plt.show()\n",
        "\n",
        "# Display the label of the example digit\n",
        "y[1] # hiermit wird das Bild aufgerufen\n",
        "\n",
        "# Convert the target values to uint8\n",
        "y = y.astype(np.uint8)\n"
      ],
      "metadata": {
        "colab": {
          "base_uri": "https://localhost:8080/",
          "height": 505
        },
        "id": "aKEEmrDFmRE7",
        "outputId": "6329df05-d261-4f14-87a4-83df1dd609ae"
      },
      "execution_count": null,
      "outputs": [
        {
          "output_type": "stream",
          "name": "stdout",
          "text": [
            "Saving figure some_digit_plot\n"
          ]
        },
        {
          "output_type": "display_data",
          "data": {
            "text/plain": [
              "<Figure size 640x480 with 1 Axes>"
            ],
            "image/png": "[encoded data removed]"
          },
          "metadata": {}
        }
      ]
    },
    {
      "cell_type": "markdown",
      "source": [
        "hier wird die Visualisierung eines Beispieldigits vorbereitet/durchgeführt.\n",
        "\n",
        "* **%matplotlib inline:** somit stellen wir sicher, dass die Diagramme inline in Jupyter Notebooks angezeigt werden können.\n",
        "\n",
        "* **some_digit = X[1]:** Wir wählen hier ein Bild (in diesem Fall das 2. Bild in X)\n",
        "\n",
        "* **some_digit_image = some_digit.reshape(28, 28):** das Bild wird in seine ursprüngliche 28x28-Pixel-Darstellung zurückgeformt.\n",
        "\n",
        "* **plt.imshow:** der Teil wird verwendet, um das Bild anzuzeigen\n",
        "\n",
        "* **save_fig:** hiermit wird das Bild abgespeichert\n",
        "\n",
        "* **y[1]:** hiermit wird das Bild aufgerufen\n",
        "\n",
        "* **y = y.astype(np.uint8):** damit wird sicher gestellt, dass wir das richtige Datenformat haben = *uint8*\n"
      ],
      "metadata": {
        "id": "htQjIwzpmSYL"
      }
    },
    {
      "cell_type": "code",
      "source": [
        "# Aufteilen in Trainings- und Testset\n",
        "X_train, X_test, y_train, y_test = X[:8000], X[8000:], y[:8000], y[8000:]"
      ],
      "metadata": {
        "id": "Y53fQaxrl4m3"
      },
      "execution_count": null,
      "outputs": []
    },
    {
      "cell_type": "markdown",
      "source": [
        "Hier wird festgelegt, dass die ersten 8.000 Datenpunkte für das Training und die restlichen 2.000 für das Testen verwendet werden sollen.\n",
        "\n",
        "Dies stellt sicher, dass unser Modell auf einem Teil der Daten trainiert und auf einem anderen Teil getestet wird, um seine Leistung zu bewerten."
      ],
      "metadata": {
        "id": "f_7j6mmKmE7p"
      }
    },
    {
      "cell_type": "code",
      "execution_count": null,
      "metadata": {
        "id": "zulZzr6AY0Z_"
      },
      "outputs": [],
      "source": [
        "\n",
        "# Training eines Binary Classifier\n",
        "y_train_5 = (y_train == 5)\n",
        "y_test_5 = (y_test == 5)\n"
      ]
    },
    {
      "cell_type": "markdown",
      "source": [
        "Hier werden die Labels für die binäre Klassifikation festgelegt.\n",
        "\n",
        "Dabei stellt die Ziffer '5' die Zielklasse da - basierend auf ihr werden entsprechende  binäre Labels erstellt.\n",
        "\n",
        "Genauer:\n",
        "\n",
        "* y_train_5 und y_test_5 sind binäre Arrays, die **TRUE** enthalten, wenn die entsprechende Ziffer in y_train oder y_test eine '5' ist, und ansonsten **FALSE**\n",
        "\n",
        "* Diese binären Arrays dienen als Zielvariablen für die binäre Klassifikation, bei der der Klassifikator _lernt_, ob eine Ziffer eine '5' ist oder nicht."
      ],
      "metadata": {
        "id": "fl9tluYoeN4G"
      }
    },
    {
      "cell_type": "code",
      "source": [
        "\n",
        "from sklearn.linear_model import SGDClassifier\n",
        "\n",
        "sgd_clf = SGDClassifier(max_iter=1000, tol=1e-3, random_state=42)\n",
        "sgd_clf.fit(X_train, y_train_5)\n"
      ],
      "metadata": {
        "colab": {
          "base_uri": "https://localhost:8080/",
          "height": 74
        },
        "id": "Qa3yKTRddwvU",
        "outputId": "73f80194-95bf-4799-c931-7d29216494f0"
      },
      "execution_count": null,
      "outputs": [
        {
          "output_type": "execute_result",
          "data": {
            "text/plain": [
              "SGDClassifier(random_state=42)"
            ],
            "text/html": [
              "<style>#sk-container-id-4 {color: black;background-color: white;}#sk-container-id-4 pre{padding: 0;}#sk-container-id-4 div.sk-toggleable {background-color: white;}#sk-container-id-4 label.sk-toggleable__label {cursor: pointer;display: block;width: 100%;margin-bottom: 0;padding: 0.3em;box-sizing: border-box;text-align: center;}#sk-container-id-4 label.sk-toggleable__label-arrow:before {content: \"▸\";float: left;margin-right: 0.25em;color: #696969;}#sk-container-id-4 label.sk-toggleable__label-arrow:hover:before {color: black;}#sk-container-id-4 div.sk-estimator:hover label.sk-toggleable__label-arrow:before {color: black;}#sk-container-id-4 div.sk-toggleable__content {max-height: 0;max-width: 0;overflow: hidden;text-align: left;background-color: #f0f8ff;}#sk-container-id-4 div.sk-toggleable__content pre {margin: 0.2em;color: black;border-radius: 0.25em;background-color: #f0f8ff;}#sk-container-id-4 input.sk-toggleable__control:checked~div.sk-toggleable__content {max-height: 200px;max-width: 100%;overflow: auto;}#sk-container-id-4 input.sk-toggleable__control:checked~label.sk-toggleable__label-arrow:before {content: \"▾\";}#sk-container-id-4 div.sk-estimator input.sk-toggleable__control:checked~label.sk-toggleable__label {background-color: #d4ebff;}#sk-container-id-4 div.sk-label input.sk-toggleable__control:checked~label.sk-toggleable__label {background-color: #d4ebff;}#sk-container-id-4 input.sk-hidden--visually {border: 0;clip: rect(1px 1px 1px 1px);clip: rect(1px, 1px, 1px, 1px);height: 1px;margin: -1px;overflow: hidden;padding: 0;position: absolute;width: 1px;}#sk-container-id-4 div.sk-estimator {font-family: monospace;background-color: #f0f8ff;border: 1px dotted black;border-radius: 0.25em;box-sizing: border-box;margin-bottom: 0.5em;}#sk-container-id-4 div.sk-estimator:hover {background-color: #d4ebff;}#sk-container-id-4 div.sk-parallel-item::after {content: \"\";width: 100%;border-bottom: 1px solid gray;flex-grow: 1;}#sk-container-id-4 div.sk-label:hover label.sk-toggleable__label {background-color: #d4ebff;}#sk-container-id-4 div.sk-serial::before {content: \"\";position: absolute;border-left: 1px solid gray;box-sizing: border-box;top: 0;bottom: 0;left: 50%;z-index: 0;}#sk-container-id-4 div.sk-serial {display: flex;flex-direction: column;align-items: center;background-color: white;padding-right: 0.2em;padding-left: 0.2em;position: relative;}#sk-container-id-4 div.sk-item {position: relative;z-index: 1;}#sk-container-id-4 div.sk-parallel {display: flex;align-items: stretch;justify-content: center;background-color: white;position: relative;}#sk-container-id-4 div.sk-item::before, #sk-container-id-4 div.sk-parallel-item::before {content: \"\";position: absolute;border-left: 1px solid gray;box-sizing: border-box;top: 0;bottom: 0;left: 50%;z-index: -1;}#sk-container-id-4 div.sk-parallel-item {display: flex;flex-direction: column;z-index: 1;position: relative;background-color: white;}#sk-container-id-4 div.sk-parallel-item:first-child::after {align-self: flex-end;width: 50%;}#sk-container-id-4 div.sk-parallel-item:last-child::after {align-self: flex-start;width: 50%;}#sk-container-id-4 div.sk-parallel-item:only-child::after {width: 0;}#sk-container-id-4 div.sk-dashed-wrapped {border: 1px dashed gray;margin: 0 0.4em 0.5em 0.4em;box-sizing: border-box;padding-bottom: 0.4em;background-color: white;}#sk-container-id-4 div.sk-label label {font-family: monospace;font-weight: bold;display: inline-block;line-height: 1.2em;}#sk-container-id-4 div.sk-label-container {text-align: center;}#sk-container-id-4 div.sk-container {/* jupyter's `normalize.less` sets `[hidden] { display: none; }` but bootstrap.min.css set `[hidden] { display: none !important; }` so we also need the `!important` here to be able to override the default hidden behavior on the sphinx rendered scikit-learn.org. See: https://github.com/scikit-learn/scikit-learn/issues/21755 */display: inline-block !important;position: relative;}#sk-container-id-4 div.sk-text-repr-fallback {display: none;}</style><div id=\"sk-container-id-4\" class=\"sk-top-container\"><div class=\"sk-text-repr-fallback\"><pre>SGDClassifier(random_state=42)</pre><b>In a Jupyter environment, please rerun this cell to show the HTML representation or trust the notebook. <br />On GitHub, the HTML representation is unable to render, please try loading this page with nbviewer.org.</b></div><div class=\"sk-container\" hidden><div class=\"sk-item\"><div class=\"sk-estimator sk-toggleable\"><input class=\"sk-toggleable__control sk-hidden--visually\" id=\"sk-estimator-id-4\" type=\"checkbox\" checked><label for=\"sk-estimator-id-4\" class=\"sk-toggleable__label sk-toggleable__label-arrow\">SGDClassifier</label><div class=\"sk-toggleable__content\"><pre>SGDClassifier(random_state=42)</pre></div></div></div></div></div>"
            ]
          },
          "metadata": {},
          "execution_count": 124
        }
      ]
    },
    {
      "cell_type": "markdown",
      "source": [
        "**SGD-Classifier** wird aus dem Modul **sklearn.linear_model** importiert.\n",
        "\n",
        "Der SGDClassifier wird anschließend mit den Parametern max_iter=1000, tol=1e-3 und random_state=42 initialisiert.\n",
        "\n",
        "\n",
        "* **max_iter=1000:** hier wird die maximale Anzahl an Iterationen, die der SGD-Algorithmus durchlaufen soll, gesetzt. Dies dient dazu, die Trainingszeit zu begrenzen.\n",
        "\n",
        "\n",
        "* **tol=1e-3:** hier wird die Toleranz für die Konvergenz festgelegt. Wenn die Änderung der Verlustfunktion zwischen den Iterationen kleiner als dieser Wert ist, wird das Training gestoppt.\n",
        "\n",
        "\n",
        "* **random_state=42:** Setzt den Zufallszahlengenerator auf einen festen Wert, um die Ergebnisse reproduzierbar zu machen.\n",
        "\n",
        "* **Training:** Der Classifier wird mit den Trainingsdaten X_train und den binären Labels y_train_5 trainiert. Der fit-Befehl passt das Modell an die Daten an."
      ],
      "metadata": {
        "id": "BZvSURzsfUht"
      }
    },
    {
      "cell_type": "code",
      "source": [
        "# Vorhersage\n",
        "sgd_clf.predict([some_digit])"
      ],
      "metadata": {
        "colab": {
          "base_uri": "https://localhost:8080/"
        },
        "id": "m6IPT67td8rD",
        "outputId": "f659aab0-7479-4bf3-fb6b-29da26dd306a"
      },
      "execution_count": null,
      "outputs": [
        {
          "output_type": "execute_result",
          "data": {
            "text/plain": [
              "array([False])"
            ]
          },
          "metadata": {},
          "execution_count": 125
        }
      ]
    },
    {
      "cell_type": "markdown",
      "source": [
        "Der Classifier wird hier verwendet, um eine Vorhersage für eine einzelne Ziffer zu machen.\n",
        "\n",
        "In oberen Fall **some_digit**, welches ein einzelnes *Bild* einer Ziffer aus dem Datensatz ist.\n",
        "\n",
        "Der **predict**-Befehl gibt **TRUE** zurück, wenn der Classifier annimmt, dass **some_digit** eine '5' ist, und ansonsten **FALSE**.\n"
      ],
      "metadata": {
        "id": "KJ2rzD8AhspI"
      }
    },
    {
      "cell_type": "code",
      "source": [
        "# Cross-Validation\n",
        "from sklearn.model_selection import cross_val_score\n",
        "cross_val_score(sgd_clf, X_train, y_train_5, cv=3, scoring=\"accuracy\")"
      ],
      "metadata": {
        "colab": {
          "base_uri": "https://localhost:8080/"
        },
        "id": "YI2iEQG_d8oc",
        "outputId": "41a54959-b82f-4e1c-80ca-01aac5e0f134"
      },
      "execution_count": null,
      "outputs": [
        {
          "output_type": "execute_result",
          "data": {
            "text/plain": [
              "array([0.9336333 , 0.9576303 , 0.96324081])"
            ]
          },
          "metadata": {},
          "execution_count": 126
        }
      ]
    },
    {
      "cell_type": "markdown",
      "source": [
        "**cross_val_score** wird aus dem Modul **sklearn.model_selection** importiert.\n",
        "\n",
        "Cross-Validation - Diese Methode wird verwendet, um die Genauigkeit des Classifiers zu ermitteln. Hier wird eine 3-fache Kreuzvalidierung (cv=3) durchgeführt.\n",
        "\n",
        "* Kreuzvalidierung/Cross-Validation:\n",
        "\n",
        "  Der Datensatz wird in drei gleich große Teile/Folds aufgeteilt. Dies bedeutet, dass das Modell dreimal trainiert wird, wobei jedes Mal zwei Folds zum Training und ein Fold zum Testen verwendet werden.\n",
        "\n",
        "\n",
        "* Genauigkeit/Accuracy:\n",
        "\n",
        "  Die Genauigkeit wird als Bewertungsmaß verwendet (scoring=\"accuracy\"), dieser stellt den Anteil der korrekt vorhergesagten Labels dar.\n",
        "\n",
        "\n",
        "**cross_val_score** gibt ebenfalls ein Array mit Genauigkeitswerten für jeden Fold zurück.\n",
        "Dies ermöglicht eine Bewertung der Modellleistung und gibt einen Hinweis auf die _Generalisierungsfähigkeit_ des Modells."
      ],
      "metadata": {
        "id": "wwxExV7GjIUF"
      }
    },
    {
      "cell_type": "code",
      "source": [
        "from sklearn.model_selection import StratifiedKFold\n",
        "from sklearn.base import clone\n",
        "\n",
        "# Perform stratified K-fold cross-validation\n",
        "skfolds = StratifiedKFold(n_splits=3, shuffle=True, random_state=42)\n",
        "\n",
        "for train_index, test_index in skfolds.split(X_train, y_train_5):\n",
        "    clone_clf = clone(sgd_clf)\n",
        "    X_train_folds = X_train[train_index]\n",
        "    y_train_folds = y_train_5[train_index]\n",
        "    X_test_fold = X_train[test_index]\n",
        "    y_test_fold = y_train_5[test_index]\n",
        "\n",
        "    clone_clf.fit(X_train_folds, y_train_folds)\n",
        "    y_pred = clone_clf.predict(X_test_fold)\n",
        "    n_correct = sum(y_pred == y_test_fold)\n",
        "    print(n_correct / len(y_pred))\n"
      ],
      "metadata": {
        "colab": {
          "base_uri": "https://localhost:8080/"
        },
        "id": "hFTYKCezuDxj",
        "outputId": "a844b9a1-e0d6-403a-f96f-ed1b54ee7290"
      },
      "execution_count": null,
      "outputs": [
        {
          "output_type": "stream",
          "name": "stdout",
          "text": [
            "0.9478815148106486\n",
            "0.9583802024746907\n",
            "0.9399849962490623\n"
          ]
        }
      ]
    },
    {
      "cell_type": "markdown",
      "source": [
        "* **stratified K-fold cross-validation:**\n",
        "Hier wird eine K-Fold-Kreuzvalidierung durchgeführt, wobei die Verteilung der Klassen in jedem Fold beibehalten wird (StratifiedKFold).\n",
        "\n",
        "* **n_splits=3:** Teilt die Daten in 3 Folds auf.\n",
        "\n",
        "* **shuffle=True:** Mischt die Daten vor der Aufteilung.\n",
        "* **random_state=42:** Stellt *wieder Mal* sicher, dass die Ergebnisse reproduzierbar sind.\n",
        "\n",
        "* **clone:** Es wird eine Kopie des SGD-Classifiers für jeden Fold erstellt.\n",
        "\n",
        "* **Training und Vorhersage:** Trainiert das Modell auf den Trainings-Folds und führt Vorhersagen auf den Test-Folds durch.\n",
        "\n",
        "* **Genauigkeit:** Berechnet hier nun wieder und druckt die Genauigkeit für jeden Fold.\n",
        "\n",
        "\n"
      ],
      "metadata": {
        "id": "CQeWN_wEuQK9"
      }
    },
    {
      "cell_type": "code",
      "source": [
        "from sklearn.base import BaseEstimator\n",
        "\n",
        "# Create a dummy classifier that never predicts 5\n",
        "class Never5Classifier(BaseEstimator):\n",
        "    def fit(self, X, y=None):\n",
        "        pass\n",
        "    def predict(self, X):\n",
        "        return np.zeros((len(X), 1), dtype=bool)\n",
        "\n",
        "# Evaluate the dummy classifier\n",
        "never_5_clf = Never5Classifier()\n",
        "cross_val_score(never_5_clf, X_train, y_train_5, cv=3, scoring=\"accuracy\")\n"
      ],
      "metadata": {
        "colab": {
          "base_uri": "https://localhost:8080/"
        },
        "id": "9a-4cYWkvEu8",
        "outputId": "ff8021e4-4b4a-4ca9-91d1-16ad225691b8"
      },
      "execution_count": null,
      "outputs": [
        {
          "output_type": "execute_result",
          "data": {
            "text/plain": [
              "array([0.90438695, 0.91301087, 0.90322581])"
            ]
          },
          "metadata": {},
          "execution_count": 128
        }
      ]
    },
    {
      "cell_type": "markdown",
      "source": [
        "* **Dummy-Classifier:** Erstellt einen Classiefier, der niemals '5' vorhersagt. DIes soll als Basislinie für den Vergleich dienen.\n",
        "\n",
        "* **Evaluierung:** Auch der Dummy-Classifier wird mithilfe von Kreuzvalidierung bewertet."
      ],
      "metadata": {
        "id": "88UtAYHtvJem"
      }
    },
    {
      "cell_type": "code",
      "source": [
        "from sklearn.model_selection import cross_val_predict\n",
        "\n",
        "# Generate cross-validated predictions\n",
        "y_train_pred = cross_val_predict(sgd_clf, X_train, y_train_5, cv=3)\n"
      ],
      "metadata": {
        "id": "tG3PwdgZvgUY"
      },
      "execution_count": null,
      "outputs": []
    },
    {
      "cell_type": "markdown",
      "source": [
        "Hier werden Vorhersagen für jeden Datenpunkt in den Trainingsdaten mithilfe von Kreuzvalidierung generiert."
      ],
      "metadata": {
        "id": "oA6tnab3vhOA"
      }
    },
    {
      "cell_type": "code",
      "source": [
        "from sklearn.metrics import confusion_matrix\n",
        "\n",
        "# Compute the confusion matrix\n",
        "confusion_matrix(y_train_5, y_train_pred)\n"
      ],
      "metadata": {
        "colab": {
          "base_uri": "https://localhost:8080/"
        },
        "id": "o3ZC8zTWvpU2",
        "outputId": "870b4a25-887a-4c5f-915c-f84285e159cc"
      },
      "execution_count": null,
      "outputs": [
        {
          "output_type": "execute_result",
          "data": {
            "text/plain": [
              "array([[7034,  221],\n",
              "       [ 167,  578]])"
            ]
          },
          "metadata": {},
          "execution_count": 130
        }
      ]
    },
    {
      "cell_type": "markdown",
      "source": [
        "Hier wird eine Konfusionsmatrix berechnet, die anzeigen soll, wie oft Instanzen der tatsächlichen Klassen in die vorhergesagten Klassen klassifiziert werden können."
      ],
      "metadata": {
        "id": "TKpvg8RGvsbW"
      }
    },
    {
      "cell_type": "code",
      "source": [
        "# Display a perfect confusion matrix for comparison\n",
        "y_train_perfect_predictions = y_train_5  # pretend we reached perfection\n",
        "confusion_matrix(y_train_5, y_train_perfect_predictions)\n"
      ],
      "metadata": {
        "colab": {
          "base_uri": "https://localhost:8080/"
        },
        "id": "tkEpD019v3vX",
        "outputId": "cf1a0db4-4b15-46cd-d2f9-adb4f66c4986"
      },
      "execution_count": null,
      "outputs": [
        {
          "output_type": "execute_result",
          "data": {
            "text/plain": [
              "array([[7255,    0],\n",
              "       [   0,  745]])"
            ]
          },
          "metadata": {},
          "execution_count": 131
        }
      ]
    },
    {
      "cell_type": "markdown",
      "source": [
        "Hier wird eine Konfuziusmatrix eines *perfekten* Modells angezeigt. Ein *perfektes* Model bedeutet, dass alle Vorhersagen korrekt sind."
      ],
      "metadata": {
        "id": "Ix9cKVg6v5_6"
      }
    },
    {
      "cell_type": "code",
      "source": [
        "from sklearn.metrics import precision_score, recall_score\n",
        "\n",
        "# Compute precision and recall\n",
        "precision_score(y_train_5, y_train_pred), recall_score(y_train_5, y_train_pred)\n"
      ],
      "metadata": {
        "colab": {
          "base_uri": "https://localhost:8080/"
        },
        "id": "Ff_LBNhkwmFR",
        "outputId": "4737100b-bc33-4c66-9c01-5d97effd226b"
      },
      "execution_count": null,
      "outputs": [
        {
          "output_type": "execute_result",
          "data": {
            "text/plain": [
              "(0.723404255319149, 0.7758389261744967)"
            ]
          },
          "metadata": {},
          "execution_count": 132
        }
      ]
    },
    {
      "cell_type": "markdown",
      "source": [
        "**Precision-Score** und **Recall-Score** werden hier angezeigt.\n",
        "\n",
        "Diese werden wie folgt berechnet:\n",
        "\n",
        "Prezision = Der Anteil der relevanten Instanzen ***unter*** den abgerufenen Instanzen\n",
        "\n",
        "    Precision = True Positive/(True Positives + False Positives)\n",
        "\n",
        "\n",
        "Recall = Der Anteil der relevanten Instanzen, die abgerufen wurden.\n",
        "\n",
        "    Recall = True Positive/(True Positives + False Negatives)\n"
      ],
      "metadata": {
        "id": "NHlybi_-woTy"
      }
    },
    {
      "cell_type": "code",
      "source": [
        "# Manually compute precision and recall\n",
        "cm = confusion_matrix(y_train_5, y_train_pred)\n",
        "precision = cm[1, 1] / (cm[0, 1] + cm[1, 1])\n",
        "recall = cm[1, 1] / (cm[1, 0] + cm[1, 1])\n",
        "precision, recall\n"
      ],
      "metadata": {
        "colab": {
          "base_uri": "https://localhost:8080/"
        },
        "id": "2aS239hHws6W",
        "outputId": "eb0a8c2b-21f0-4260-e8d5-f0063c302459"
      },
      "execution_count": null,
      "outputs": [
        {
          "output_type": "execute_result",
          "data": {
            "text/plain": [
              "(0.723404255319149, 0.7758389261744967)"
            ]
          },
          "metadata": {},
          "execution_count": 133
        }
      ]
    },
    {
      "cell_type": "markdown",
      "source": [
        "Der zuvor erklärte Teil, der hier nun manuel berechnet wird."
      ],
      "metadata": {
        "id": "hBfl1SKPyB36"
      }
    },
    {
      "cell_type": "code",
      "source": [
        "from sklearn.metrics import f1_score\n",
        "\n",
        "# Compute the F1 score\n",
        "f1_score(y_train_5, y_train_pred)\n"
      ],
      "metadata": {
        "colab": {
          "base_uri": "https://localhost:8080/"
        },
        "id": "ixGQFY-eyJmm",
        "outputId": "206a89c6-6d55-4bd9-ee30-b1c204be88b9"
      },
      "execution_count": null,
      "outputs": [
        {
          "output_type": "execute_result",
          "data": {
            "text/plain": [
              "0.7487046632124352"
            ]
          },
          "metadata": {},
          "execution_count": 134
        }
      ]
    },
    {
      "cell_type": "markdown",
      "source": [
        "Der F1-Score berechnet das harmonische Mittel von Präzision und Recall\n",
        "\n",
        "    F1-Score = 2* [(precision*Recall)/(Precision+Recall)]"
      ],
      "metadata": {
        "id": "_cXdzzPAyMjw"
      }
    },
    {
      "cell_type": "code",
      "source": [
        "## The ROC Curve\n",
        "\n",
        "# Compute decision scores\n",
        "y_scores = sgd_clf.decision_function([some_digit])\n",
        "y_scores\n"
      ],
      "metadata": {
        "colab": {
          "base_uri": "https://localhost:8080/"
        },
        "id": "eKlJXPkwy5q9",
        "outputId": "52b06b3e-4bed-4c7d-ee9e-05b29fd78dc2"
      },
      "execution_count": null,
      "outputs": [
        {
          "output_type": "execute_result",
          "data": {
            "text/plain": [
              "array([-218758.48631448])"
            ]
          },
          "metadata": {},
          "execution_count": 135
        }
      ]
    },
    {
      "cell_type": "markdown",
      "source": [
        "Hier werden die Entscheidungsscores für ein Beispielbild berechnet.\n",
        "\n",
        "Sie werden verwendet, um vorherzusagen, ob das Bild eine '5' ist oder nicht."
      ],
      "metadata": {
        "id": "mv-zdov3y-yB"
      }
    },
    {
      "cell_type": "code",
      "source": [
        "# Predict using a specific threshold\n",
        "threshold = 0\n",
        "y_some_digit_pred = (y_scores > threshold)\n",
        "y_some_digit_pred\n",
        "\n",
        "# Predict using a different threshold\n",
        "threshold = -300000\n",
        "y_some_digit_pred = (y_scores > threshold)\n",
        "y_some_digit_pred\n"
      ],
      "metadata": {
        "colab": {
          "base_uri": "https://localhost:8080/"
        },
        "id": "n4Bvt3yOzHBq",
        "outputId": "e977de56-0159-4f26-ab0b-ac11972fe33b"
      },
      "execution_count": null,
      "outputs": [
        {
          "output_type": "execute_result",
          "data": {
            "text/plain": [
              "array([ True])"
            ]
          },
          "metadata": {},
          "execution_count": 136
        }
      ]
    },
    {
      "cell_type": "markdown",
      "source": [
        "Hier soll angezeigt werden, wie unterschiedliche Schwellenwerte/Tresholds, die Vorhersage beeinflussen können."
      ],
      "metadata": {
        "id": "oofuuDCozLBP"
      }
    },
    {
      "cell_type": "code",
      "source": [
        "# Generate decision scores for all cross-validated predictions\n",
        "y_scores = cross_val_predict(sgd_clf, X_train, y_train_5, cv=3, method=\"decision_function\")\n"
      ],
      "metadata": {
        "id": "mGSsCVxezhP8"
      },
      "execution_count": null,
      "outputs": []
    },
    {
      "cell_type": "markdown",
      "source": [
        "Hier werden Entscheidungsscores für alle Vorhersagen in den Trainingsdaten mithilfe von Kreuzvalidierung generiert."
      ],
      "metadata": {
        "id": "ccnOZn0QzkIP"
      }
    },
    {
      "cell_type": "code",
      "source": [
        "from sklearn.metrics import roc_curve\n",
        "\n",
        "# Compute ROC curve\n",
        "fpr, tpr, thresholds = roc_curve(y_train_5, y_scores)\n",
        "\n",
        "# Plot ROC curve\n",
        "def plot_roc_curve(fpr, tpr, label=None):\n",
        "    plt.plot(fpr, tpr, linewidth=2, label=label)\n",
        "    plt.plot([0, 1], [0, 1], 'k--')  # dashed diagonal\n",
        "    plt.axis([0, 1, 0, 1])\n",
        "    plt.xlabel('False Positive Rate (Fall-Out)', fontsize=16)\n",
        "    plt.ylabel('True Positive Rate (Recall)', fontsize=16)\n",
        "    plt.grid(True)\n",
        "\n",
        "plt.figure(figsize=(8, 6))\n",
        "plot_roc_curve(fpr, tpr)\n",
        "plt.show()\n"
      ],
      "metadata": {
        "colab": {
          "base_uri": "https://localhost:8080/",
          "height": 559
        },
        "id": "jBeoLJPJzq-d",
        "outputId": "5a84fd1b-1c06-4f1f-fd27-d9d3b8c976d1"
      },
      "execution_count": null,
      "outputs": [
        {
          "output_type": "display_data",
          "data": {
            "text/plain": [
              "<Figure size 800x600 with 1 Axes>"
            ],
            "image/png": "[encoded data removed]"
          },
          "metadata": {}
        }
      ]
    },
    {
      "cell_type": "markdown",
      "source": [
        "Hier wird die ROC-Kurve berechnet, die die True Positive Rate (TPR) gegen die False Positive Rate (FPR) bei verschiedenen Schwellenwerten darstellt und anschließend geplottet."
      ],
      "metadata": {
        "id": "CLbX86r1zj_U"
      }
    },
    {
      "cell_type": "code",
      "source": [
        "from sklearn.metrics import roc_auc_score\n",
        "\n",
        "# Compute AUC\n",
        "roc_auc_score(y_train_5, y_scores)\n"
      ],
      "metadata": {
        "colab": {
          "base_uri": "https://localhost:8080/"
        },
        "id": "dxIZX4pA0CQu",
        "outputId": "0c1b92ce-1905-4702-b622-3f18ffa8dd51"
      },
      "execution_count": null,
      "outputs": [
        {
          "output_type": "execute_result",
          "data": {
            "text/plain": [
              "0.9549633439562625"
            ]
          },
          "metadata": {},
          "execution_count": 139
        }
      ]
    },
    {
      "cell_type": "markdown",
      "source": [
        "hier wird zum schluss noch die Fläche unter der ROC-Kurve (AUC) - als Maß für die Trennfähigkeit des Modells- berechnet.\n",
        "\n",
        "Eine AUC von 1 bedeutet perfekte Trennung, während eine AUC von 0.5 zufällige Klassifikation bedeutet."
      ],
      "metadata": {
        "id": "XwKGPZQa0FZV"
      }
    },
    {
      "cell_type": "markdown",
      "source": [
        "\n",
        "\n",
        "---\n",
        "\n",
        "\n",
        "\n",
        "---\n",
        "\n",
        "\n",
        "\n",
        "---\n",
        "\n",
        "\n"
      ],
      "metadata": {
        "id": "DqNBPds22XCI"
      }
    },
    {
      "cell_type": "markdown",
      "source": [
        "## *Anpassung und Erweiterung des bereitgestellten Codes:*"
      ],
      "metadata": {
        "id": "7ihV7aeJ2fKX"
      }
    },
    {
      "cell_type": "code",
      "source": [
        "# Setup\n",
        "\n",
        "# Python ≥3.5 is required\n",
        "import sys\n",
        "assert sys.version_info >= (3, 5)\n",
        "\n",
        "# Is this notebook running on Colab or Kaggle?\n",
        "IS_COLAB = \"google.colab\" in sys.modules\n",
        "IS_KAGGLE = \"kaggle_secrets\" in sys.modules\n",
        "\n",
        "# Scikit-Learn ≥0.20 is required\n",
        "import sklearn\n",
        "assert sklearn.__version__ >= \"0.20\"\n",
        "\n",
        "# Common imports\n",
        "import numpy as np\n",
        "import os\n",
        "\n",
        "# to make this notebook's output stable across runs\n",
        "np.random.seed(42)\n",
        "\n",
        "# To plot pretty figures\n",
        "%matplotlib inline\n",
        "import matplotlib as mpl\n",
        "import matplotlib.pyplot as plt\n",
        "mpl.rc('axes', labelsize=14)\n",
        "mpl.rc('xtick', labelsize=12)\n",
        "mpl.rc('ytick', labelsize=12)\n",
        "\n",
        "# Where to save the figures\n",
        "PROJECT_ROOT_DIR = \".\"\n",
        "CHAPTER_ID = \"classification\"\n",
        "IMAGES_PATH = os.path.join(PROJECT_ROOT_DIR, \"images\", CHAPTER_ID)\n",
        "os.makedirs(IMAGES_PATH, exist_ok=True)\n",
        "\n",
        "def save_fig(fig_id, tight_layout=True, fig_extension=\"png\", resolution=300):\n",
        "    path = os.path.join(IMAGES_PATH, fig_id + \".\" + fig_extension)\n",
        "    print(\"Saving figure\", fig_id)\n",
        "    if tight_layout:\n",
        "        plt.tight_layout()\n",
        "    plt.savefig(path, format=fig_extension, dpi=resolution)\n",
        "\n"
      ],
      "metadata": {
        "id": "zGQ4CYn92bfD"
      },
      "execution_count": null,
      "outputs": []
    },
    {
      "cell_type": "code",
      "source": [
        "from sklearn.datasets import fetch_openml\n",
        "import numpy as np\n",
        "\n",
        "# Load the MNIST dataset\n",
        "mnist = fetch_openml('mnist_784', as_frame=False)\n",
        "\n",
        "# Set the random seed based on the group number\n",
        "group_number = \"081012\" # 08 - Kocic; 10 - Pantelic; 12 - Turban\n",
        "np.random.seed(int(group_number)) # da unsere Gruppennummer mit 0 beginnt müssen wir diese als String abspeichern und dann zu int konvertieren\n",
        "\n",
        "# Get indices for random selection\n",
        "indices = np.random.choice(mnist.data.shape[0], 10000, replace=False)\n",
        "\n",
        "# Select subset using the indices\n",
        "X = mnist.data[indices]\n",
        "y = mnist.target[indices].astype(np.uint8)\n",
        "\n",
        "\n"
      ],
      "metadata": {
        "colab": {
          "base_uri": "https://localhost:8080/"
        },
        "id": "ekx0966h2yxX",
        "outputId": "4dadd762-b7e3-4691-a8dc-16de53e3d96d"
      },
      "execution_count": null,
      "outputs": [
        {
          "output_type": "stream",
          "name": "stderr",
          "text": [
            "/usr/local/lib/python3.10/dist-packages/sklearn/datasets/_openml.py:968: FutureWarning: The default value of `parser` will change from `'liac-arff'` to `'auto'` in 1.4. You can set `parser='auto'` to silence this warning. Therefore, an `ImportError` will be raised from 1.4 if the dataset is dense and pandas is not installed. Note that the pandas parser may return different data types. See the Notes Section in fetch_openml's API doc for details.\n",
            "  warn(\n"
          ]
        }
      ]
    },
    {
      "cell_type": "code",
      "source": [
        "# Display the shape of X and y\n",
        "X.shape, y.shape\n",
        "\n",
        "%matplotlib inline\n",
        "import matplotlib as mpl\n",
        "import matplotlib.pyplot as plt\n",
        "\n",
        "# Display an example digit\n",
        "some_digit = X[1]\n",
        "some_digit_image = some_digit.reshape(28, 28)\n",
        "plt.imshow(some_digit_image, cmap=mpl.cm.binary)\n",
        "plt.axis(\"off\")\n",
        "save_fig(\"some_digit_plot\")\n",
        "plt.show()"
      ],
      "metadata": {
        "colab": {
          "base_uri": "https://localhost:8080/",
          "height": 505
        },
        "id": "P2qOTwHH3oP0",
        "outputId": "e7fb4269-707a-483a-a4d0-3fe7e109f429"
      },
      "execution_count": null,
      "outputs": [
        {
          "output_type": "stream",
          "name": "stdout",
          "text": [
            "Saving figure some_digit_plot\n"
          ]
        },
        {
          "output_type": "display_data",
          "data": {
            "text/plain": [
              "<Figure size 640x480 with 1 Axes>"
            ],
            "image/png": "[encoded data removed]"
          },
          "metadata": {}
        }
      ]
    },
    {
      "cell_type": "code",
      "source": [
        "# Display the label of the example digit\n",
        "y[1]\n"
      ],
      "metadata": {
        "colab": {
          "base_uri": "https://localhost:8080/"
        },
        "id": "hOyfuxJ930yg",
        "outputId": "b1d28df3-4511-4503-ea90-9ada7351f4e0"
      },
      "execution_count": null,
      "outputs": [
        {
          "output_type": "execute_result",
          "data": {
            "text/plain": [
              "7"
            ]
          },
          "metadata": {},
          "execution_count": 143
        }
      ]
    },
    {
      "cell_type": "code",
      "source": [
        "# Convert the target values to uint8\n",
        "y = y.astype(np.uint8)\n",
        "# Convert the target values to uint8\n",
        "y = y.astype(np.uint8)\n",
        "\n",
        "# Determine the group digit (third digit of the group number)\n",
        "group_digit = int(str(group_number)[2])\n",
        "\n",
        "# Create target vectors for binary classification (group digit vs. not group digit)\n",
        "y_train_group_digit = (y_train == group_digit)\n",
        "y_test_group_digit = (y_test == group_digit)\n"
      ],
      "metadata": {
        "id": "RB3FQWJ835m7"
      },
      "execution_count": null,
      "outputs": []
    },
    {
      "cell_type": "markdown",
      "source": [
        "#### ***SGD-Classifier***"
      ],
      "metadata": {
        "id": "ivFYYdaZ3_25"
      }
    },
    {
      "cell_type": "code",
      "source": [
        "from sklearn.linear_model import SGDClassifier\n",
        "\n",
        "# Initialize and train the SGD Classifier\n",
        "sgd_clf = SGDClassifier(max_iter=1000, tol=1e-3, random_state=42)\n",
        "sgd_clf.fit(X_train, y_train_group_digit)\n"
      ],
      "metadata": {
        "colab": {
          "base_uri": "https://localhost:8080/",
          "height": 74
        },
        "id": "-VEOTANN4FnV",
        "outputId": "c0e8532e-82bb-48ee-ac80-979706f1e541"
      },
      "execution_count": null,
      "outputs": [
        {
          "output_type": "execute_result",
          "data": {
            "text/plain": [
              "SGDClassifier(random_state=42)"
            ],
            "text/html": [
              "<style>#sk-container-id-5 {color: black;background-color: white;}#sk-container-id-5 pre{padding: 0;}#sk-container-id-5 div.sk-toggleable {background-color: white;}#sk-container-id-5 label.sk-toggleable__label {cursor: pointer;display: block;width: 100%;margin-bottom: 0;padding: 0.3em;box-sizing: border-box;text-align: center;}#sk-container-id-5 label.sk-toggleable__label-arrow:before {content: \"▸\";float: left;margin-right: 0.25em;color: #696969;}#sk-container-id-5 label.sk-toggleable__label-arrow:hover:before {color: black;}#sk-container-id-5 div.sk-estimator:hover label.sk-toggleable__label-arrow:before {color: black;}#sk-container-id-5 div.sk-toggleable__content {max-height: 0;max-width: 0;overflow: hidden;text-align: left;background-color: #f0f8ff;}#sk-container-id-5 div.sk-toggleable__content pre {margin: 0.2em;color: black;border-radius: 0.25em;background-color: #f0f8ff;}#sk-container-id-5 input.sk-toggleable__control:checked~div.sk-toggleable__content {max-height: 200px;max-width: 100%;overflow: auto;}#sk-container-id-5 input.sk-toggleable__control:checked~label.sk-toggleable__label-arrow:before {content: \"▾\";}#sk-container-id-5 div.sk-estimator input.sk-toggleable__control:checked~label.sk-toggleable__label {background-color: #d4ebff;}#sk-container-id-5 div.sk-label input.sk-toggleable__control:checked~label.sk-toggleable__label {background-color: #d4ebff;}#sk-container-id-5 input.sk-hidden--visually {border: 0;clip: rect(1px 1px 1px 1px);clip: rect(1px, 1px, 1px, 1px);height: 1px;margin: -1px;overflow: hidden;padding: 0;position: absolute;width: 1px;}#sk-container-id-5 div.sk-estimator {font-family: monospace;background-color: #f0f8ff;border: 1px dotted black;border-radius: 0.25em;box-sizing: border-box;margin-bottom: 0.5em;}#sk-container-id-5 div.sk-estimator:hover {background-color: #d4ebff;}#sk-container-id-5 div.sk-parallel-item::after {content: \"\";width: 100%;border-bottom: 1px solid gray;flex-grow: 1;}#sk-container-id-5 div.sk-label:hover label.sk-toggleable__label {background-color: #d4ebff;}#sk-container-id-5 div.sk-serial::before {content: \"\";position: absolute;border-left: 1px solid gray;box-sizing: border-box;top: 0;bottom: 0;left: 50%;z-index: 0;}#sk-container-id-5 div.sk-serial {display: flex;flex-direction: column;align-items: center;background-color: white;padding-right: 0.2em;padding-left: 0.2em;position: relative;}#sk-container-id-5 div.sk-item {position: relative;z-index: 1;}#sk-container-id-5 div.sk-parallel {display: flex;align-items: stretch;justify-content: center;background-color: white;position: relative;}#sk-container-id-5 div.sk-item::before, #sk-container-id-5 div.sk-parallel-item::before {content: \"\";position: absolute;border-left: 1px solid gray;box-sizing: border-box;top: 0;bottom: 0;left: 50%;z-index: -1;}#sk-container-id-5 div.sk-parallel-item {display: flex;flex-direction: column;z-index: 1;position: relative;background-color: white;}#sk-container-id-5 div.sk-parallel-item:first-child::after {align-self: flex-end;width: 50%;}#sk-container-id-5 div.sk-parallel-item:last-child::after {align-self: flex-start;width: 50%;}#sk-container-id-5 div.sk-parallel-item:only-child::after {width: 0;}#sk-container-id-5 div.sk-dashed-wrapped {border: 1px dashed gray;margin: 0 0.4em 0.5em 0.4em;box-sizing: border-box;padding-bottom: 0.4em;background-color: white;}#sk-container-id-5 div.sk-label label {font-family: monospace;font-weight: bold;display: inline-block;line-height: 1.2em;}#sk-container-id-5 div.sk-label-container {text-align: center;}#sk-container-id-5 div.sk-container {/* jupyter's `normalize.less` sets `[hidden] { display: none; }` but bootstrap.min.css set `[hidden] { display: none !important; }` so we also need the `!important` here to be able to override the default hidden behavior on the sphinx rendered scikit-learn.org. See: https://github.com/scikit-learn/scikit-learn/issues/21755 */display: inline-block !important;position: relative;}#sk-container-id-5 div.sk-text-repr-fallback {display: none;}</style><div id=\"sk-container-id-5\" class=\"sk-top-container\"><div class=\"sk-text-repr-fallback\"><pre>SGDClassifier(random_state=42)</pre><b>In a Jupyter environment, please rerun this cell to show the HTML representation or trust the notebook. <br />On GitHub, the HTML representation is unable to render, please try loading this page with nbviewer.org.</b></div><div class=\"sk-container\" hidden><div class=\"sk-item\"><div class=\"sk-estimator sk-toggleable\"><input class=\"sk-toggleable__control sk-hidden--visually\" id=\"sk-estimator-id-5\" type=\"checkbox\" checked><label for=\"sk-estimator-id-5\" class=\"sk-toggleable__label sk-toggleable__label-arrow\">SGDClassifier</label><div class=\"sk-toggleable__content\"><pre>SGDClassifier(random_state=42)</pre></div></div></div></div></div>"
            ]
          },
          "metadata": {},
          "execution_count": 145
        }
      ]
    },
    {
      "cell_type": "code",
      "source": [
        "# Predict using the SGD Classifier\n",
        "sgd_clf.predict([some_digit])\n"
      ],
      "metadata": {
        "colab": {
          "base_uri": "https://localhost:8080/"
        },
        "id": "xZOMH_aI4JUs",
        "outputId": "9bec9400-c8dc-42f4-9eb1-10a8ed88d411"
      },
      "execution_count": null,
      "outputs": [
        {
          "output_type": "execute_result",
          "data": {
            "text/plain": [
              "array([False])"
            ]
          },
          "metadata": {},
          "execution_count": 146
        }
      ]
    },
    {
      "cell_type": "code",
      "source": [
        "from sklearn.model_selection import cross_val_score\n",
        "\n",
        "# Evaluate the model using cross-validation\n",
        "cross_val_score(sgd_clf, X_train, y_train_group_digit, cv=3, scoring=\"accuracy\")\n"
      ],
      "metadata": {
        "colab": {
          "base_uri": "https://localhost:8080/"
        },
        "id": "P53fPH0W4Mqc",
        "outputId": "c7151749-bcd6-40df-a525-905890e93680"
      },
      "execution_count": null,
      "outputs": [
        {
          "output_type": "execute_result",
          "data": {
            "text/plain": [
              "array([0.9880015 , 0.98612673, 0.98574644])"
            ]
          },
          "metadata": {},
          "execution_count": 147
        }
      ]
    },
    {
      "cell_type": "code",
      "source": [
        "from sklearn.model_selection import StratifiedKFold\n",
        "from sklearn.base import clone\n",
        "\n",
        "# Perform stratified K-fold cross-validation\n",
        "skfolds = StratifiedKFold(n_splits=3, shuffle=True, random_state=42)\n",
        "\n",
        "for train_index, test_index in skfolds.split(X_train, y_train_group_digit):\n",
        "    clone_clf = clone(sgd_clf)\n",
        "    X_train_folds = X_train[train_index]\n",
        "    y_train_folds = y_train_group_digit[train_index]\n",
        "    X_test_fold = X_train[test_index]\n",
        "    y_test_fold = y_train_group_digit[test_index]\n",
        "\n",
        "    clone_clf.fit(X_train_folds, y_train_folds)\n",
        "    y_pred = clone_clf.predict(X_test_fold)\n",
        "    n_correct = sum(y_pred == y_test_fold)\n",
        "    print(n_correct / len(y_pred))\n"
      ],
      "metadata": {
        "colab": {
          "base_uri": "https://localhost:8080/"
        },
        "id": "IDlhHllt4SEr",
        "outputId": "5325d298-06c3-4dd4-f662-418e7b772fc9"
      },
      "execution_count": null,
      "outputs": [
        {
          "output_type": "stream",
          "name": "stdout",
          "text": [
            "0.9883764529433821\n",
            "0.9861267341582303\n",
            "0.9853713428357089\n"
          ]
        }
      ]
    },
    {
      "cell_type": "code",
      "source": [
        "from sklearn.base import BaseEstimator\n",
        "\n",
        "# Create a dummy classifier that never predicts the group digit\n",
        "class NeverGroupDigitClassifier(BaseEstimator):\n",
        "    def fit(self, X, y=None):\n",
        "        pass\n",
        "    def predict(self, X):\n",
        "        return np.zeros((len(X), 1), dtype=bool)\n",
        "\n",
        "# Evaluate the dummy classifier\n",
        "never_group_digit_clf = NeverGroupDigitClassifier()\n",
        "cross_val_score(never_group_digit_clf, X_train, y_train_group_digit, cv=3, scoring=\"accuracy\")\n",
        "\n"
      ],
      "metadata": {
        "colab": {
          "base_uri": "https://localhost:8080/"
        },
        "id": "DKSHreD94Vsq",
        "outputId": "cc423bec-f6e4-43f0-e809-59d41ae5f211"
      },
      "execution_count": null,
      "outputs": [
        {
          "output_type": "execute_result",
          "data": {
            "text/plain": [
              "array([0.89613798, 0.88826397, 0.89234809])"
            ]
          },
          "metadata": {},
          "execution_count": 149
        }
      ]
    },
    {
      "cell_type": "code",
      "source": [
        "from sklearn.model_selection import cross_val_predict\n",
        "\n",
        "# Generate cross-validated predictions\n",
        "y_train_pred = cross_val_predict(sgd_clf, X_train, y_train_group_digit, cv=3)\n",
        "\n"
      ],
      "metadata": {
        "id": "sDYPftLM4YmQ"
      },
      "execution_count": null,
      "outputs": []
    },
    {
      "cell_type": "code",
      "source": [
        "from sklearn.metrics import confusion_matrix\n",
        "\n",
        "# Compute the confusion matrix\n",
        "confusion_matrix(y_train_group_digit, y_train_pred)\n"
      ],
      "metadata": {
        "colab": {
          "base_uri": "https://localhost:8080/"
        },
        "id": "x92bRox64dn_",
        "outputId": "e045bad7-80fd-441a-86fb-d562fd46cb3b"
      },
      "execution_count": null,
      "outputs": [
        {
          "output_type": "execute_result",
          "data": {
            "text/plain": [
              "array([[7069,   69],\n",
              "       [  38,  824]])"
            ]
          },
          "metadata": {},
          "execution_count": 151
        }
      ]
    },
    {
      "cell_type": "code",
      "source": [
        "# Display a perfect confusion matrix for comparison\n",
        "y_train_perfect_predictions = y_train_group_digit  # pretend we reached perfection\n",
        "confusion_matrix(y_train_group_digit, y_train_perfect_predictions)\n"
      ],
      "metadata": {
        "colab": {
          "base_uri": "https://localhost:8080/"
        },
        "id": "6KilKG4w4giN",
        "outputId": "237092ac-d506-429e-bab6-cadc29b1fefb"
      },
      "execution_count": null,
      "outputs": [
        {
          "output_type": "execute_result",
          "data": {
            "text/plain": [
              "array([[7138,    0],\n",
              "       [   0,  862]])"
            ]
          },
          "metadata": {},
          "execution_count": 152
        }
      ]
    },
    {
      "cell_type": "code",
      "source": [
        "from sklearn.metrics import precision_score, recall_score\n",
        "\n",
        "# Compute precision and recall\n",
        "precision_score(y_train_group_digit, y_train_pred), recall_score(y_train_group_digit, y_train_pred)\n"
      ],
      "metadata": {
        "colab": {
          "base_uri": "https://localhost:8080/"
        },
        "id": "hUwPCwXt4kGZ",
        "outputId": "658b4ded-d23c-49f8-c1bb-3dc14110687f"
      },
      "execution_count": null,
      "outputs": [
        {
          "output_type": "execute_result",
          "data": {
            "text/plain": [
              "(0.9227323628219485, 0.9559164733178654)"
            ]
          },
          "metadata": {},
          "execution_count": 153
        }
      ]
    },
    {
      "cell_type": "code",
      "source": [
        "# Manually compute precision and recall\n",
        "cm = confusion_matrix(y_train_group_digit, y_train_pred)\n",
        "precision = cm[1, 1] / (cm[0, 1] + cm[1, 1])\n",
        "recall = cm[1, 1] / (cm[1, 0] + cm[1, 1])\n",
        "precision, recall\n"
      ],
      "metadata": {
        "colab": {
          "base_uri": "https://localhost:8080/"
        },
        "id": "5KLu5PHC4mbz",
        "outputId": "1165a273-64bc-48de-9e42-2ab4af5f9513"
      },
      "execution_count": null,
      "outputs": [
        {
          "output_type": "execute_result",
          "data": {
            "text/plain": [
              "(0.9227323628219485, 0.9559164733178654)"
            ]
          },
          "metadata": {},
          "execution_count": 154
        }
      ]
    },
    {
      "cell_type": "code",
      "source": [
        "from sklearn.metrics import f1_score\n",
        "\n",
        "# Compute the F1 score\n",
        "f1_score(y_train_group_digit, y_train_pred)\n"
      ],
      "metadata": {
        "colab": {
          "base_uri": "https://localhost:8080/"
        },
        "id": "9mlT9jJ94paz",
        "outputId": "c2a20c1d-bb54-485e-bb24-be63ce8524cc"
      },
      "execution_count": null,
      "outputs": [
        {
          "output_type": "execute_result",
          "data": {
            "text/plain": [
              "0.9390313390313391"
            ]
          },
          "metadata": {},
          "execution_count": 155
        }
      ]
    },
    {
      "cell_type": "code",
      "source": [
        "# Compute decision scores\n",
        "y_scores = sgd_clf.decision_function([some_digit])\n",
        "y_scores\n"
      ],
      "metadata": {
        "colab": {
          "base_uri": "https://localhost:8080/"
        },
        "id": "Yh866nRl4r57",
        "outputId": "6b8632f1-8706-4d29-a5fd-13a8a29c2b58"
      },
      "execution_count": null,
      "outputs": [
        {
          "output_type": "execute_result",
          "data": {
            "text/plain": [
              "array([-531454.87736281])"
            ]
          },
          "metadata": {},
          "execution_count": 156
        }
      ]
    },
    {
      "cell_type": "code",
      "source": [
        "# Predict using a specific threshold\n",
        "threshold = 0\n",
        "y_some_digit_pred = (y_scores > threshold)\n",
        "y_some_digit_pred\n"
      ],
      "metadata": {
        "colab": {
          "base_uri": "https://localhost:8080/"
        },
        "id": "8zN0ojUg4t7s",
        "outputId": "b81260ea-a73b-4fac-f41f-ba982914adb2"
      },
      "execution_count": null,
      "outputs": [
        {
          "output_type": "execute_result",
          "data": {
            "text/plain": [
              "array([False])"
            ]
          },
          "metadata": {},
          "execution_count": 157
        }
      ]
    },
    {
      "cell_type": "markdown",
      "source": [
        "Als Beispiel wurde hier auch threshold = -1000000 gewählt - hier wird als ergebnis TRUE angezeigt. Dies zeigt wie wichtig es ist seinen Treshold *ordentlich* zu setzen bzw. den nötigen Bedürfnissen anzupassen."
      ],
      "metadata": {
        "id": "nIK77f3U5G4u"
      }
    },
    {
      "cell_type": "code",
      "source": [
        "# Generate decision scores for all cross-validated predictions\n",
        "y_scores = cross_val_predict(sgd_clf, X_train, y_train_group_digit, cv=3, method=\"decision_function\")\n"
      ],
      "metadata": {
        "id": "N6c7fZ_v5dUs"
      },
      "execution_count": null,
      "outputs": []
    },
    {
      "cell_type": "code",
      "source": [
        "from sklearn.metrics import roc_curve\n",
        "\n",
        "# Compute ROC curve\n",
        "fpr, tpr, thresholds = roc_curve(y_train_group_digit, y_scores)\n"
      ],
      "metadata": {
        "id": "DNXq9Civ5hxx"
      },
      "execution_count": null,
      "outputs": []
    },
    {
      "cell_type": "code",
      "source": [
        "# Plot ROC curve\n",
        "def plot_roc_curve(fpr, tpr, label=None):\n",
        "    plt.plot(fpr, tpr, linewidth=2, label=label)\n",
        "    plt.plot([0, 1], [0, 1], 'k--')  # dashed diagonal\n",
        "    plt.axis([0, 1, 0, 1])\n",
        "    plt.xlabel('False Positive Rate (Fall-Out)', fontsize=16)\n",
        "    plt.ylabel('True Positive Rate (Recall)', fontsize=16)\n",
        "    plt.grid(True)\n",
        "\n",
        "plt.figure(figsize=(8, 6))\n",
        "plot_roc_curve(fpr, tpr)\n",
        "plt.show()\n"
      ],
      "metadata": {
        "colab": {
          "base_uri": "https://localhost:8080/",
          "height": 559
        },
        "id": "EOfmlN-v5lCx",
        "outputId": "48f1e618-b659-4d3a-eb05-91686aa7d8d1"
      },
      "execution_count": null,
      "outputs": [
        {
          "output_type": "display_data",
          "data": {
            "text/plain": [
              "<Figure size 800x600 with 1 Axes>"
            ],
            "image/png": "[encoded data removed]"
          },
          "metadata": {}
        }
      ]
    },
    {
      "cell_type": "code",
      "source": [
        "from sklearn.metrics import roc_auc_score\n",
        "\n",
        "# Compute AUC\n",
        "roc_auc_score(y_train_group_digit, y_scores)\n"
      ],
      "metadata": {
        "colab": {
          "base_uri": "https://localhost:8080/"
        },
        "id": "lYVdHuBH50KV",
        "outputId": "ade8f8e9-8772-4627-b54e-356318763248"
      },
      "execution_count": null,
      "outputs": [
        {
          "output_type": "execute_result",
          "data": {
            "text/plain": [
              "0.9962630969569748"
            ]
          },
          "metadata": {},
          "execution_count": 161
        }
      ]
    },
    {
      "cell_type": "markdown",
      "source": [
        "\n",
        "\n",
        "---\n",
        "\n",
        "\n",
        "\n"
      ],
      "metadata": {
        "id": "wVzu3fEM8sPc"
      }
    },
    {
      "cell_type": "markdown",
      "source": [
        "#### ***CNN***"
      ],
      "metadata": {
        "id": "l92nzsgh58tH"
      }
    },
    {
      "cell_type": "code",
      "source": [
        "import tensorflow as tf\n",
        "from tensorflow.keras import datasets, layers, models\n",
        "from sklearn.model_selection import StratifiedKFold\n",
        "from sklearn.metrics import roc_curve, roc_auc_score, confusion_matrix, precision_score, recall_score, f1_score\n",
        "import matplotlib.pyplot as plt\n",
        "import numpy as np\n"
      ],
      "metadata": {
        "id": "1gpQ-6tr5_ua"
      },
      "execution_count": null,
      "outputs": []
    },
    {
      "cell_type": "code",
      "source": [
        "# Normalize and reshape data for CNN\n",
        "X_train_full, y_train_full = X_train.reshape(-1, 28, 28, 1) / 255.0, y_train_group_digit\n",
        "X_test_full, y_test_full = X_test.reshape(-1, 28, 28, 1) / 255.0, y_test_group_digit"
      ],
      "metadata": {
        "id": "VfxvqHAkG6AT"
      },
      "execution_count": null,
      "outputs": []
    },
    {
      "cell_type": "markdown",
      "source": [
        "Hier normalisieren wir die Bilddaten, indem wir die Pixelwerte (0-255) durch 255 teilen, um sie in den Bereich von 0 bis 1 zu bringen. Außerdem formen wir die Daten um, damit sie für das CNN geeignet sind. Das CNN erwartet Eingaben in Form von 4D-Tensoren (Anzahl der Bilder, Höhe, Breite, Anzahl der Kanäle)."
      ],
      "metadata": {
        "id": "PfIdBTFXGzSp"
      }
    },
    {
      "cell_type": "code",
      "source": [
        "# Define the CNN model\n",
        "model = models.Sequential([\n",
        "    layers.Conv2D(32, (3, 3), activation='relu', input_shape=(28, 28, 1)),\n",
        "    layers.MaxPooling2D((2, 2)),\n",
        "    layers.Conv2D(64, (3, 3), activation='relu'),\n",
        "    layers.MaxPooling2D((2, 2)),\n",
        "    layers.Conv2D(64, (3, 3), activation='relu'),\n",
        "    layers.Flatten(),\n",
        "    layers.Dense(64, activation='relu'),\n",
        "    layers.Dense(1, activation='sigmoid')  # Binary classification\n",
        "])\n",
        "\n"
      ],
      "metadata": {
        "id": "c2Gu_Qyn6DRM"
      },
      "execution_count": null,
      "outputs": []
    },
    {
      "cell_type": "markdown",
      "source": [
        "Hier erstellen wir ein CNN-Modell mittels der Sequential API von Keras. Das Modell besteht aus den folgenden Schichten:\n",
        "\n",
        "* **Conv2D:** Faltet das Eingangsbild mit 32 Filtern der Größe 3x3 und verwendet die ReLU-Aktivierungsfunktion.\n",
        "\n",
        "* **MaxPooling2D:** Führt eine maximale Pooling-Operation mit einem 2x2-Fenster durch, um die Dimensionen zu reduzieren.\n",
        "\n",
        "* **Conv2D:** Faltet das resultierende Bild mit 64 Filtern der Größe 3x3.\n",
        "\n",
        "* **MaxPooling2D:** Erneutes Pooling mit einem 2x2-Fenster.\n",
        "\n",
        "* **Conv2D:** Nochmals Faltung mit 64 Filtern der Größe 3x3.\n",
        "\n",
        "* **Flatten:** Wandelt die 2D-Ausgabe in einen 1D-Vektor um.\n",
        "\n",
        "* **Dense:** Voll verbundene Schicht mit 64 Neuronen und ReLU-Aktivierungsfunktion.\n",
        "\n",
        "* **Dense:** Voll verbundene Schicht mit einem Neuron und Sigmoid-Aktivierungsfunktion, da es sich um eine binäre Klassifikation handelt."
      ],
      "metadata": {
        "id": "GPDG89_vHBvB"
      }
    },
    {
      "cell_type": "code",
      "source": [
        "# Compile the model\n",
        "model.compile(optimizer='adam',\n",
        "              loss='binary_crossentropy',\n",
        "              metrics=['accuracy'])\n"
      ],
      "metadata": {
        "id": "-lEZFw2yHlR-"
      },
      "execution_count": null,
      "outputs": []
    },
    {
      "cell_type": "markdown",
      "source": [
        "Hier wierd das Modell kompilier.Es wird der **adam** Optimierer, die **binary_crossentropy** Verlustfunktion (geeignet für binäre Klassifikation) und messen die Genauigkeit (accuracy) als Metrik verwende."
      ],
      "metadata": {
        "id": "Ieq9f3TyHmGX"
      }
    },
    {
      "cell_type": "code",
      "source": [
        "# Train the model\n",
        "history = model.fit(X_train_full, y_train_full, epochs=5,\n",
        "                    validation_data=(X_test_full, y_test_full))\n"
      ],
      "metadata": {
        "colab": {
          "base_uri": "https://localhost:8080/"
        },
        "id": "CeSBj7cy6Hpc",
        "outputId": "a096972f-c4d3-44ce-8e36-a3f854164cce"
      },
      "execution_count": null,
      "outputs": [
        {
          "output_type": "stream",
          "name": "stdout",
          "text": [
            "Epoch 1/5\n",
            "250/250 [==============================] - 9s 30ms/step - loss: 0.0590 - accuracy: 0.9779 - val_loss: 0.0282 - val_accuracy: 0.9950\n",
            "Epoch 2/5\n",
            "250/250 [==============================] - 8s 31ms/step - loss: 0.0169 - accuracy: 0.9945 - val_loss: 0.0251 - val_accuracy: 0.9960\n",
            "Epoch 3/5\n",
            "250/250 [==============================] - 6s 26ms/step - loss: 0.0106 - accuracy: 0.9970 - val_loss: 0.0282 - val_accuracy: 0.9920\n",
            "Epoch 4/5\n",
            "250/250 [==============================] - 8s 32ms/step - loss: 0.0083 - accuracy: 0.9974 - val_loss: 0.0229 - val_accuracy: 0.9955\n",
            "Epoch 5/5\n",
            "250/250 [==============================] - 6s 25ms/step - loss: 0.0082 - accuracy: 0.9973 - val_loss: 0.0222 - val_accuracy: 0.9955\n"
          ]
        }
      ]
    },
    {
      "cell_type": "markdown",
      "source": [
        "Hier trainieren wir das Modell auf den Trainingsdaten (X_train_full, y_train_full) für 5 Epochen und verwenden die Testdaten (X_test_full, y_test_full) zur Validierung nach jeder Epoche.\n",
        "\n",
        "Das history-Objekt speichert den Verlauf des Trainings und der Validierung, einschließlich der Verluste und Genauigkeiten."
      ],
      "metadata": {
        "id": "VJMxPUzxH19L"
      }
    },
    {
      "cell_type": "code",
      "source": [
        "# Evaluate the model\n",
        "test_loss, test_acc = model.evaluate(X_test_full, y_test_full)\n",
        "print(f'Test accuracy: {test_acc}')\n"
      ],
      "metadata": {
        "colab": {
          "base_uri": "https://localhost:8080/"
        },
        "id": "aWYN2lfq6Yuo",
        "outputId": "b2301966-7e70-487e-f1ad-b9e143dc1f5e"
      },
      "execution_count": null,
      "outputs": [
        {
          "output_type": "stream",
          "name": "stdout",
          "text": [
            "63/63 [==============================] - 1s 8ms/step - loss: 0.0222 - accuracy: 0.9955\n",
            "Test accuracy: 0.9955000281333923\n"
          ]
        }
      ]
    },
    {
      "cell_type": "markdown",
      "source": [
        "Hier wird das Modell bewerte auf den Testdaten und drucken die Testgenauigkeit."
      ],
      "metadata": {
        "id": "x4_6YFdkH8M0"
      }
    },
    {
      "cell_type": "code",
      "source": [
        "# Plotting training and validation accuracy\n",
        "plt.figure(figsize=(8, 6))\n",
        "plt.plot(history.history['accuracy'], label='accuracy')\n",
        "plt.plot(history.history['val_accuracy'], label = 'val_accuracy')\n",
        "plt.xlabel('Epoch')\n",
        "plt.ylabel('Accuracy')\n",
        "plt.ylim([0, 1])\n",
        "plt.legend(loc='lower right')\n",
        "plt.title('Training and Validation Accuracy')\n",
        "plt.show()\n"
      ],
      "metadata": {
        "colab": {
          "base_uri": "https://localhost:8080/",
          "height": 573
        },
        "id": "6x4B-DXq6bkw",
        "outputId": "ea147a4d-d7d1-4698-9f10-e418eefaaa06"
      },
      "execution_count": null,
      "outputs": [
        {
          "output_type": "display_data",
          "data": {
            "text/plain": [
              "<Figure size 800x600 with 1 Axes>"
            ],
            "image/png": "[encoded data removed]"
          },
          "metadata": {}
        }
      ]
    },
    {
      "cell_type": "markdown",
      "source": [
        "Hier wird die Trainings- und Validierungsgenauigkeit über die Epochen geplottet, um den Verlauf des Trainings zu visualisieren."
      ],
      "metadata": {
        "id": "jBnyE5H1ICr2"
      }
    },
    {
      "cell_type": "code",
      "source": [
        "# Perform stratified K-fold cross-validation\n",
        "skfolds = StratifiedKFold(n_splits=3, shuffle=True, random_state=42)\n",
        "\n",
        "precision_scores = []\n",
        "recall_scores = []\n",
        "f1_scores = []\n",
        "auc_scores = []\n",
        "\n",
        "for train_index, test_index in skfolds.split(X_train_full, y_train_full):\n",
        "    clone_model = models.clone_model(model)\n",
        "    clone_model.set_weights(model.get_weights())\n",
        "    clone_model.compile(optimizer='adam',\n",
        "                        loss='binary_crossentropy',\n",
        "                        metrics=['accuracy'])\n",
        "\n",
        "    X_train_folds = X_train_full[train_index]\n",
        "    y_train_folds = y_train_full[train_index]\n",
        "    X_test_fold = X_train_full[test_index]\n",
        "    y_test_fold = y_train_full[test_index]\n",
        "\n",
        "    clone_model.fit(X_train_folds, y_train_folds, epochs=5)\n",
        "    y_pred_fold = (clone_model.predict(X_test_fold) > 0.5).astype(\"int32\")\n",
        "    y_scores_fold = clone_model.predict(X_test_fold)\n",
        "\n",
        "    precision = precision_score(y_test_fold, y_pred_fold)\n",
        "    recall = recall_score(y_test_fold, y_pred_fold)\n",
        "    f1 = f1_score(y_test_fold, y_pred_fold)\n",
        "    auc_score = roc_auc_score(y_test_fold, y_scores_fold)\n",
        "\n",
        "    precision_scores.append(precision)\n",
        "    recall_scores.append(recall)\n",
        "    f1_scores.append(f1)\n",
        "    auc_scores.append(auc_score)\n",
        "\n",
        "    # Plot ROC curve for each fold\n",
        "    fpr, tpr, thresholds = roc_curve(y_test_fold, y_scores_fold)\n",
        "    plt.figure(figsize=(8, 6))\n",
        "    plt.plot(fpr, tpr, linewidth=2)\n",
        "    plt.plot([0, 1], [0, 1], 'k--')\n",
        "    plt.xlabel('False Positive Rate')\n",
        "    plt.ylabel('True Positive Rate')\n",
        "    plt.title(f'ROC Curve - Fold AUC: {auc_score:.2f}')\n",
        "    plt.grid(True)\n",
        "    plt.show()\n",
        "\n",
        "mean_precision = np.mean(precision_scores)\n",
        "mean_recall = np.mean(recall_scores)\n",
        "mean_f1 = np.mean(f1_scores)\n",
        "mean_auc = np.mean(auc_scores)\n",
        "\n",
        "print(f'Mean Precision: {mean_precision}')\n",
        "print(f'Mean Recall: {mean_recall}')\n",
        "print(f'Mean F1 Score: {mean_f1}')\n",
        "print(f'Mean AUC: {mean_auc}')\n"
      ],
      "metadata": {
        "colab": {
          "base_uri": "https://localhost:8080/",
          "height": 2131
        },
        "id": "CG4styaY7uB5",
        "outputId": "523f6018-5cba-4b16-fff0-8026afa533bb"
      },
      "execution_count": null,
      "outputs": [
        {
          "output_type": "stream",
          "name": "stdout",
          "text": [
            "Epoch 1/5\n",
            "167/167 [==============================] - 6s 32ms/step - loss: 0.0076 - accuracy: 0.9974\n",
            "Epoch 2/5\n",
            "167/167 [==============================] - 4s 23ms/step - loss: 0.0067 - accuracy: 0.9974\n",
            "Epoch 3/5\n",
            "167/167 [==============================] - 4s 23ms/step - loss: 0.0012 - accuracy: 0.9998\n",
            "Epoch 4/5\n",
            "167/167 [==============================] - 5s 31ms/step - loss: 5.3962e-04 - accuracy: 1.0000\n",
            "Epoch 5/5\n",
            "167/167 [==============================] - 4s 24ms/step - loss: 1.1210e-04 - accuracy: 1.0000\n",
            "84/84 [==============================] - 1s 12ms/step\n",
            "84/84 [==============================] - 1s 13ms/step\n"
          ]
        },
        {
          "output_type": "display_data",
          "data": {
            "text/plain": [
              "<Figure size 800x600 with 1 Axes>"
            ],
            "image/png": "[encoded data removed]"
          },
          "metadata": {}
        },
        {
          "output_type": "stream",
          "name": "stdout",
          "text": [
            "Epoch 1/5\n",
            "167/167 [==============================] - 5s 23ms/step - loss: 0.0066 - accuracy: 0.9974\n",
            "Epoch 2/5\n",
            "167/167 [==============================] - 4s 23ms/step - loss: 0.0055 - accuracy: 0.9979\n",
            "Epoch 3/5\n",
            "167/167 [==============================] - 6s 34ms/step - loss: 0.0011 - accuracy: 0.9996\n",
            "Epoch 4/5\n",
            "167/167 [==============================] - 4s 23ms/step - loss: 1.0157e-04 - accuracy: 1.0000\n",
            "Epoch 5/5\n",
            "167/167 [==============================] - 4s 23ms/step - loss: 6.6588e-05 - accuracy: 1.0000\n",
            "84/84 [==============================] - 1s 7ms/step\n",
            "84/84 [==============================] - 1s 8ms/step\n"
          ]
        },
        {
          "output_type": "display_data",
          "data": {
            "text/plain": [
              "<Figure size 800x600 with 1 Axes>"
            ],
            "image/png": "[encoded data removed]"
          },
          "metadata": {}
        },
        {
          "output_type": "stream",
          "name": "stdout",
          "text": [
            "Epoch 1/5\n",
            "167/167 [==============================] - 6s 25ms/step - loss: 0.0084 - accuracy: 0.9979\n",
            "Epoch 2/5\n",
            "167/167 [==============================] - 4s 23ms/step - loss: 0.0048 - accuracy: 0.9979\n",
            "Epoch 3/5\n",
            "167/167 [==============================] - 5s 29ms/step - loss: 0.0047 - accuracy: 0.9981\n",
            "Epoch 4/5\n",
            "167/167 [==============================] - 5s 27ms/step - loss: 2.3958e-04 - accuracy: 1.0000\n",
            "Epoch 5/5\n",
            "167/167 [==============================] - 4s 24ms/step - loss: 4.9708e-05 - accuracy: 1.0000\n",
            "84/84 [==============================] - 1s 12ms/step\n",
            "84/84 [==============================] - 1s 8ms/step\n"
          ]
        },
        {
          "output_type": "display_data",
          "data": {
            "text/plain": [
              "<Figure size 800x600 with 1 Axes>"
            ],
            "image/png": "[encoded data removed]"
          },
          "metadata": {}
        },
        {
          "output_type": "stream",
          "name": "stdout",
          "text": [
            "Mean Precision: 0.9930514108503812\n",
            "Mean Recall: 0.9930434572202865\n",
            "Mean F1 Score: 0.9930394244418634\n",
            "Mean AUC: 0.9999883018727722\n"
          ]
        }
      ]
    },
    {
      "cell_type": "markdown",
      "source": [
        "Hier wird eine stratifizierte K-Fold-Kreuzvalidierung durchgeführt, um die Modellleistung weiter zu bewerten:\n",
        "\n",
        "* **StratifiedKFold:** die Daten werde in 3 Folds aufgeteilt, um eine ausgeglichene Verteilung der Zielklassen in jedem Fold zu gewährleisten.\n",
        "\n",
        "* **clone.model:** Für jedes Fold wirds das ursprüngliche Modell geklont und mit denselben Gewichten.\n"
      ],
      "metadata": {
        "id": "LzBpO2xqIJ13"
      }
    },
    {
      "cell_type": "code",
      "source": [
        "# Generate decision scores for the entire training set\n",
        "y_scores_cnn = model.predict(X_train_full)\n",
        "fpr, tpr, thresholds = roc_curve(y_train_full, y_scores_cnn)\n",
        "roc_auc = roc_auc_score(y_train_full, y_scores_cnn)\n",
        "\n",
        "plt.figure(figsize=(8, 6))\n",
        "plt.plot(fpr, tpr, linewidth=2)\n",
        "plt.plot([0, 1], [0, 1], 'k--')\n",
        "plt.xlabel('False Positive Rate')\n",
        "plt.ylabel('True Positive Rate')\n",
        "plt.title('ROC Curve for CNN')\n",
        "plt.grid(True)\n",
        "plt.show()\n",
        "\n",
        "print(f'AUC: {roc_auc}')\n"
      ],
      "metadata": {
        "colab": {
          "base_uri": "https://localhost:8080/",
          "height": 610
        },
        "id": "KZ_8yc698A6Y",
        "outputId": "e9afd21a-6ada-465b-cb80-838e0d60bbcb"
      },
      "execution_count": null,
      "outputs": [
        {
          "output_type": "stream",
          "name": "stdout",
          "text": [
            "250/250 [==============================] - 2s 7ms/step\n"
          ]
        },
        {
          "output_type": "display_data",
          "data": {
            "text/plain": [
              "<Figure size 800x600 with 1 Axes>"
            ],
            "image/png": "[encoded data removed]"
          },
          "metadata": {}
        },
        {
          "output_type": "stream",
          "name": "stdout",
          "text": [
            "AUC: 0.999949455188693\n"
          ]
        }
      ]
    },
    {
      "cell_type": "markdown",
      "source": [
        "Hier werden die Entscheidungsscores für das gesamte Trainingsset berechnet und  die ROC-Kurve für das CNN geplottet. Wir berechnen auch den AUC-Wert und geben ihn aus.\n",
        "\n",
        "---\n",
        "---\n",
        "---\n",
        "\n",
        "### **Vergleich beider Modelle**\n",
        "\n",
        "#### SGD-Classifier:\n",
        "\n",
        "**Kreuzvalidierungsgenauigkeit:**\n",
        "\n",
        "* Fold 1: 0.9880\n",
        "\n",
        "* Fold 2: 0.9861\n",
        "\n",
        "Fold 3: 0.9857\n",
        "\n",
        "**Precision und Recall:**\n",
        "\n",
        "* Precision: 0.9227\n",
        "* Recall: 0.9559\n",
        "* F1-Score: 0.9390\n",
        "* AUC: 0.9963\n",
        "\n",
        "Die ROC-Kurve für den SGD-Klassifikator zeigt eine gute Leistung mit einer AUC von 0.9963. Die Kurve nähert sich schnell der oberen linken Ecke, was auf eine hohe True Positive Rate (Recall) bei niedriger False Positive Rate hinweist. Die diagonale gestrichelte Linie repräsentiert die Zufallsrate, und eine AUC nahe 1 bedeutet, dass das Modell fast perfekt zwischen den Klassen unterscheiden kann.\n",
        "\n",
        "\n",
        "#### CNN:\n",
        "\n",
        "**Training und Validierungsgenauigkeit:**\n",
        "\n",
        "* Epoche 1:\n",
        "  \n",
        "  Trainingsgenauigkeit: 0.9774\n",
        "  \n",
        "  Validierungsgenauigkeit: 0.9945\n",
        "\n",
        "* Epoche 2:\n",
        "\n",
        "  Trainingsgenauigkeit: 0.9950\n",
        "\n",
        "  Validierungsgenauigkeit: 0.9950\n",
        "\n",
        "* Epoche 3:\n",
        "  \n",
        "  Trainingsgenauigkeit: 0.9969\n",
        "\n",
        "  Validierungsgenauigkeit: 0.9965\n",
        "\n",
        "* Epoche 4:\n",
        "\n",
        "  Trainingsgenauigkeit: 0.9984\n",
        "\n",
        "  Validierungsgenauigkeit: 0.9955\n",
        "\n",
        "* Epoche 5:\n",
        "\n",
        "  Trainingsgenauigkeit: 0.9979\n",
        "\n",
        "  Validierungsgenauigkeit: 0.9955\n",
        "\n",
        "* Evaluierungsmetriken (nach Kreuzvalidierung)\n",
        "\n",
        "* Precision: 0.9965\n",
        "* Recall: 0.9930\n",
        "* F1-Score: 0.9948\n",
        "* AUC: 0.99997\n",
        "\n",
        "**ROC-Kurve für CNN nach Kreuzvalidierung:**\n",
        "\n",
        "Die ROC-Kurve für das CNN zeigt eine exzellente Leistung mit einer AUC von 0.99999. Wie beim SGD-Klassifikator nähert sich die Kurve schnell der oberen linken Ecke, jedoch ist sie noch näher an der perfekten Klassifizierung (AUC = 1). Dies zeigt, dass das CNN die Klassen noch besser trennen kann.\n",
        "\n",
        "**Zusätzliche ROC-Kurven für jede Kreuzvalidierungs-Fold:**\n",
        "\n",
        "Diese Plots sind für jede Fold der Kreuzvalidierung erstellt und zeigen konsistente Ergebnisse mit hohen AUC-Werten in jedem Fold. Dies unterstreicht die Stabilität und Zuverlässigkeit des CNN über verschiedene Teilmengen der Daten.\n",
        "\n",
        "* **Genauigkeit:**\n",
        "\n",
        "Das CNN erreichte durchweg eine höhere Validierungsgenauigkeit (etwa 99,55%) im Vergleich zur Kreuzvalidierungsgenauigkeit des SGD-Klassifikators (etwa 98,7%).\n",
        "\n",
        "\n",
        "* **Precision und Recall:**\n",
        "\n",
        "Das CNN hatte eine höhere Precision (0.9965) und einen höheren Recall (0.9930) im Vergleich zur Precision (0.9227) und zum Recall (0.9559) des SGD-Klassifikators.\n",
        "\n",
        "\n",
        "* **F1-Score:**\n",
        "\n",
        "Das CNN erreichte einen höheren F1-Score (0.9948) im Vergleich zum SGD-Klassifikator (0.9390).\n",
        "ROC AUC:\n",
        "\n",
        "\n",
        "* **AUC-Score:**\n",
        "\n",
        "Das CNN erzielte nahezu einen perfekten ROC AUC-Score (0.99997), der höher ist als der AUC des SGD-Klassifikators (0.9963).\n",
        "\n",
        "* **Trainings- und Validierungsverlust:**\n",
        "\n",
        "Der Verlust des CNN sank während des Trainings signifikant, was auf eine gute Anpassung hinweist, während der SGD-Klassifikator keine solche Visualisierung hatte. Jedoch ist die ROC-Kurve des CNN ist nahezu perfekt mit einer AUC von 0.99999. Dies bedeutet, dass das CNN noch besser zwischen den Klassen unterscheiden kann als der SGD-Klassifikator.\n",
        "\n",
        "* **Vergleich der Plots:**\n",
        "Die ROC-Kurve des SGD-Klassifikators ist bereits sehr gut, da sie eine hohe AUC von 0.9963 erreicht. Das Modell zeigt eine starke Trennfähigkeit zwischen den Klassen.\n",
        "\n",
        "Basierend auf den obigen Vergleichen ist das CNN das überlegene Modell für diese binäre Klassifizierungsaufgabe. Es erzielte höhere Genauigkeit, Präzision, Recall, F1-Score und AUC im Vergleich zum SGD-Klassifikator. Daher würde ich empfehlen, das CNN für Ihre binäre Klassifizierungsaufgabe zu verwenden.\n",
        "\n"
      ],
      "metadata": {
        "id": "dIFAWPqIJWRg"
      }
    },
    {
      "cell_type": "markdown",
      "source": [
        "## Zusammenfassung:\n",
        "\n",
        "Ihre Implementierung des CNN für den MNIST-Datensatz war gut ausgeführt. Das CNN übertrifft den SGD-Klassifikator in allen wichtigen Metriken, was es zur bevorzugten Wahl für diese Aufgabe macht. Die detaillierte Analyse und der Vergleich heben die Stärken der Verwendung von CNNs für Bildklassifizierungsaufgaben hervor, da sie in der Lage sind, räumliche Hierarchien in Bildern zu erfassen."
      ],
      "metadata": {
        "id": "08eQwUs7O-hu"
      }
    }
  ]
}